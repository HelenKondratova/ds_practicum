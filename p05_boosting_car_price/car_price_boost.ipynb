{
 "cells": [
  {
   "cell_type": "markdown",
   "metadata": {},
   "source": [
    "# Определение стоимости автомобилей <a id=\"title\"></a>"
   ]
  },
  {
   "cell_type": "markdown",
   "metadata": {},
   "source": [
    "**Цель исследования**:\n",
    "\n",
    "1. Проанализировать данные о технических характеристиках, комплектации и ценах автомобилей.\n",
    "2. Разработать модель, которая будет определять стоимость автомобиля по его характеристикам. Заказчику важно как качество модели, так и скорость обучения и предсказания.\n",
    "\n",
    "\n",
    "**Ход исследования**:\n",
    "\n",
    "Основные данные получаем из файла: ```autos.csv```. Он содержит исторические данные из анкет клиентов сервиса по продаже автомобилей с пробегом.\n",
    "\n",
    "Мы проверим данные на наличие пропусков и дубликатов, приведем данные к нужному формату. \n",
    "Затем проведем анализ данных, опишем общую информацию о характеристиках автомобилей в таблице. Проверим данные на наличие аномальных значений. \n",
    "После чего подготовим выборку для обучения моделей. Обучим разные модели, одна из которых — LightGBM, как минимум одна — не бустинг. Для каждой модели подберем гиперпараметры.\n",
    "Затем проанализируем время обучения, время предсказания и качество моделей.\n",
    "Наконец, опираясь на критерии заказчика, выберем лучшую модель и проверим её качество на тестовой выборке.\n",
    "\n",
    "Таким образом, исследование пройдет в 7 этапов\n",
    "1. Загрузка данных\n",
    "2. Предобработка данных\n",
    "3. Исследовательский анализ данных\n",
    "4. Подготовка выборки, использование пайплайнов для подбора гиперпараметров моделей\n",
    "5. Анализ качества и скорости моделей с подобранными на предыдущем шаге гиперпараметрами\n",
    "6. Выбор лучшей модели, получение результатов на тестовой выборке\n",
    "7. Написание общего вывода"
   ]
  },
  {
   "cell_type": "markdown",
   "metadata": {},
   "source": [
    "## Подготовка данных"
   ]
  },
  {
   "cell_type": "markdown",
   "metadata": {},
   "source": [
    "### Импорт библиотек и объявление констант"
   ]
  },
  {
   "cell_type": "code",
   "execution_count": 2,
   "metadata": {},
   "outputs": [],
   "source": [
    "import pandas as pd\n",
    "import numpy as np\n",
    "import matplotlib.pyplot as plt\n",
    "\n",
    "from sklearn.linear_model import LinearRegression\n",
    "from sklearn.tree import DecisionTreeRegressor\n",
    "from sklearn.model_selection import train_test_split, GridSearchCV, RandomizedSearchCV\n",
    "from sklearn.metrics import mean_squared_error\n",
    "from sklearn.preprocessing import OneHotEncoder, OrdinalEncoder, StandardScaler\n",
    "from sklearn.pipeline import Pipeline\n",
    "from sklearn.compose import ColumnTransformer\n",
    "from sklearn.impute import SimpleImputer \n",
    "\n",
    "from lightgbm import LGBMRegressor\n",
    "from catboost import CatBoostRegressor\n",
    "\n",
    "from phik import phik_matrix\n",
    "from phik.report import plot_correlation_matrix"
   ]
  },
  {
   "cell_type": "code",
   "execution_count": 3,
   "metadata": {},
   "outputs": [],
   "source": [
    "RANDOM_STATE = 42\n",
    "RMSE_THRESHOLD = 2500"
   ]
  },
  {
   "cell_type": "markdown",
   "metadata": {},
   "source": [
    "### Загрузка данных"
   ]
  },
  {
   "cell_type": "code",
   "execution_count": 4,
   "metadata": {},
   "outputs": [],
   "source": [
    "data = pd.read_csv('./datasets/autos.csv')"
   ]
  },
  {
   "cell_type": "markdown",
   "metadata": {},
   "source": [
    "Посмотрим на первые строки датафрейма."
   ]
  },
  {
   "cell_type": "code",
   "execution_count": 5,
   "metadata": {},
   "outputs": [
    {
     "data": {
      "text/html": [
       "<div>\n",
       "<style scoped>\n",
       "    .dataframe tbody tr th:only-of-type {\n",
       "        vertical-align: middle;\n",
       "    }\n",
       "\n",
       "    .dataframe tbody tr th {\n",
       "        vertical-align: top;\n",
       "    }\n",
       "\n",
       "    .dataframe thead th {\n",
       "        text-align: right;\n",
       "    }\n",
       "</style>\n",
       "<table border=\"1\" class=\"dataframe\">\n",
       "  <thead>\n",
       "    <tr style=\"text-align: right;\">\n",
       "      <th></th>\n",
       "      <th>DateCrawled</th>\n",
       "      <th>Price</th>\n",
       "      <th>VehicleType</th>\n",
       "      <th>RegistrationYear</th>\n",
       "      <th>Gearbox</th>\n",
       "      <th>Power</th>\n",
       "      <th>Model</th>\n",
       "      <th>Kilometer</th>\n",
       "      <th>RegistrationMonth</th>\n",
       "      <th>FuelType</th>\n",
       "      <th>Brand</th>\n",
       "      <th>Repaired</th>\n",
       "      <th>DateCreated</th>\n",
       "      <th>NumberOfPictures</th>\n",
       "      <th>PostalCode</th>\n",
       "      <th>LastSeen</th>\n",
       "    </tr>\n",
       "  </thead>\n",
       "  <tbody>\n",
       "    <tr>\n",
       "      <th>0</th>\n",
       "      <td>2016-03-24 11:52:17</td>\n",
       "      <td>480</td>\n",
       "      <td>NaN</td>\n",
       "      <td>1993</td>\n",
       "      <td>manual</td>\n",
       "      <td>0</td>\n",
       "      <td>golf</td>\n",
       "      <td>150000</td>\n",
       "      <td>0</td>\n",
       "      <td>petrol</td>\n",
       "      <td>volkswagen</td>\n",
       "      <td>NaN</td>\n",
       "      <td>2016-03-24 00:00:00</td>\n",
       "      <td>0</td>\n",
       "      <td>70435</td>\n",
       "      <td>2016-04-07 03:16:57</td>\n",
       "    </tr>\n",
       "    <tr>\n",
       "      <th>1</th>\n",
       "      <td>2016-03-24 10:58:45</td>\n",
       "      <td>18300</td>\n",
       "      <td>coupe</td>\n",
       "      <td>2011</td>\n",
       "      <td>manual</td>\n",
       "      <td>190</td>\n",
       "      <td>NaN</td>\n",
       "      <td>125000</td>\n",
       "      <td>5</td>\n",
       "      <td>gasoline</td>\n",
       "      <td>audi</td>\n",
       "      <td>yes</td>\n",
       "      <td>2016-03-24 00:00:00</td>\n",
       "      <td>0</td>\n",
       "      <td>66954</td>\n",
       "      <td>2016-04-07 01:46:50</td>\n",
       "    </tr>\n",
       "    <tr>\n",
       "      <th>2</th>\n",
       "      <td>2016-03-14 12:52:21</td>\n",
       "      <td>9800</td>\n",
       "      <td>suv</td>\n",
       "      <td>2004</td>\n",
       "      <td>auto</td>\n",
       "      <td>163</td>\n",
       "      <td>grand</td>\n",
       "      <td>125000</td>\n",
       "      <td>8</td>\n",
       "      <td>gasoline</td>\n",
       "      <td>jeep</td>\n",
       "      <td>NaN</td>\n",
       "      <td>2016-03-14 00:00:00</td>\n",
       "      <td>0</td>\n",
       "      <td>90480</td>\n",
       "      <td>2016-04-05 12:47:46</td>\n",
       "    </tr>\n",
       "    <tr>\n",
       "      <th>3</th>\n",
       "      <td>2016-03-17 16:54:04</td>\n",
       "      <td>1500</td>\n",
       "      <td>small</td>\n",
       "      <td>2001</td>\n",
       "      <td>manual</td>\n",
       "      <td>75</td>\n",
       "      <td>golf</td>\n",
       "      <td>150000</td>\n",
       "      <td>6</td>\n",
       "      <td>petrol</td>\n",
       "      <td>volkswagen</td>\n",
       "      <td>no</td>\n",
       "      <td>2016-03-17 00:00:00</td>\n",
       "      <td>0</td>\n",
       "      <td>91074</td>\n",
       "      <td>2016-03-17 17:40:17</td>\n",
       "    </tr>\n",
       "    <tr>\n",
       "      <th>4</th>\n",
       "      <td>2016-03-31 17:25:20</td>\n",
       "      <td>3600</td>\n",
       "      <td>small</td>\n",
       "      <td>2008</td>\n",
       "      <td>manual</td>\n",
       "      <td>69</td>\n",
       "      <td>fabia</td>\n",
       "      <td>90000</td>\n",
       "      <td>7</td>\n",
       "      <td>gasoline</td>\n",
       "      <td>skoda</td>\n",
       "      <td>no</td>\n",
       "      <td>2016-03-31 00:00:00</td>\n",
       "      <td>0</td>\n",
       "      <td>60437</td>\n",
       "      <td>2016-04-06 10:17:21</td>\n",
       "    </tr>\n",
       "    <tr>\n",
       "      <th>5</th>\n",
       "      <td>2016-04-04 17:36:23</td>\n",
       "      <td>650</td>\n",
       "      <td>sedan</td>\n",
       "      <td>1995</td>\n",
       "      <td>manual</td>\n",
       "      <td>102</td>\n",
       "      <td>3er</td>\n",
       "      <td>150000</td>\n",
       "      <td>10</td>\n",
       "      <td>petrol</td>\n",
       "      <td>bmw</td>\n",
       "      <td>yes</td>\n",
       "      <td>2016-04-04 00:00:00</td>\n",
       "      <td>0</td>\n",
       "      <td>33775</td>\n",
       "      <td>2016-04-06 19:17:07</td>\n",
       "    </tr>\n",
       "    <tr>\n",
       "      <th>6</th>\n",
       "      <td>2016-04-01 20:48:51</td>\n",
       "      <td>2200</td>\n",
       "      <td>convertible</td>\n",
       "      <td>2004</td>\n",
       "      <td>manual</td>\n",
       "      <td>109</td>\n",
       "      <td>2_reihe</td>\n",
       "      <td>150000</td>\n",
       "      <td>8</td>\n",
       "      <td>petrol</td>\n",
       "      <td>peugeot</td>\n",
       "      <td>no</td>\n",
       "      <td>2016-04-01 00:00:00</td>\n",
       "      <td>0</td>\n",
       "      <td>67112</td>\n",
       "      <td>2016-04-05 18:18:39</td>\n",
       "    </tr>\n",
       "    <tr>\n",
       "      <th>7</th>\n",
       "      <td>2016-03-21 18:54:38</td>\n",
       "      <td>0</td>\n",
       "      <td>sedan</td>\n",
       "      <td>1980</td>\n",
       "      <td>manual</td>\n",
       "      <td>50</td>\n",
       "      <td>other</td>\n",
       "      <td>40000</td>\n",
       "      <td>7</td>\n",
       "      <td>petrol</td>\n",
       "      <td>volkswagen</td>\n",
       "      <td>no</td>\n",
       "      <td>2016-03-21 00:00:00</td>\n",
       "      <td>0</td>\n",
       "      <td>19348</td>\n",
       "      <td>2016-03-25 16:47:58</td>\n",
       "    </tr>\n",
       "    <tr>\n",
       "      <th>8</th>\n",
       "      <td>2016-04-04 23:42:13</td>\n",
       "      <td>14500</td>\n",
       "      <td>bus</td>\n",
       "      <td>2014</td>\n",
       "      <td>manual</td>\n",
       "      <td>125</td>\n",
       "      <td>c_max</td>\n",
       "      <td>30000</td>\n",
       "      <td>8</td>\n",
       "      <td>petrol</td>\n",
       "      <td>ford</td>\n",
       "      <td>NaN</td>\n",
       "      <td>2016-04-04 00:00:00</td>\n",
       "      <td>0</td>\n",
       "      <td>94505</td>\n",
       "      <td>2016-04-04 23:42:13</td>\n",
       "    </tr>\n",
       "    <tr>\n",
       "      <th>9</th>\n",
       "      <td>2016-03-17 10:53:50</td>\n",
       "      <td>999</td>\n",
       "      <td>small</td>\n",
       "      <td>1998</td>\n",
       "      <td>manual</td>\n",
       "      <td>101</td>\n",
       "      <td>golf</td>\n",
       "      <td>150000</td>\n",
       "      <td>0</td>\n",
       "      <td>NaN</td>\n",
       "      <td>volkswagen</td>\n",
       "      <td>NaN</td>\n",
       "      <td>2016-03-17 00:00:00</td>\n",
       "      <td>0</td>\n",
       "      <td>27472</td>\n",
       "      <td>2016-03-31 17:17:06</td>\n",
       "    </tr>\n",
       "  </tbody>\n",
       "</table>\n",
       "</div>"
      ],
      "text/plain": [
       "           DateCrawled  Price  VehicleType  RegistrationYear Gearbox  Power  \\\n",
       "0  2016-03-24 11:52:17    480          NaN              1993  manual      0   \n",
       "1  2016-03-24 10:58:45  18300        coupe              2011  manual    190   \n",
       "2  2016-03-14 12:52:21   9800          suv              2004    auto    163   \n",
       "3  2016-03-17 16:54:04   1500        small              2001  manual     75   \n",
       "4  2016-03-31 17:25:20   3600        small              2008  manual     69   \n",
       "5  2016-04-04 17:36:23    650        sedan              1995  manual    102   \n",
       "6  2016-04-01 20:48:51   2200  convertible              2004  manual    109   \n",
       "7  2016-03-21 18:54:38      0        sedan              1980  manual     50   \n",
       "8  2016-04-04 23:42:13  14500          bus              2014  manual    125   \n",
       "9  2016-03-17 10:53:50    999        small              1998  manual    101   \n",
       "\n",
       "     Model  Kilometer  RegistrationMonth  FuelType       Brand Repaired  \\\n",
       "0     golf     150000                  0    petrol  volkswagen      NaN   \n",
       "1      NaN     125000                  5  gasoline        audi      yes   \n",
       "2    grand     125000                  8  gasoline        jeep      NaN   \n",
       "3     golf     150000                  6    petrol  volkswagen       no   \n",
       "4    fabia      90000                  7  gasoline       skoda       no   \n",
       "5      3er     150000                 10    petrol         bmw      yes   \n",
       "6  2_reihe     150000                  8    petrol     peugeot       no   \n",
       "7    other      40000                  7    petrol  volkswagen       no   \n",
       "8    c_max      30000                  8    petrol        ford      NaN   \n",
       "9     golf     150000                  0       NaN  volkswagen      NaN   \n",
       "\n",
       "           DateCreated  NumberOfPictures  PostalCode             LastSeen  \n",
       "0  2016-03-24 00:00:00                 0       70435  2016-04-07 03:16:57  \n",
       "1  2016-03-24 00:00:00                 0       66954  2016-04-07 01:46:50  \n",
       "2  2016-03-14 00:00:00                 0       90480  2016-04-05 12:47:46  \n",
       "3  2016-03-17 00:00:00                 0       91074  2016-03-17 17:40:17  \n",
       "4  2016-03-31 00:00:00                 0       60437  2016-04-06 10:17:21  \n",
       "5  2016-04-04 00:00:00                 0       33775  2016-04-06 19:17:07  \n",
       "6  2016-04-01 00:00:00                 0       67112  2016-04-05 18:18:39  \n",
       "7  2016-03-21 00:00:00                 0       19348  2016-03-25 16:47:58  \n",
       "8  2016-04-04 00:00:00                 0       94505  2016-04-04 23:42:13  \n",
       "9  2016-03-17 00:00:00                 0       27472  2016-03-31 17:17:06  "
      ]
     },
     "execution_count": 5,
     "metadata": {},
     "output_type": "execute_result"
    }
   ],
   "source": [
    "data.head(10)"
   ]
  },
  {
   "cell_type": "markdown",
   "metadata": {},
   "source": [
    "Выведем общую информацию о датафрейме."
   ]
  },
  {
   "cell_type": "code",
   "execution_count": 6,
   "metadata": {},
   "outputs": [
    {
     "name": "stdout",
     "output_type": "stream",
     "text": [
      "<class 'pandas.core.frame.DataFrame'>\n",
      "RangeIndex: 354369 entries, 0 to 354368\n",
      "Data columns (total 16 columns):\n",
      " #   Column             Non-Null Count   Dtype \n",
      "---  ------             --------------   ----- \n",
      " 0   DateCrawled        354369 non-null  object\n",
      " 1   Price              354369 non-null  int64 \n",
      " 2   VehicleType        316879 non-null  object\n",
      " 3   RegistrationYear   354369 non-null  int64 \n",
      " 4   Gearbox            334536 non-null  object\n",
      " 5   Power              354369 non-null  int64 \n",
      " 6   Model              334664 non-null  object\n",
      " 7   Kilometer          354369 non-null  int64 \n",
      " 8   RegistrationMonth  354369 non-null  int64 \n",
      " 9   FuelType           321474 non-null  object\n",
      " 10  Brand              354369 non-null  object\n",
      " 11  Repaired           283215 non-null  object\n",
      " 12  DateCreated        354369 non-null  object\n",
      " 13  NumberOfPictures   354369 non-null  int64 \n",
      " 14  PostalCode         354369 non-null  int64 \n",
      " 15  LastSeen           354369 non-null  object\n",
      "dtypes: int64(7), object(9)\n",
      "memory usage: 43.3+ MB\n"
     ]
    }
   ],
   "source": [
    "data.info()"
   ]
  },
  {
   "cell_type": "markdown",
   "metadata": {},
   "source": [
    "В датафрейме 16 столбцов и 354369 строк. 7 столбцов содержат целочисленные значения - ```Price```, ```RegistrationYear```, ```Power```, ```Kilometer```, ```RegistrationMonth```, ```NumberOfPictures```, ```PostalCode```, 9 - строковые: ```DateCrawled```, ```VehicleType```, ```Gearbox```, ```Model```, ```FuelType```, ```Brand```, ```Repaired```, ```DateCreated```,  ```LastSeen```.\n",
    "\n",
    "Наблюдаются пропуски в столбцах ```VehicleType```, ```Gearbox```, ```Model```, ```FuelType```, ```Repaired```."
   ]
  },
  {
   "cell_type": "markdown",
   "metadata": {},
   "source": [
    "### Предобработка данных"
   ]
  },
  {
   "cell_type": "markdown",
   "metadata": {},
   "source": [
    "#### Проверка наличия пропусков"
   ]
  },
  {
   "cell_type": "code",
   "execution_count": 7,
   "metadata": {},
   "outputs": [
    {
     "data": {
      "text/html": [
       "<div>\n",
       "<style scoped>\n",
       "    .dataframe tbody tr th:only-of-type {\n",
       "        vertical-align: middle;\n",
       "    }\n",
       "\n",
       "    .dataframe tbody tr th {\n",
       "        vertical-align: top;\n",
       "    }\n",
       "\n",
       "    .dataframe thead th {\n",
       "        text-align: right;\n",
       "    }\n",
       "</style>\n",
       "<table border=\"1\" class=\"dataframe\">\n",
       "  <thead>\n",
       "    <tr style=\"text-align: right;\">\n",
       "      <th></th>\n",
       "      <th>Количество пропусков</th>\n",
       "      <th>Доля пропусков, %</th>\n",
       "    </tr>\n",
       "  </thead>\n",
       "  <tbody>\n",
       "    <tr>\n",
       "      <th>Repaired</th>\n",
       "      <td>71154</td>\n",
       "      <td>20.08</td>\n",
       "    </tr>\n",
       "    <tr>\n",
       "      <th>VehicleType</th>\n",
       "      <td>37490</td>\n",
       "      <td>10.58</td>\n",
       "    </tr>\n",
       "    <tr>\n",
       "      <th>FuelType</th>\n",
       "      <td>32895</td>\n",
       "      <td>9.28</td>\n",
       "    </tr>\n",
       "    <tr>\n",
       "      <th>Gearbox</th>\n",
       "      <td>19833</td>\n",
       "      <td>5.60</td>\n",
       "    </tr>\n",
       "    <tr>\n",
       "      <th>Model</th>\n",
       "      <td>19705</td>\n",
       "      <td>5.56</td>\n",
       "    </tr>\n",
       "    <tr>\n",
       "      <th>DateCrawled</th>\n",
       "      <td>0</td>\n",
       "      <td>0.00</td>\n",
       "    </tr>\n",
       "    <tr>\n",
       "      <th>Price</th>\n",
       "      <td>0</td>\n",
       "      <td>0.00</td>\n",
       "    </tr>\n",
       "    <tr>\n",
       "      <th>RegistrationYear</th>\n",
       "      <td>0</td>\n",
       "      <td>0.00</td>\n",
       "    </tr>\n",
       "    <tr>\n",
       "      <th>Power</th>\n",
       "      <td>0</td>\n",
       "      <td>0.00</td>\n",
       "    </tr>\n",
       "    <tr>\n",
       "      <th>Kilometer</th>\n",
       "      <td>0</td>\n",
       "      <td>0.00</td>\n",
       "    </tr>\n",
       "    <tr>\n",
       "      <th>RegistrationMonth</th>\n",
       "      <td>0</td>\n",
       "      <td>0.00</td>\n",
       "    </tr>\n",
       "    <tr>\n",
       "      <th>Brand</th>\n",
       "      <td>0</td>\n",
       "      <td>0.00</td>\n",
       "    </tr>\n",
       "    <tr>\n",
       "      <th>DateCreated</th>\n",
       "      <td>0</td>\n",
       "      <td>0.00</td>\n",
       "    </tr>\n",
       "    <tr>\n",
       "      <th>NumberOfPictures</th>\n",
       "      <td>0</td>\n",
       "      <td>0.00</td>\n",
       "    </tr>\n",
       "    <tr>\n",
       "      <th>PostalCode</th>\n",
       "      <td>0</td>\n",
       "      <td>0.00</td>\n",
       "    </tr>\n",
       "    <tr>\n",
       "      <th>LastSeen</th>\n",
       "      <td>0</td>\n",
       "      <td>0.00</td>\n",
       "    </tr>\n",
       "  </tbody>\n",
       "</table>\n",
       "</div>"
      ],
      "text/plain": [
       "                   Количество пропусков  Доля пропусков, %\n",
       "Repaired                          71154              20.08\n",
       "VehicleType                       37490              10.58\n",
       "FuelType                          32895               9.28\n",
       "Gearbox                           19833               5.60\n",
       "Model                             19705               5.56\n",
       "DateCrawled                           0               0.00\n",
       "Price                                 0               0.00\n",
       "RegistrationYear                      0               0.00\n",
       "Power                                 0               0.00\n",
       "Kilometer                             0               0.00\n",
       "RegistrationMonth                     0               0.00\n",
       "Brand                                 0               0.00\n",
       "DateCreated                           0               0.00\n",
       "NumberOfPictures                      0               0.00\n",
       "PostalCode                            0               0.00\n",
       "LastSeen                              0               0.00"
      ]
     },
     "execution_count": 7,
     "metadata": {},
     "output_type": "execute_result"
    }
   ],
   "source": [
    "frame = ({'Количество пропусков' : data.isna().sum().sort_values(ascending=False), \n",
    "          'Доля пропусков, %' : round((data.isna().mean()*100), 2).sort_values(ascending=False)})\n",
    "pd.DataFrame(frame).sort_values(by='Доля пропусков, %', ascending=False)"
   ]
  },
  {
   "cell_type": "markdown",
   "metadata": {},
   "source": [
    "Пропуски содержатся в 5 столбцах - ```Repaired```, ```VehicleType```, ```FuelType```, ```Gearbox```, ```Model```."
   ]
  },
  {
   "cell_type": "code",
   "execution_count": 8,
   "metadata": {},
   "outputs": [
    {
     "data": {
      "text/plain": [
       "Repaired\n",
       "no     247161\n",
       "NaN     71154\n",
       "yes     36054\n",
       "Name: count, dtype: int64"
      ]
     },
     "metadata": {},
     "output_type": "display_data"
    },
    {
     "data": {
      "text/plain": [
       "VehicleType\n",
       "sedan          91457\n",
       "small          79831\n",
       "wagon          65166\n",
       "NaN            37490\n",
       "bus            28775\n",
       "convertible    20203\n",
       "coupe          16163\n",
       "suv            11996\n",
       "other           3288\n",
       "Name: count, dtype: int64"
      ]
     },
     "metadata": {},
     "output_type": "display_data"
    },
    {
     "data": {
      "text/plain": [
       "FuelType\n",
       "petrol      216352\n",
       "gasoline     98720\n",
       "NaN          32895\n",
       "lpg           5310\n",
       "cng            565\n",
       "hybrid         233\n",
       "other          204\n",
       "electric        90\n",
       "Name: count, dtype: int64"
      ]
     },
     "metadata": {},
     "output_type": "display_data"
    },
    {
     "data": {
      "text/plain": [
       "Gearbox\n",
       "manual    268251\n",
       "auto       66285\n",
       "NaN        19833\n",
       "Name: count, dtype: int64"
      ]
     },
     "metadata": {},
     "output_type": "display_data"
    },
    {
     "data": {
      "text/plain": [
       "Model\n",
       "golf                  29232\n",
       "other                 24421\n",
       "3er                   19761\n",
       "NaN                   19705\n",
       "polo                  13066\n",
       "                      ...  \n",
       "i3                        8\n",
       "serie_3                   4\n",
       "rangerover                4\n",
       "range_rover_evoque        2\n",
       "serie_1                   2\n",
       "Name: count, Length: 251, dtype: int64"
      ]
     },
     "metadata": {},
     "output_type": "display_data"
    }
   ],
   "source": [
    "for col in ['Repaired', 'VehicleType', 'FuelType', 'Gearbox', 'Model']:\n",
    "    display(data[col].value_counts(dropna=False))"
   ]
  },
  {
   "cell_type": "markdown",
   "metadata": {},
   "source": [
    "Все столбцы содержат категориальные данные, при этом пропусков достаточно большое количество. Удалять пропуски не будем, заполним их заглушкой ```unknown```."
   ]
  },
  {
   "cell_type": "code",
   "execution_count": 9,
   "metadata": {},
   "outputs": [],
   "source": [
    "data = data.fillna('unknown')"
   ]
  },
  {
   "cell_type": "code",
   "execution_count": 10,
   "metadata": {},
   "outputs": [
    {
     "data": {
      "text/plain": [
       "DateCrawled          0\n",
       "Price                0\n",
       "VehicleType          0\n",
       "RegistrationYear     0\n",
       "Gearbox              0\n",
       "Power                0\n",
       "Model                0\n",
       "Kilometer            0\n",
       "RegistrationMonth    0\n",
       "FuelType             0\n",
       "Brand                0\n",
       "Repaired             0\n",
       "DateCreated          0\n",
       "NumberOfPictures     0\n",
       "PostalCode           0\n",
       "LastSeen             0\n",
       "dtype: int64"
      ]
     },
     "execution_count": 10,
     "metadata": {},
     "output_type": "execute_result"
    }
   ],
   "source": [
    "data.isna().sum()"
   ]
  },
  {
   "cell_type": "markdown",
   "metadata": {},
   "source": [
    "#### Проверка типов данных"
   ]
  },
  {
   "cell_type": "code",
   "execution_count": 11,
   "metadata": {},
   "outputs": [
    {
     "name": "stdout",
     "output_type": "stream",
     "text": [
      "<class 'pandas.core.frame.DataFrame'>\n",
      "RangeIndex: 354369 entries, 0 to 354368\n",
      "Data columns (total 16 columns):\n",
      " #   Column             Non-Null Count   Dtype \n",
      "---  ------             --------------   ----- \n",
      " 0   DateCrawled        354369 non-null  object\n",
      " 1   Price              354369 non-null  int64 \n",
      " 2   VehicleType        354369 non-null  object\n",
      " 3   RegistrationYear   354369 non-null  int64 \n",
      " 4   Gearbox            354369 non-null  object\n",
      " 5   Power              354369 non-null  int64 \n",
      " 6   Model              354369 non-null  object\n",
      " 7   Kilometer          354369 non-null  int64 \n",
      " 8   RegistrationMonth  354369 non-null  int64 \n",
      " 9   FuelType           354369 non-null  object\n",
      " 10  Brand              354369 non-null  object\n",
      " 11  Repaired           354369 non-null  object\n",
      " 12  DateCreated        354369 non-null  object\n",
      " 13  NumberOfPictures   354369 non-null  int64 \n",
      " 14  PostalCode         354369 non-null  int64 \n",
      " 15  LastSeen           354369 non-null  object\n",
      "dtypes: int64(7), object(9)\n",
      "memory usage: 43.3+ MB\n"
     ]
    }
   ],
   "source": [
    "data.info()"
   ]
  },
  {
   "cell_type": "markdown",
   "metadata": {},
   "source": [
    "Столбцы с датами имеют строковый тип. Переведем их в datetime."
   ]
  },
  {
   "cell_type": "code",
   "execution_count": 12,
   "metadata": {},
   "outputs": [],
   "source": [
    "for col in ['DateCrawled', 'DateCreated', 'LastSeen']:\n",
    "    data[col] = pd.to_datetime(data[col], format='%Y-%m-%d %H:%M:%S')"
   ]
  },
  {
   "cell_type": "code",
   "execution_count": 13,
   "metadata": {},
   "outputs": [
    {
     "data": {
      "text/html": [
       "<div>\n",
       "<style scoped>\n",
       "    .dataframe tbody tr th:only-of-type {\n",
       "        vertical-align: middle;\n",
       "    }\n",
       "\n",
       "    .dataframe tbody tr th {\n",
       "        vertical-align: top;\n",
       "    }\n",
       "\n",
       "    .dataframe thead th {\n",
       "        text-align: right;\n",
       "    }\n",
       "</style>\n",
       "<table border=\"1\" class=\"dataframe\">\n",
       "  <thead>\n",
       "    <tr style=\"text-align: right;\">\n",
       "      <th></th>\n",
       "      <th>DateCrawled</th>\n",
       "      <th>Price</th>\n",
       "      <th>VehicleType</th>\n",
       "      <th>RegistrationYear</th>\n",
       "      <th>Gearbox</th>\n",
       "      <th>Power</th>\n",
       "      <th>Model</th>\n",
       "      <th>Kilometer</th>\n",
       "      <th>RegistrationMonth</th>\n",
       "      <th>FuelType</th>\n",
       "      <th>Brand</th>\n",
       "      <th>Repaired</th>\n",
       "      <th>DateCreated</th>\n",
       "      <th>NumberOfPictures</th>\n",
       "      <th>PostalCode</th>\n",
       "      <th>LastSeen</th>\n",
       "    </tr>\n",
       "  </thead>\n",
       "  <tbody>\n",
       "    <tr>\n",
       "      <th>0</th>\n",
       "      <td>2016-03-24 11:52:17</td>\n",
       "      <td>480</td>\n",
       "      <td>unknown</td>\n",
       "      <td>1993</td>\n",
       "      <td>manual</td>\n",
       "      <td>0</td>\n",
       "      <td>golf</td>\n",
       "      <td>150000</td>\n",
       "      <td>0</td>\n",
       "      <td>petrol</td>\n",
       "      <td>volkswagen</td>\n",
       "      <td>unknown</td>\n",
       "      <td>2016-03-24</td>\n",
       "      <td>0</td>\n",
       "      <td>70435</td>\n",
       "      <td>2016-04-07 03:16:57</td>\n",
       "    </tr>\n",
       "    <tr>\n",
       "      <th>1</th>\n",
       "      <td>2016-03-24 10:58:45</td>\n",
       "      <td>18300</td>\n",
       "      <td>coupe</td>\n",
       "      <td>2011</td>\n",
       "      <td>manual</td>\n",
       "      <td>190</td>\n",
       "      <td>unknown</td>\n",
       "      <td>125000</td>\n",
       "      <td>5</td>\n",
       "      <td>gasoline</td>\n",
       "      <td>audi</td>\n",
       "      <td>yes</td>\n",
       "      <td>2016-03-24</td>\n",
       "      <td>0</td>\n",
       "      <td>66954</td>\n",
       "      <td>2016-04-07 01:46:50</td>\n",
       "    </tr>\n",
       "    <tr>\n",
       "      <th>2</th>\n",
       "      <td>2016-03-14 12:52:21</td>\n",
       "      <td>9800</td>\n",
       "      <td>suv</td>\n",
       "      <td>2004</td>\n",
       "      <td>auto</td>\n",
       "      <td>163</td>\n",
       "      <td>grand</td>\n",
       "      <td>125000</td>\n",
       "      <td>8</td>\n",
       "      <td>gasoline</td>\n",
       "      <td>jeep</td>\n",
       "      <td>unknown</td>\n",
       "      <td>2016-03-14</td>\n",
       "      <td>0</td>\n",
       "      <td>90480</td>\n",
       "      <td>2016-04-05 12:47:46</td>\n",
       "    </tr>\n",
       "    <tr>\n",
       "      <th>3</th>\n",
       "      <td>2016-03-17 16:54:04</td>\n",
       "      <td>1500</td>\n",
       "      <td>small</td>\n",
       "      <td>2001</td>\n",
       "      <td>manual</td>\n",
       "      <td>75</td>\n",
       "      <td>golf</td>\n",
       "      <td>150000</td>\n",
       "      <td>6</td>\n",
       "      <td>petrol</td>\n",
       "      <td>volkswagen</td>\n",
       "      <td>no</td>\n",
       "      <td>2016-03-17</td>\n",
       "      <td>0</td>\n",
       "      <td>91074</td>\n",
       "      <td>2016-03-17 17:40:17</td>\n",
       "    </tr>\n",
       "    <tr>\n",
       "      <th>4</th>\n",
       "      <td>2016-03-31 17:25:20</td>\n",
       "      <td>3600</td>\n",
       "      <td>small</td>\n",
       "      <td>2008</td>\n",
       "      <td>manual</td>\n",
       "      <td>69</td>\n",
       "      <td>fabia</td>\n",
       "      <td>90000</td>\n",
       "      <td>7</td>\n",
       "      <td>gasoline</td>\n",
       "      <td>skoda</td>\n",
       "      <td>no</td>\n",
       "      <td>2016-03-31</td>\n",
       "      <td>0</td>\n",
       "      <td>60437</td>\n",
       "      <td>2016-04-06 10:17:21</td>\n",
       "    </tr>\n",
       "  </tbody>\n",
       "</table>\n",
       "</div>"
      ],
      "text/plain": [
       "          DateCrawled  Price VehicleType  RegistrationYear Gearbox  Power  \\\n",
       "0 2016-03-24 11:52:17    480     unknown              1993  manual      0   \n",
       "1 2016-03-24 10:58:45  18300       coupe              2011  manual    190   \n",
       "2 2016-03-14 12:52:21   9800         suv              2004    auto    163   \n",
       "3 2016-03-17 16:54:04   1500       small              2001  manual     75   \n",
       "4 2016-03-31 17:25:20   3600       small              2008  manual     69   \n",
       "\n",
       "     Model  Kilometer  RegistrationMonth  FuelType       Brand Repaired  \\\n",
       "0     golf     150000                  0    petrol  volkswagen  unknown   \n",
       "1  unknown     125000                  5  gasoline        audi      yes   \n",
       "2    grand     125000                  8  gasoline        jeep  unknown   \n",
       "3     golf     150000                  6    petrol  volkswagen       no   \n",
       "4    fabia      90000                  7  gasoline       skoda       no   \n",
       "\n",
       "  DateCreated  NumberOfPictures  PostalCode            LastSeen  \n",
       "0  2016-03-24                 0       70435 2016-04-07 03:16:57  \n",
       "1  2016-03-24                 0       66954 2016-04-07 01:46:50  \n",
       "2  2016-03-14                 0       90480 2016-04-05 12:47:46  \n",
       "3  2016-03-17                 0       91074 2016-03-17 17:40:17  \n",
       "4  2016-03-31                 0       60437 2016-04-06 10:17:21  "
      ]
     },
     "execution_count": 13,
     "metadata": {},
     "output_type": "execute_result"
    }
   ],
   "source": [
    "data.head()"
   ]
  },
  {
   "cell_type": "code",
   "execution_count": 14,
   "metadata": {},
   "outputs": [
    {
     "name": "stdout",
     "output_type": "stream",
     "text": [
      "<class 'pandas.core.frame.DataFrame'>\n",
      "RangeIndex: 354369 entries, 0 to 354368\n",
      "Data columns (total 16 columns):\n",
      " #   Column             Non-Null Count   Dtype         \n",
      "---  ------             --------------   -----         \n",
      " 0   DateCrawled        354369 non-null  datetime64[ns]\n",
      " 1   Price              354369 non-null  int64         \n",
      " 2   VehicleType        354369 non-null  object        \n",
      " 3   RegistrationYear   354369 non-null  int64         \n",
      " 4   Gearbox            354369 non-null  object        \n",
      " 5   Power              354369 non-null  int64         \n",
      " 6   Model              354369 non-null  object        \n",
      " 7   Kilometer          354369 non-null  int64         \n",
      " 8   RegistrationMonth  354369 non-null  int64         \n",
      " 9   FuelType           354369 non-null  object        \n",
      " 10  Brand              354369 non-null  object        \n",
      " 11  Repaired           354369 non-null  object        \n",
      " 12  DateCreated        354369 non-null  datetime64[ns]\n",
      " 13  NumberOfPictures   354369 non-null  int64         \n",
      " 14  PostalCode         354369 non-null  int64         \n",
      " 15  LastSeen           354369 non-null  datetime64[ns]\n",
      "dtypes: datetime64[ns](3), int64(7), object(6)\n",
      "memory usage: 43.3+ MB\n"
     ]
    }
   ],
   "source": [
    "data.info()"
   ]
  },
  {
   "cell_type": "markdown",
   "metadata": {},
   "source": [
    "#### Проверка наличия дубликатов"
   ]
  },
  {
   "cell_type": "code",
   "execution_count": 15,
   "metadata": {},
   "outputs": [
    {
     "data": {
      "text/plain": [
       "4"
      ]
     },
     "execution_count": 15,
     "metadata": {},
     "output_type": "execute_result"
    }
   ],
   "source": [
    "data.duplicated().sum()"
   ]
  },
  {
   "cell_type": "markdown",
   "metadata": {},
   "source": [
    "В датафрейме всего 4 явных дубликата, удалим их."
   ]
  },
  {
   "cell_type": "code",
   "execution_count": 16,
   "metadata": {},
   "outputs": [],
   "source": [
    "data = data.drop_duplicates().reset_index(drop=True)"
   ]
  },
  {
   "cell_type": "code",
   "execution_count": 17,
   "metadata": {},
   "outputs": [
    {
     "data": {
      "text/plain": [
       "0"
      ]
     },
     "execution_count": 17,
     "metadata": {},
     "output_type": "execute_result"
    }
   ],
   "source": [
    "data.duplicated().sum()"
   ]
  },
  {
   "cell_type": "markdown",
   "metadata": {},
   "source": [
    "#### Предобработка данных - итог"
   ]
  },
  {
   "cell_type": "markdown",
   "metadata": {},
   "source": [
    "Провели предобработку данных.\n",
    "1. Пропуски обнаружены в категориальных столбцах ```Repaired```, ```VehicleType```, ```FuelType```, ```Gearbox```, ```Model```. Заполнили пропуски заглушкой \"unknown\".\n",
    "2. Привели даты к типу datetime.\n",
    "3. Удалили явные дубликаты."
   ]
  },
  {
   "cell_type": "markdown",
   "metadata": {},
   "source": [
    "### Исследовательский анализ данных"
   ]
  },
  {
   "cell_type": "markdown",
   "metadata": {},
   "source": [
    "####  Вспомогательные функции"
   ]
  },
  {
   "cell_type": "code",
   "execution_count": 18,
   "metadata": {},
   "outputs": [],
   "source": [
    "def describe_numeric(df, col, discrete=False):\n",
    "    \"\"\"Описывает количественный параметр col датафрейма df.\n",
    "    Опционально можно задать признак дискретности данных discrete.\n",
    "    Выводит описательную статистику параметра и строит боксплот.\n",
    "    Возвращает сетку и оси графика.\n",
    "    \"\"\"\n",
    "    if not discrete:\n",
    "        print(col + ':')\n",
    "        print(df[col].describe())\n",
    "        fig, ax = plt.subplots(figsize=(5,10))\n",
    "        df.boxplot(col, ax=ax)\n",
    "    else:\n",
    "        print(df[col].value_counts().sort_index())\n",
    "        fig, ax = plt.subplots(figsize=(5,10))\n",
    "        df.boxplot(col, ax=ax)\n",
    "    return fig, ax"
   ]
  },
  {
   "cell_type": "code",
   "execution_count": 19,
   "metadata": {},
   "outputs": [],
   "source": [
    "def describe_categorical(df, col):\n",
    "    \"\"\"Описывает категориальный параметр col датафрейма df.\n",
    "    Выводит value_counts параметра и строит барплот.\n",
    "    Возвращает сетку и оси графика.\n",
    "    \"\"\"\n",
    "    print(df[col].value_counts())\n",
    "    fig, ax = plt.subplots()\n",
    "    df[col].value_counts().plot(kind='bar')\n",
    "    return fig, ax"
   ]
  },
  {
   "cell_type": "markdown",
   "metadata": {},
   "source": [
    "#### DateCrawled"
   ]
  },
  {
   "cell_type": "markdown",
   "metadata": {},
   "source": [
    "```DateCrawled``` — дата скачивания анкеты из базы."
   ]
  },
  {
   "cell_type": "code",
   "execution_count": 20,
   "metadata": {},
   "outputs": [
    {
     "data": {
      "text/plain": [
       "count                           354365\n",
       "mean     2016-03-21 12:58:09.520460544\n",
       "min                2016-03-05 14:06:22\n",
       "25%                2016-03-13 11:52:33\n",
       "50%                2016-03-21 17:50:55\n",
       "75%                2016-03-29 14:37:20\n",
       "max                2016-04-07 14:36:58\n",
       "Name: DateCrawled, dtype: object"
      ]
     },
     "execution_count": 20,
     "metadata": {},
     "output_type": "execute_result"
    }
   ],
   "source": [
    "data['DateCrawled'].describe()"
   ]
  },
  {
   "cell_type": "markdown",
   "metadata": {},
   "source": [
    "В датафрейме есть данные об объявлениях, скачанных в период с 2016-03-05 по 2016-04-07. Для обучения этот столбец не представляет особой ценности."
   ]
  },
  {
   "cell_type": "markdown",
   "metadata": {},
   "source": [
    "#### VehicleType"
   ]
  },
  {
   "cell_type": "markdown",
   "metadata": {},
   "source": [
    "```VehicleType``` — тип автомобильного кузова."
   ]
  },
  {
   "cell_type": "code",
   "execution_count": 21,
   "metadata": {},
   "outputs": [
    {
     "name": "stdout",
     "output_type": "stream",
     "text": [
      "VehicleType\n",
      "sedan          91457\n",
      "small          79830\n",
      "wagon          65165\n",
      "unknown        37490\n",
      "bus            28775\n",
      "convertible    20203\n",
      "coupe          16161\n",
      "suv            11996\n",
      "other           3288\n",
      "Name: count, dtype: int64\n"
     ]
    },
    {
     "data": {
      "image/png": "[encoded data removed]",
      "text/plain": [
       "<Figure size 640x480 with 1 Axes>"
      ]
     },
     "metadata": {},
     "output_type": "display_data"
    }
   ],
   "source": [
    "fig, ax = describe_categorical(data, 'VehicleType')\n",
    "ax.set_title('Распределение по типу кузова\\n')\n",
    "ax.set_xlabel('Тип кузова')\n",
    "ax.set_ylabel('Количество автомобилей')\n",
    "ax.tick_params(axis='x', labelrotation=45)\n",
    "plt.show()"
   ]
  },
  {
   "cell_type": "markdown",
   "metadata": {},
   "source": [
    "Представлены автомобили 7 типов + тип \"other\" + автомобили неизвестных типов (наша заглушка unknown). Больше всего в выборке автомобилей типа sedan и small, меньше всего - suv и other.\n",
    "\n",
    "\n",
    "Признак категориальный, для обучения LinearRegression и DecisionTreeRegressor будем кодировать, используя one-hot encoding."
   ]
  },
  {
   "cell_type": "markdown",
   "metadata": {},
   "source": [
    "#### RegistrationYear"
   ]
  },
  {
   "cell_type": "markdown",
   "metadata": {},
   "source": [
    "```RegistrationYear``` — год регистрации автомобиля."
   ]
  },
  {
   "cell_type": "code",
   "execution_count": 22,
   "metadata": {},
   "outputs": [
    {
     "name": "stdout",
     "output_type": "stream",
     "text": [
      "RegistrationYear\n",
      "1000    37\n",
      "1001     1\n",
      "1039     1\n",
      "1111     3\n",
      "1200     1\n",
      "        ..\n",
      "9000     3\n",
      "9229     1\n",
      "9450     1\n",
      "9996     1\n",
      "9999    26\n",
      "Name: count, Length: 151, dtype: int64\n"
     ]
    },
    {
     "data": {
      "image/png": "[encoded data removed]",
      "text/plain": [
       "<Figure size 500x1000 with 1 Axes>"
      ]
     },
     "metadata": {},
     "output_type": "display_data"
    }
   ],
   "source": [
    "fig, ax = describe_numeric(data, 'RegistrationYear', discrete=True)\n",
    "ax.set_title('Распределение по году регистрации\\n')\n",
    "ax.set_ylabel('Год регистрации')\n",
    "plt.show()"
   ]
  },
  {
   "cell_type": "markdown",
   "metadata": {},
   "source": [
    "Видим выбросы как сверху, так и снизу. В столбце хранится год регистрации автомобиля, удалим записи с аномально большим или аномально маленьким годом."
   ]
  },
  {
   "cell_type": "code",
   "execution_count": 23,
   "metadata": {},
   "outputs": [
    {
     "data": {
      "text/plain": [
       "Timestamp('2016-04-07 00:00:00')"
      ]
     },
     "execution_count": 23,
     "metadata": {},
     "output_type": "execute_result"
    }
   ],
   "source": [
    "data['DateCreated'].max()"
   ]
  },
  {
   "cell_type": "markdown",
   "metadata": {},
   "source": [
    "Самая свежая анкета в таблице создана в апреле 2016 года. Соответственно, в таблице не может быть автомобилей, зарегистрированных после 2016 года. Снизу ограничим 1950 годом, на случай наличия ретро-автомобилей среди объявлений."
   ]
  },
  {
   "cell_type": "code",
   "execution_count": 24,
   "metadata": {},
   "outputs": [],
   "source": [
    "data = data.query('RegistrationYear >= 1950 & RegistrationYear <= 2016')"
   ]
  },
  {
   "cell_type": "code",
   "execution_count": 25,
   "metadata": {},
   "outputs": [
    {
     "name": "stdout",
     "output_type": "stream",
     "text": [
      "RegistrationYear\n",
      "1950      18\n",
      "1951      12\n",
      "1952       9\n",
      "1953      14\n",
      "1954      11\n",
      "        ... \n",
      "2012    7178\n",
      "2013    4131\n",
      "2014    2537\n",
      "2015    1302\n",
      "2016    9599\n",
      "Name: count, Length: 67, dtype: int64\n"
     ]
    },
    {
     "data": {
      "image/png": "[encoded data removed]",
      "text/plain": [
       "<Figure size 500x1000 with 1 Axes>"
      ]
     },
     "metadata": {},
     "output_type": "display_data"
    }
   ],
   "source": [
    "fig, ax = describe_numeric(data, 'RegistrationYear', discrete=True)\n",
    "ax.set_title('Распределение по году регистрации\\n')\n",
    "ax.set_ylabel('Год регистрации')\n",
    "plt.show()"
   ]
  },
  {
   "cell_type": "markdown",
   "metadata": {},
   "source": [
    "Избавились от аномальных значений.\n",
    "\n",
    "Признак количественный, для обучения линейной регрессии его нужно будет масштабировать."
   ]
  },
  {
   "cell_type": "markdown",
   "metadata": {},
   "source": [
    "#### Gearbox"
   ]
  },
  {
   "cell_type": "markdown",
   "metadata": {},
   "source": [
    "```Gearbox``` — тип коробки передач."
   ]
  },
  {
   "cell_type": "code",
   "execution_count": 26,
   "metadata": {},
   "outputs": [
    {
     "name": "stdout",
     "output_type": "stream",
     "text": [
      "Gearbox\n",
      "manual     257481\n",
      "auto        64296\n",
      "unknown     17812\n",
      "Name: count, dtype: int64\n"
     ]
    },
    {
     "data": {
      "image/png": "[encoded data removed]",
      "text/plain": [
       "<Figure size 640x480 with 1 Axes>"
      ]
     },
     "metadata": {},
     "output_type": "display_data"
    }
   ],
   "source": [
    "fig, ax = describe_categorical(data, 'Gearbox')\n",
    "ax.set_title('Распределение по типу коробки передач\\n')\n",
    "ax.set_xlabel('Тип коробки передач')\n",
    "ax.set_ylabel('Количество автомобилей')\n",
    "ax.tick_params(axis='x', labelrotation=45)\n",
    "plt.show()"
   ]
  },
  {
   "cell_type": "markdown",
   "metadata": {},
   "source": [
    "2 типа коробки передач - ручная и автомат, плюс заглушка. Преобладают машины с ручной коробкой передач.\n",
    "\n",
    "Признак категориальный, для обучения LinearRegression и DecisionTreeRegressor будем кодировать, используя one-hot encoding."
   ]
  },
  {
   "cell_type": "markdown",
   "metadata": {},
   "source": [
    "#### Power"
   ]
  },
  {
   "cell_type": "markdown",
   "metadata": {},
   "source": [
    "```Power``` — мощность (л. с.)."
   ]
  },
  {
   "cell_type": "code",
   "execution_count": 27,
   "metadata": {},
   "outputs": [
    {
     "name": "stdout",
     "output_type": "stream",
     "text": [
      "Power:\n",
      "count    339589.000000\n",
      "mean        111.045163\n",
      "std         186.900896\n",
      "min           0.000000\n",
      "25%          69.000000\n",
      "50%         105.000000\n",
      "75%         143.000000\n",
      "max       20000.000000\n",
      "Name: Power, dtype: float64\n"
     ]
    },
    {
     "data": {
      "image/png": "[encoded data removed]",
      "text/plain": [
       "<Figure size 500x1000 with 1 Axes>"
      ]
     },
     "metadata": {},
     "output_type": "display_data"
    }
   ],
   "source": [
    "fig, ax = describe_numeric(data, 'Power')\n",
    "ax.set_title('Распределение по мощности двигателя\\n')\n",
    "ax.set_ylabel('Мощность, л.с.')\n",
    "plt.show()"
   ]
  },
  {
   "cell_type": "markdown",
   "metadata": {},
   "source": [
    "Наблюдаются аномально высокие значения, а также нулевые значения. Будем считать аномальными значения более 1000 л.с. Удалим аномальные значения."
   ]
  },
  {
   "cell_type": "code",
   "execution_count": 28,
   "metadata": {},
   "outputs": [],
   "source": [
    "data = data.query('Power > 0 & Power < 1000')"
   ]
  },
  {
   "cell_type": "code",
   "execution_count": 29,
   "metadata": {},
   "outputs": [
    {
     "name": "stdout",
     "output_type": "stream",
     "text": [
      "Power:\n",
      "count    302983.00000\n",
      "mean        120.64330\n",
      "std          54.85195\n",
      "min           1.00000\n",
      "25%          75.00000\n",
      "50%         110.00000\n",
      "75%         150.00000\n",
      "max         999.00000\n",
      "Name: Power, dtype: float64\n"
     ]
    },
    {
     "data": {
      "image/png": "[encoded data removed]",
      "text/plain": [
       "<Figure size 500x1000 with 1 Axes>"
      ]
     },
     "metadata": {},
     "output_type": "display_data"
    }
   ],
   "source": [
    "fig, ax = describe_numeric(data, 'Power')\n",
    "ax.set_title('Распределение по мощности двигателя\\n')\n",
    "ax.set_ylabel('Мощность, л.с.')\n",
    "plt.show()"
   ]
  },
  {
   "cell_type": "markdown",
   "metadata": {},
   "source": [
    "#### Model"
   ]
  },
  {
   "cell_type": "markdown",
   "metadata": {},
   "source": [
    "```Model``` — модель автомобиля."
   ]
  },
  {
   "cell_type": "code",
   "execution_count": 30,
   "metadata": {},
   "outputs": [
    {
     "data": {
      "text/plain": [
       "['100',\n",
       " '145',\n",
       " '147',\n",
       " '156',\n",
       " '159',\n",
       " '1_reihe',\n",
       " '1er',\n",
       " '200',\n",
       " '2_reihe',\n",
       " '300c',\n",
       " '3_reihe',\n",
       " '3er',\n",
       " '4_reihe',\n",
       " '500',\n",
       " '5_reihe',\n",
       " '5er',\n",
       " '601',\n",
       " '6_reihe',\n",
       " '6er',\n",
       " '7er',\n",
       " '80',\n",
       " '850',\n",
       " '90',\n",
       " '900',\n",
       " '9000',\n",
       " '911',\n",
       " 'a1',\n",
       " 'a2',\n",
       " 'a3',\n",
       " 'a4',\n",
       " 'a5',\n",
       " 'a6',\n",
       " 'a8',\n",
       " 'a_klasse',\n",
       " 'accord',\n",
       " 'agila',\n",
       " 'alhambra',\n",
       " 'almera',\n",
       " 'altea',\n",
       " 'amarok',\n",
       " 'antara',\n",
       " 'arosa',\n",
       " 'astra',\n",
       " 'auris',\n",
       " 'avensis',\n",
       " 'aveo',\n",
       " 'aygo',\n",
       " 'b_klasse',\n",
       " 'b_max',\n",
       " 'beetle',\n",
       " 'berlingo',\n",
       " 'bora',\n",
       " 'boxster',\n",
       " 'bravo',\n",
       " 'c1',\n",
       " 'c2',\n",
       " 'c3',\n",
       " 'c4',\n",
       " 'c5',\n",
       " 'c_klasse',\n",
       " 'c_max',\n",
       " 'c_reihe',\n",
       " 'caddy',\n",
       " 'calibra',\n",
       " 'captiva',\n",
       " 'carisma',\n",
       " 'carnival',\n",
       " 'cayenne',\n",
       " 'cc',\n",
       " 'ceed',\n",
       " 'charade',\n",
       " 'cherokee',\n",
       " 'citigo',\n",
       " 'civic',\n",
       " 'cl',\n",
       " 'clio',\n",
       " 'clk',\n",
       " 'clubman',\n",
       " 'colt',\n",
       " 'combo',\n",
       " 'cooper',\n",
       " 'cordoba',\n",
       " 'corolla',\n",
       " 'corsa',\n",
       " 'cr_reihe',\n",
       " 'croma',\n",
       " 'crossfire',\n",
       " 'cuore',\n",
       " 'cx_reihe',\n",
       " 'defender',\n",
       " 'delta',\n",
       " 'discovery',\n",
       " 'doblo',\n",
       " 'ducato',\n",
       " 'duster',\n",
       " 'e_klasse',\n",
       " 'elefantino',\n",
       " 'eos',\n",
       " 'escort',\n",
       " 'espace',\n",
       " 'exeo',\n",
       " 'fabia',\n",
       " 'fiesta',\n",
       " 'focus',\n",
       " 'forester',\n",
       " 'forfour',\n",
       " 'fortwo',\n",
       " 'fox',\n",
       " 'freelander',\n",
       " 'fusion',\n",
       " 'g_klasse',\n",
       " 'galant',\n",
       " 'galaxy',\n",
       " 'getz',\n",
       " 'gl',\n",
       " 'glk',\n",
       " 'golf',\n",
       " 'grand',\n",
       " 'i3',\n",
       " 'i_reihe',\n",
       " 'ibiza',\n",
       " 'impreza',\n",
       " 'insignia',\n",
       " 'jazz',\n",
       " 'jetta',\n",
       " 'jimny',\n",
       " 'juke',\n",
       " 'justy',\n",
       " 'ka',\n",
       " 'kadett',\n",
       " 'kaefer',\n",
       " 'kalina',\n",
       " 'kalos',\n",
       " 'kangoo',\n",
       " 'kappa',\n",
       " 'kuga',\n",
       " 'laguna',\n",
       " 'lancer',\n",
       " 'lanos',\n",
       " 'legacy',\n",
       " 'leon',\n",
       " 'lodgy',\n",
       " 'logan',\n",
       " 'lupo',\n",
       " 'lybra',\n",
       " 'm_klasse',\n",
       " 'm_reihe',\n",
       " 'materia',\n",
       " 'matiz',\n",
       " 'megane',\n",
       " 'meriva',\n",
       " 'micra',\n",
       " 'mii',\n",
       " 'modus',\n",
       " 'mondeo',\n",
       " 'move',\n",
       " 'musa',\n",
       " 'mustang',\n",
       " 'mx_reihe',\n",
       " 'navara',\n",
       " 'niva',\n",
       " 'note',\n",
       " 'nubira',\n",
       " 'octavia',\n",
       " 'omega',\n",
       " 'one',\n",
       " 'other',\n",
       " 'outlander',\n",
       " 'pajero',\n",
       " 'panda',\n",
       " 'passat',\n",
       " 'phaeton',\n",
       " 'picanto',\n",
       " 'polo',\n",
       " 'primera',\n",
       " 'ptcruiser',\n",
       " 'punto',\n",
       " 'q3',\n",
       " 'q5',\n",
       " 'q7',\n",
       " 'qashqai',\n",
       " 'r19',\n",
       " 'range_rover',\n",
       " 'range_rover_evoque',\n",
       " 'range_rover_sport',\n",
       " 'rangerover',\n",
       " 'rav',\n",
       " 'rio',\n",
       " 'roadster',\n",
       " 'roomster',\n",
       " 'rx_reihe',\n",
       " 's60',\n",
       " 's_klasse',\n",
       " 's_max',\n",
       " 's_type',\n",
       " 'samara',\n",
       " 'sandero',\n",
       " 'santa',\n",
       " 'scenic',\n",
       " 'scirocco',\n",
       " 'seicento',\n",
       " 'serie_2',\n",
       " 'serie_3',\n",
       " 'sharan',\n",
       " 'signum',\n",
       " 'sirion',\n",
       " 'sl',\n",
       " 'slk',\n",
       " 'sorento',\n",
       " 'spark',\n",
       " 'spider',\n",
       " 'sportage',\n",
       " 'sprinter',\n",
       " 'stilo',\n",
       " 'superb',\n",
       " 'swift',\n",
       " 'terios',\n",
       " 'tigra',\n",
       " 'tiguan',\n",
       " 'toledo',\n",
       " 'touareg',\n",
       " 'touran',\n",
       " 'transit',\n",
       " 'transporter',\n",
       " 'tt',\n",
       " 'tucson',\n",
       " 'twingo',\n",
       " 'unknown',\n",
       " 'up',\n",
       " 'v40',\n",
       " 'v50',\n",
       " 'v60',\n",
       " 'v70',\n",
       " 'v_klasse',\n",
       " 'vectra',\n",
       " 'verso',\n",
       " 'viano',\n",
       " 'vito',\n",
       " 'vivaro',\n",
       " 'voyager',\n",
       " 'wrangler',\n",
       " 'x_reihe',\n",
       " 'x_trail',\n",
       " 'x_type',\n",
       " 'xc_reihe',\n",
       " 'yaris',\n",
       " 'yeti',\n",
       " 'ypsilon',\n",
       " 'z_reihe',\n",
       " 'zafira']"
      ]
     },
     "execution_count": 30,
     "metadata": {},
     "output_type": "execute_result"
    }
   ],
   "source": [
    "sorted(data['Model'].unique())"
   ]
  },
  {
   "cell_type": "code",
   "execution_count": 31,
   "metadata": {},
   "outputs": [
    {
     "data": {
      "text/plain": [
       "250"
      ]
     },
     "execution_count": 31,
     "metadata": {},
     "output_type": "execute_result"
    }
   ],
   "source": [
    "data['Model'].nunique()"
   ]
  },
  {
   "cell_type": "markdown",
   "metadata": {},
   "source": [
    "В таблице есть 250 уникальных моделей автомобиля. Признак категориальный, для линейной регрессии и дерева решений его нужно кодировать."
   ]
  },
  {
   "cell_type": "markdown",
   "metadata": {},
   "source": [
    "#### Kilometer"
   ]
  },
  {
   "cell_type": "markdown",
   "metadata": {},
   "source": [
    "```Kilometer``` — пробег (км)."
   ]
  },
  {
   "cell_type": "code",
   "execution_count": 32,
   "metadata": {},
   "outputs": [
    {
     "name": "stdout",
     "output_type": "stream",
     "text": [
      "Kilometer\n",
      "5000        3199\n",
      "10000        952\n",
      "20000       3351\n",
      "30000       3975\n",
      "40000       4555\n",
      "50000       5712\n",
      "60000       6883\n",
      "70000       7886\n",
      "80000       9143\n",
      "90000      10441\n",
      "100000     13035\n",
      "125000     32272\n",
      "150000    201579\n",
      "Name: count, dtype: int64\n"
     ]
    },
    {
     "data": {
      "image/png": "[encoded data removed]",
      "text/plain": [
       "<Figure size 500x1000 with 1 Axes>"
      ]
     },
     "metadata": {},
     "output_type": "display_data"
    }
   ],
   "source": [
    "fig, ax = describe_numeric(data, 'Kilometer', discrete=True)\n",
    "ax.set_title('Распределение по пробегу\\n')\n",
    "ax.set_ylabel('Пробег, км.')\n",
    "plt.show()"
   ]
  },
  {
   "cell_type": "markdown",
   "metadata": {},
   "source": [
    "Признак принимает ограниченное количество значений - вероятно, технические особенности сервиса, т.к. для покупки не важен пробег с точностью до километра. Нулевых значений нет - логично, т.к. у нас сервис по продаже автомобилей с пробегом.\n",
    "\n",
    "Количественный признак, для обучения линейной регрессии будем масштабировать."
   ]
  },
  {
   "cell_type": "markdown",
   "metadata": {},
   "source": [
    "#### RegistrationMonth"
   ]
  },
  {
   "cell_type": "markdown",
   "metadata": {},
   "source": [
    "```RegistrationMonth``` — месяц регистрации автомобиля."
   ]
  },
  {
   "cell_type": "code",
   "execution_count": 33,
   "metadata": {},
   "outputs": [
    {
     "data": {
      "text/plain": [
       "RegistrationMonth\n",
       "0     19772\n",
       "1     20576\n",
       "2     19201\n",
       "3     30866\n",
       "4     26201\n",
       "5     26119\n",
       "6     28125\n",
       "7     24282\n",
       "8     20134\n",
       "9     21323\n",
       "10    23357\n",
       "11    21397\n",
       "12    21630\n",
       "Name: count, dtype: int64"
      ]
     },
     "execution_count": 33,
     "metadata": {},
     "output_type": "execute_result"
    }
   ],
   "source": [
    "data['RegistrationMonth'].value_counts().sort_index()"
   ]
  },
  {
   "cell_type": "markdown",
   "metadata": {},
   "source": [
    "Кроме 12 значений от 1 до 12, соответствующих месяцам, присутствует также 0. Вероятно, так обозначен пропуск значения, если владелец анкеты его не заполнил.\n",
    "\n",
    "Месяц регистрации автомобиля для нашей задачи не важен."
   ]
  },
  {
   "cell_type": "markdown",
   "metadata": {},
   "source": [
    "#### FuelType"
   ]
  },
  {
   "cell_type": "markdown",
   "metadata": {},
   "source": [
    "```FuelType``` — тип топлива."
   ]
  },
  {
   "cell_type": "code",
   "execution_count": 34,
   "metadata": {},
   "outputs": [
    {
     "name": "stdout",
     "output_type": "stream",
     "text": [
      "FuelType\n",
      "petrol      191620\n",
      "gasoline     88939\n",
      "unknown      16761\n",
      "lpg           4798\n",
      "cng            488\n",
      "hybrid         202\n",
      "other           98\n",
      "electric        77\n",
      "Name: count, dtype: int64\n"
     ]
    },
    {
     "data": {
      "image/png": "[encoded data removed]",
      "text/plain": [
       "<Figure size 640x480 with 1 Axes>"
      ]
     },
     "metadata": {},
     "output_type": "display_data"
    }
   ],
   "source": [
    "fig, ax = describe_categorical(data, 'FuelType')\n",
    "ax.set_title('Распределение по типу топлива\\n')\n",
    "ax.set_xlabel('Тип топлива')\n",
    "ax.set_ylabel('Количество автомобилей')\n",
    "ax.tick_params(axis='x', labelrotation=45)\n",
    "plt.show()"
   ]
  },
  {
   "cell_type": "markdown",
   "metadata": {},
   "source": [
    "Большинство машин имеют тип топлива petrol, на втором месте gasoline. Остальные типы представлены в небольшом количестве анкет.\n",
    "\n",
    "Признак категориальный, для линейной регрессии и дерева решений его нужно кодировать.\n"
   ]
  },
  {
   "cell_type": "markdown",
   "metadata": {},
   "source": [
    "#### Brand"
   ]
  },
  {
   "cell_type": "markdown",
   "metadata": {},
   "source": [
    "```Brand``` — марка автомобиля."
   ]
  },
  {
   "cell_type": "code",
   "execution_count": 35,
   "metadata": {},
   "outputs": [
    {
     "data": {
      "text/plain": [
       "['alfa_romeo',\n",
       " 'audi',\n",
       " 'bmw',\n",
       " 'chevrolet',\n",
       " 'chrysler',\n",
       " 'citroen',\n",
       " 'dacia',\n",
       " 'daewoo',\n",
       " 'daihatsu',\n",
       " 'fiat',\n",
       " 'ford',\n",
       " 'honda',\n",
       " 'hyundai',\n",
       " 'jaguar',\n",
       " 'jeep',\n",
       " 'kia',\n",
       " 'lada',\n",
       " 'lancia',\n",
       " 'land_rover',\n",
       " 'mazda',\n",
       " 'mercedes_benz',\n",
       " 'mini',\n",
       " 'mitsubishi',\n",
       " 'nissan',\n",
       " 'opel',\n",
       " 'peugeot',\n",
       " 'porsche',\n",
       " 'renault',\n",
       " 'rover',\n",
       " 'saab',\n",
       " 'seat',\n",
       " 'skoda',\n",
       " 'smart',\n",
       " 'sonstige_autos',\n",
       " 'subaru',\n",
       " 'suzuki',\n",
       " 'toyota',\n",
       " 'trabant',\n",
       " 'volkswagen',\n",
       " 'volvo']"
      ]
     },
     "execution_count": 35,
     "metadata": {},
     "output_type": "execute_result"
    }
   ],
   "source": [
    "sorted(data['Brand'].unique())"
   ]
  },
  {
   "cell_type": "code",
   "execution_count": 36,
   "metadata": {},
   "outputs": [
    {
     "data": {
      "text/plain": [
       "40"
      ]
     },
     "execution_count": 36,
     "metadata": {},
     "output_type": "execute_result"
    }
   ],
   "source": [
    "data['Brand'].nunique()"
   ]
  },
  {
   "cell_type": "markdown",
   "metadata": {},
   "source": [
    "В таблице 40 уникальных брендов автомобилей. Аномалий и неявных дубликатов не обнаружено.\n",
    "\n",
    "Признак категориальный, для линейной регрессии и дерева решений его нужно кодировать."
   ]
  },
  {
   "cell_type": "markdown",
   "metadata": {},
   "source": [
    "#### Repaired"
   ]
  },
  {
   "cell_type": "markdown",
   "metadata": {},
   "source": [
    "```Repaired``` — была машина в ремонте или нет."
   ]
  },
  {
   "cell_type": "code",
   "execution_count": 37,
   "metadata": {},
   "outputs": [
    {
     "name": "stdout",
     "output_type": "stream",
     "text": [
      "Repaired\n",
      "no         227300\n",
      "unknown     45302\n",
      "yes         30381\n",
      "Name: count, dtype: int64\n"
     ]
    },
    {
     "data": {
      "image/png": "[encoded data removed]",
      "text/plain": [
       "<Figure size 640x480 with 1 Axes>"
      ]
     },
     "metadata": {},
     "output_type": "display_data"
    }
   ],
   "source": [
    "fig, ax = describe_categorical(data, 'Repaired')\n",
    "ax.set_title('Распределение по факту ремонта\\n')\n",
    "ax.set_xlabel('Машина была в ремонте')\n",
    "ax.set_ylabel('Количество автомобилей')\n",
    "ax.tick_params(axis='x', labelrotation=0)\n",
    "plt.show()"
   ]
  },
  {
   "cell_type": "markdown",
   "metadata": {},
   "source": [
    "Большинство автомобилей в таблице не были в ремонте.\n",
    "\n",
    "Признак категориальный, для линейной регрессии и дерева решений его нужно кодировать."
   ]
  },
  {
   "cell_type": "markdown",
   "metadata": {},
   "source": [
    "#### DateCreated"
   ]
  },
  {
   "cell_type": "markdown",
   "metadata": {},
   "source": [
    "```DateCreated``` — дата создания анкеты."
   ]
  },
  {
   "cell_type": "code",
   "execution_count": 38,
   "metadata": {},
   "outputs": [
    {
     "data": {
      "text/plain": [
       "count                           302983\n",
       "mean     2016-03-20 19:21:30.500127488\n",
       "min                2015-03-20 00:00:00\n",
       "25%                2016-03-13 00:00:00\n",
       "50%                2016-03-21 00:00:00\n",
       "75%                2016-03-29 00:00:00\n",
       "max                2016-04-07 00:00:00\n",
       "Name: DateCreated, dtype: object"
      ]
     },
     "execution_count": 38,
     "metadata": {},
     "output_type": "execute_result"
    }
   ],
   "source": [
    "data['DateCreated'].describe()"
   ]
  },
  {
   "cell_type": "code",
   "execution_count": 39,
   "metadata": {},
   "outputs": [
    {
     "data": {
      "text/plain": [
       "'Анкет, созданных до марта 2016 года: 0.15%'"
      ]
     },
     "execution_count": 39,
     "metadata": {},
     "output_type": "execute_result"
    }
   ],
   "source": [
    "'Анкет, созданных до марта 2016 года: {:.2%}'.format(data.query('DateCreated < \"2016-03-01\"').shape[0] / data.shape[0])"
   ]
  },
  {
   "cell_type": "markdown",
   "metadata": {},
   "source": [
    "В таблице есть объявления, созданные с марта 2015 года по апрель 2016. Дата создания анкеты могла бы быть полезна для определения цены, например, чтобы учитывать инфляцию или сезонные изменения спроса. Но большая часть анкет (99%) созданы в марте-апреле 2016 года, поэтому использовать в обучении этот признак смысла не имеет."
   ]
  },
  {
   "cell_type": "markdown",
   "metadata": {},
   "source": [
    "#### NumberOfPictures"
   ]
  },
  {
   "cell_type": "markdown",
   "metadata": {},
   "source": [
    "```NumberOfPictures``` — количество фотографий автомобиля."
   ]
  },
  {
   "cell_type": "code",
   "execution_count": 40,
   "metadata": {},
   "outputs": [
    {
     "data": {
      "text/plain": [
       "NumberOfPictures\n",
       "0    302983\n",
       "Name: count, dtype: int64"
      ]
     },
     "execution_count": 40,
     "metadata": {},
     "output_type": "execute_result"
    }
   ],
   "source": [
    "data['NumberOfPictures'].value_counts()"
   ]
  },
  {
   "cell_type": "markdown",
   "metadata": {},
   "source": [
    "Для всех анкет этот признак принимает значение 0. Но даже если бы значений было несколько, количество фотографий в анкете вряд ли влияет на цену автомобиля."
   ]
  },
  {
   "cell_type": "markdown",
   "metadata": {},
   "source": [
    "#### PostalCode"
   ]
  },
  {
   "cell_type": "markdown",
   "metadata": {},
   "source": [
    "```PostalCode``` — почтовый индекс владельца анкеты (пользователя)."
   ]
  },
  {
   "cell_type": "code",
   "execution_count": 41,
   "metadata": {},
   "outputs": [
    {
     "data": {
      "text/plain": [
       "PostalCode\n",
       "10115    801\n",
       "65428    513\n",
       "66333    287\n",
       "60311    263\n",
       "52525    257\n",
       "        ... \n",
       "21360      1\n",
       "26906      1\n",
       "25868      1\n",
       "6638       1\n",
       "95691      1\n",
       "Name: count, Length: 8119, dtype: int64"
      ]
     },
     "execution_count": 41,
     "metadata": {},
     "output_type": "execute_result"
    }
   ],
   "source": [
    "data['PostalCode'].value_counts()"
   ]
  },
  {
   "cell_type": "markdown",
   "metadata": {},
   "source": [
    "Почтовый индекс владельца анкеты не влияет на стоимость автомобиля."
   ]
  },
  {
   "cell_type": "markdown",
   "metadata": {},
   "source": [
    "####  LastSeen"
   ]
  },
  {
   "cell_type": "markdown",
   "metadata": {},
   "source": [
    "```LastSeen``` — дата последней активности пользователя."
   ]
  },
  {
   "cell_type": "code",
   "execution_count": 42,
   "metadata": {},
   "outputs": [
    {
     "data": {
      "text/plain": [
       "count                           302983\n",
       "mean     2016-03-30 04:24:38.371987712\n",
       "min                2016-03-05 14:15:08\n",
       "25%                2016-03-23 12:48:18\n",
       "50%                2016-04-04 00:41:17\n",
       "75%                2016-04-06 10:45:46\n",
       "max                2016-04-07 14:58:51\n",
       "Name: LastSeen, dtype: object"
      ]
     },
     "execution_count": 42,
     "metadata": {},
     "output_type": "execute_result"
    }
   ],
   "source": [
    "data['LastSeen'].describe()"
   ]
  },
  {
   "cell_type": "markdown",
   "metadata": {},
   "source": [
    "Аномальных значений не наблюдается. В любом случае, время последней активности пользователя не влияет на стоимость автомобиля.\n"
   ]
  },
  {
   "cell_type": "markdown",
   "metadata": {},
   "source": [
    "#### Price"
   ]
  },
  {
   "cell_type": "markdown",
   "metadata": {},
   "source": [
    "```Price``` — цена (евро). Целевой признак."
   ]
  },
  {
   "cell_type": "code",
   "execution_count": 43,
   "metadata": {},
   "outputs": [
    {
     "name": "stdout",
     "output_type": "stream",
     "text": [
      "Price:\n",
      "count    302983.000000\n",
      "mean       4751.321427\n",
      "std        4615.597497\n",
      "min           0.000000\n",
      "25%        1250.000000\n",
      "50%        3000.000000\n",
      "75%        6900.000000\n",
      "max       20000.000000\n",
      "Name: Price, dtype: float64\n"
     ]
    },
    {
     "data": {
      "image/png": "[encoded data removed]",
      "text/plain": [
       "<Figure size 500x1000 with 1 Axes>"
      ]
     },
     "metadata": {},
     "output_type": "display_data"
    }
   ],
   "source": [
    "fig, ax = describe_numeric(data, 'Price')\n",
    "ax.set_title('Распределение по цене\\n')\n",
    "ax.set_ylabel('Цена, евро')\n",
    "plt.show()"
   ]
  },
  {
   "cell_type": "markdown",
   "metadata": {},
   "source": [
    "Есть нулевые значения цены, которые можно считать аномальными. Удалим их."
   ]
  },
  {
   "cell_type": "code",
   "execution_count": 44,
   "metadata": {},
   "outputs": [],
   "source": [
    "data = data.query('Price > 0')"
   ]
  },
  {
   "cell_type": "code",
   "execution_count": 45,
   "metadata": {},
   "outputs": [],
   "source": [
    "data = data.reset_index(drop=True)"
   ]
  },
  {
   "cell_type": "code",
   "execution_count": 46,
   "metadata": {},
   "outputs": [
    {
     "data": {
      "text/plain": [
       "(296583, 16)"
      ]
     },
     "execution_count": 46,
     "metadata": {},
     "output_type": "execute_result"
    }
   ],
   "source": [
    "data.shape"
   ]
  },
  {
   "cell_type": "markdown",
   "metadata": {},
   "source": [
    "Проверим данные на дубликаты по релевантным столбцам."
   ]
  },
  {
   "cell_type": "code",
   "execution_count": 47,
   "metadata": {},
   "outputs": [],
   "source": [
    "relevant_cols = ['VehicleType', 'RegistrationYear', 'Gearbox', \\\n",
    "                 'Power', 'Model', 'Kilometer', 'FuelType', 'Brand', 'Repaired', 'Price']"
   ]
  },
  {
   "cell_type": "code",
   "execution_count": 48,
   "metadata": {},
   "outputs": [
    {
     "data": {
      "text/plain": [
       "39089"
      ]
     },
     "execution_count": 48,
     "metadata": {},
     "output_type": "execute_result"
    }
   ],
   "source": [
    "data.duplicated(subset=relevant_cols).sum()"
   ]
  },
  {
   "cell_type": "code",
   "execution_count": 49,
   "metadata": {},
   "outputs": [
    {
     "data": {
      "text/plain": [
       "(296583, 16)"
      ]
     },
     "execution_count": 49,
     "metadata": {},
     "output_type": "execute_result"
    }
   ],
   "source": [
    "data.shape"
   ]
  },
  {
   "cell_type": "markdown",
   "metadata": {},
   "source": [
    "Если рассматривать подмножество релевантных столбцов, то видим еще дубликаты. Удалим их.\n"
   ]
  },
  {
   "cell_type": "code",
   "execution_count": 50,
   "metadata": {},
   "outputs": [],
   "source": [
    "data = data.drop_duplicates(subset=relevant_cols).reset_index(drop=True)"
   ]
  },
  {
   "cell_type": "code",
   "execution_count": 51,
   "metadata": {},
   "outputs": [
    {
     "data": {
      "text/plain": [
       "0"
      ]
     },
     "execution_count": 51,
     "metadata": {},
     "output_type": "execute_result"
    }
   ],
   "source": [
    "data.duplicated(subset=relevant_cols).sum()"
   ]
  },
  {
   "cell_type": "code",
   "execution_count": 52,
   "metadata": {},
   "outputs": [
    {
     "data": {
      "text/plain": [
       "(257494, 16)"
      ]
     },
     "execution_count": 52,
     "metadata": {},
     "output_type": "execute_result"
    }
   ],
   "source": [
    "data.shape"
   ]
  },
  {
   "cell_type": "markdown",
   "metadata": {},
   "source": [
    "#### Исследовательский анализ - итог"
   ]
  },
  {
   "cell_type": "markdown",
   "metadata": {},
   "source": [
    "Провели исследовательский анализ данных.\n",
    "В таблице ```data``` (```autos.csv```) данные о 296583 автомобилях (после удаления дубликатов и аномальных значений).\n",
    "\n",
    "1. ```DateCrawled``` — в таблице есть данные об объявлениях, скачанных в период с 2016-03-05 по 2016-04-07. Для обучения этот столбец не представляет особой ценности.\n",
    "2. ```VehicleType``` — представлены автомобили 7 типов + тип \"other\" + автомобили неизвестных типов (наша заглушка unknown). Больше всего в выборке автомобилей типа sedan и small, меньше всего - suv и other.\n",
    "3. ```RegistrationYear``` — в таблице обнаружены аномальные значения. Удалили записи с годом регистрации менее 1950 и более 2016 (2016 - год создания самой свежей анкеты, поэтому в таблице не может быть автомобиля с регистрацией позже 2016).\n",
    "4. ```Gearbox``` — 2 типа коробки передач - ручная и автомат, плюс заглушка. Преобладают машины с ручной коробкой передач.\n",
    "5. ```Power``` — наблюдаются аномально высокие значения, а также нулевые значения. Удалили аномальные значения более 1000 л.с. и нулевые значения.\n",
    "6. ```Model``` — в таблице представлено 248 уникальных моделей автомобилей, а также  other и unknown.\n",
    "7. ```Kilometer``` — дискретный, принимает значения от 5000 до 150000 километров. Аномалий не обнаружено.\n",
    "8. ```RegistrationMonth``` — месяц регистрации автомобиля, для нас ценности не представляет.\n",
    "9. ```FuelType``` — большинство машин имеют тип топлива petrol, на втором месте gasoline. Остальные типы представлены в небольшом количестве анкет.\n",
    "10. ```Brand``` — в таблице 40 уникальных брендов автомобилей. Аномалий и неявных дубликатов не обнаружено\n",
    "11. ```Repaired``` — большинство автомобилей в таблице не были в ремонте.\n",
    "12. ```DateCreated``` — в таблице есть объявления, созданные с марта 2015 года по апрель 2016. Дата создания анкеты могла бы быть полезна для определения цены, например, чтобы учитывать инфляцию или сезонные изменения спроса. Но большая часть анкет (99%) созданы в марте-апреле 2016 года, поэтому использовать в обучении этот признак смысла не имеет.\n",
    "13. ```NumberOfPictures``` — для всех анкет этот признак принимает значение 0. Но даже если бы значений было несколько, количество фотографий в анкете вряд ли влияет на цену автомобиля.\n",
    "14. ```PostalCode``` — почтовый индекс владельца анкеты не влияет на стоимость автомобиля.\n",
    "15. ```LastSeen``` — аномальных значений не наблюдается. В любом случае, время последней активности пользователя не влияет на стоимость автомобиля.\n",
    "16. ```Price``` - обнаружены нулевые значения цены, которые можно считать аномальными. Удалили эти значения.\n",
    "\n",
    "Для обучения предлагается использовать следующие входные признаки:\n",
    "+ ```VehicleType```\n",
    "+ ```RegistrationYear```\n",
    "+ ```Gearbox```\n",
    "+ ```Power```\n",
    "+ ```Model```\n",
    "+ ```Kilometer```\n",
    "+ ```FuelType```\n",
    "+ ```Brand```\n",
    "+ ```Repaired```"
   ]
  },
  {
   "cell_type": "markdown",
   "metadata": {},
   "source": [
    "### Корреляционный анализ"
   ]
  },
  {
   "cell_type": "markdown",
   "metadata": {},
   "source": [
    "Проведем корреляционный анализ данных, проверим признаки на наличие мультиколлинеарности."
   ]
  },
  {
   "cell_type": "code",
   "execution_count": 53,
   "metadata": {},
   "outputs": [],
   "source": [
    "interval_cols = ['Price', 'Power', 'RegistrationYear', 'Kilometer']"
   ]
  },
  {
   "cell_type": "code",
   "execution_count": 54,
   "metadata": {},
   "outputs": [],
   "source": [
    "phik_overview = phik_matrix(data[relevant_cols], interval_cols=interval_cols)"
   ]
  },
  {
   "cell_type": "code",
   "execution_count": 55,
   "metadata": {
    "scrolled": false
   },
   "outputs": [
    {
     "data": {
      "image/png": "[encoded data removed]",
      "text/plain": [
       "<Figure size 2000x1500 with 2 Axes>"
      ]
     },
     "metadata": {},
     "output_type": "display_data"
    }
   ],
   "source": [
    "plot_correlation_matrix(\n",
    "    phik_overview.values,\n",
    "    x_labels=phik_overview.columns,\n",
    "    y_labels=phik_overview.index,\n",
    "    vmin=0, vmax=1, color_map='Greens',\n",
    "    title=r'correlation $\\phi_K$',\n",
    "    fontsize_factor=1.5,\n",
    "    figsize=(20, 15)\n",
    ") "
   ]
  },
  {
   "cell_type": "markdown",
   "metadata": {},
   "source": [
    "Наблюдаем сильную связь признака Model с признаком Brand, т.к. в основном названия моделей уникальны для бренда."
   ]
  },
  {
   "cell_type": "code",
   "execution_count": 56,
   "metadata": {},
   "outputs": [
    {
     "data": {
      "text/plain": [
       "Model\n",
       "unknown       40\n",
       "other         39\n",
       "grand          3\n",
       "3_reihe        2\n",
       "freelander     2\n",
       "              ..\n",
       "cx_reihe       1\n",
       "delta          1\n",
       "doblo          1\n",
       "ducato         1\n",
       "zafira         1\n",
       "Name: Brand, Length: 250, dtype: int64"
      ]
     },
     "execution_count": 56,
     "metadata": {},
     "output_type": "execute_result"
    }
   ],
   "source": [
    "data.groupby('Model')['Brand'].nunique().sort_values(ascending=False)"
   ]
  },
  {
   "cell_type": "markdown",
   "metadata": {},
   "source": [
    "Удалять признак Brand не будем, т.к. в таблице есть неуникальные для брендов значения признака Model."
   ]
  },
  {
   "cell_type": "markdown",
   "metadata": {},
   "source": [
    "### Подготовка данных - итог"
   ]
  },
  {
   "cell_type": "markdown",
   "metadata": {},
   "source": [
    "Провели подготовку данных для обучения моделей.\n",
    "\n",
    "Провели предобработку данных.\n",
    "1. Пропуски обнаружены в категориальных столбцах ```Repaired```, ```VehicleType```, ```FuelType```, ```Gearbox```, ```Model```. Заполнили пропуски заглушкой \"unknown\".\n",
    "2. Привели даты к типу datetime.\n",
    "3. Удалили явные дубликаты.\n",
    "\n",
    "Провели исследовательский анализ данных.\n",
    "В таблице ```data``` (```autos.csv```) данные о 296583 автомобилях (после удаления дубликатов и аномальных значений).\n",
    "1. ```DateCrawled``` — в таблице есть данные об объявлениях, скачанных в период с 2016-03-05 по 2016-04-07. Для обучения этот столбец не представляет особой ценности.\n",
    "2. ```VehicleType``` — представлены автомобили 7 типов + тип \"other\" + автомобили неизвестных типов (наша заглушка unknown). Больше всего в выборке автомобилей типа sedan и small, меньше всего - suv и other.\n",
    "3. ```RegistrationYear``` — в таблице обнаружены аномальные значения. Удалили записи с годом регистрации менее 1950 и более 2016 (2016 - год создания самой свежей анкеты, поэтому в таблице не может быть автомобиля с регистрацией позже 2016).\n",
    "4. ```Gearbox``` — 2 типа коробки передач - ручная и автомат, плюс заглушка. Преобладают машины с ручной коробкой передач.\n",
    "5. ```Power``` — наблюдаются аномально высокие значения, а также нулевые значения. Удалили аномальные значения более 1000 л.с. и нулевые значения.\n",
    "6. ```Model``` — в таблице представлено 248 уникальных моделей автомобилей, а также  other и unknown.\n",
    "7. ```Kilometer``` — дискретный, принимает значения от 5000 до 150000 километров. Аномалий не обнаружено.\n",
    "8. ```RegistrationMonth``` — месяц регистрации автомобиля, для нас ценности не представляет.\n",
    "9. ```FuelType``` — большинство машин имеют тип топлива petrol, на втором месте gasoline. Остальные типы представлены в небольшом количестве анкет.\n",
    "10. ```Brand``` — в таблице 40 уникальных брендов автомобилей. Аномалий и неявных дубликатов не обнаружено\n",
    "11. ```Repaired``` — большинство автомобилей в таблице не были в ремонте.\n",
    "12. ```DateCreated``` — в таблице есть объявления, созданные с марта 2015 года по апрель 2016. Дата создания анкеты могла бы быть полезна для определения цены, например, чтобы учитывать инфляцию или сезонные изменения спроса. Но большая часть анкет (99%) созданы в марте-апреле 2016 года, поэтому использовать в обучении этот признак смысла не имеет.\n",
    "13. ```NumberOfPictures``` — для всех анкет этот признак принимает значение 0. Но даже если бы значений было несколько, количество фотографий в анкете вряд ли влияет на цену автомобиля.\n",
    "14. ```PostalCode``` — почтовый индекс владельца анкеты не влияет на стоимость автомобиля.\n",
    "15. ```LastSeen``` — аномальных значений не наблюдается. В любом случае, время последней активности пользователя не влияет на стоимость автомобиля.\n",
    "16. ```Price``` - обнаружены нулевые значения цены, которые можно считать аномальными. Удалили эти значения.\n",
    "\n",
    "Провели корреляционный анализ данных.\n",
    "Наблюдаем сильную связь признака Model с признаком Brand, т.к. многие наименования моделей уникальны для брендов.\n",
    "\n",
    "Для обучения предлагается использовать следующие входные признаки: \n",
    "+ ```VehicleType```\n",
    "+ ```RegistrationYear```\n",
    "+ ```Gearbox```\n",
    "+ ```Power```\n",
    "+ ```Kilometer```\n",
    "+ ```FuelType```\n",
    "+ ```Brand```\n",
    "+ ```Model```\n",
    "+ ```Repaired```\n",
    "\n",
    "Проверили данные на дубликаты по подмножеству релевантных столбцов, удалили дубликаты."
   ]
  },
  {
   "cell_type": "markdown",
   "metadata": {},
   "source": [
    "## Обучение моделей"
   ]
  },
  {
   "cell_type": "markdown",
   "metadata": {},
   "source": [
    "### Подготовка выборки"
   ]
  },
  {
   "cell_type": "markdown",
   "metadata": {},
   "source": [
    "Подготовим выборки для обучения моделей.\n",
    "\n",
    "В качестве входных признаков будем использовать следующие признаки:\n",
    "+ VehicleType\n",
    "+ RegistrationYear\n",
    "+ Gearbox\n",
    "+ Power\n",
    "+ Kilometer\n",
    "+ FuelType\n",
    "+ Brand\n",
    "+ Repaired\n",
    "\n",
    "Целевой признак - Price."
   ]
  },
  {
   "cell_type": "code",
   "execution_count": 57,
   "metadata": {},
   "outputs": [],
   "source": [
    "features = ['VehicleType', 'RegistrationYear', 'Gearbox', 'Power', 'Kilometer', 'FuelType', 'Brand', 'Repaired', 'Model']"
   ]
  },
  {
   "cell_type": "code",
   "execution_count": 58,
   "metadata": {},
   "outputs": [],
   "source": [
    "X = data[features]"
   ]
  },
  {
   "cell_type": "code",
   "execution_count": 59,
   "metadata": {},
   "outputs": [],
   "source": [
    "y = data['Price']"
   ]
  },
  {
   "cell_type": "markdown",
   "metadata": {},
   "source": [
    "Проверим размерности."
   ]
  },
  {
   "cell_type": "code",
   "execution_count": 60,
   "metadata": {},
   "outputs": [
    {
     "data": {
      "text/plain": [
       "((257494, 16), (257494, 9), (257494,))"
      ]
     },
     "execution_count": 60,
     "metadata": {},
     "output_type": "execute_result"
    }
   ],
   "source": [
    "data.shape, X.shape, y.shape"
   ]
  },
  {
   "cell_type": "markdown",
   "metadata": {},
   "source": [
    "Разделим выборку на train (60%), valid (20%) и test (20%)."
   ]
  },
  {
   "cell_type": "code",
   "execution_count": 61,
   "metadata": {},
   "outputs": [],
   "source": [
    "X_train, X_test_valid, y_train, y_test_valid = train_test_split(X, y, test_size=0.4, random_state=RANDOM_STATE)"
   ]
  },
  {
   "cell_type": "code",
   "execution_count": 62,
   "metadata": {},
   "outputs": [],
   "source": [
    "X_test, X_valid, y_test, y_valid = train_test_split(X_test_valid, y_test_valid, test_size=0.5, random_state=RANDOM_STATE)"
   ]
  },
  {
   "cell_type": "markdown",
   "metadata": {},
   "source": [
    "Проверим размерности."
   ]
  },
  {
   "cell_type": "code",
   "execution_count": 63,
   "metadata": {},
   "outputs": [
    {
     "data": {
      "text/plain": [
       "(257494, 16)"
      ]
     },
     "execution_count": 63,
     "metadata": {},
     "output_type": "execute_result"
    }
   ],
   "source": [
    "data.shape"
   ]
  },
  {
   "cell_type": "code",
   "execution_count": 64,
   "metadata": {},
   "outputs": [
    {
     "data": {
      "text/plain": [
       "((154496, 9), (51499, 9), (51499, 9))"
      ]
     },
     "execution_count": 64,
     "metadata": {},
     "output_type": "execute_result"
    }
   ],
   "source": [
    "X_train.shape, X_test.shape, X_valid.shape"
   ]
  },
  {
   "cell_type": "code",
   "execution_count": 65,
   "metadata": {},
   "outputs": [
    {
     "data": {
      "text/plain": [
       "257494"
      ]
     },
     "execution_count": 65,
     "metadata": {},
     "output_type": "execute_result"
    }
   ],
   "source": [
    "X_train.shape[0] + X_test.shape[0] + X_valid.shape[0]"
   ]
  },
  {
   "cell_type": "code",
   "execution_count": 66,
   "metadata": {},
   "outputs": [
    {
     "data": {
      "text/plain": [
       "((154496,), (51499,), (51499,))"
      ]
     },
     "execution_count": 66,
     "metadata": {},
     "output_type": "execute_result"
    }
   ],
   "source": [
    "y_train.shape, y_test.shape, y_valid.shape"
   ]
  },
  {
   "cell_type": "markdown",
   "metadata": {},
   "source": [
    "С размерностями всё ОК."
   ]
  },
  {
   "cell_type": "markdown",
   "metadata": {},
   "source": [
    "### Создание пайплайнов"
   ]
  },
  {
   "cell_type": "markdown",
   "metadata": {},
   "source": [
    "Создадим список признаков, к которым надо применить масштабирование или кодирование."
   ]
  },
  {
   "cell_type": "code",
   "execution_count": 67,
   "metadata": {},
   "outputs": [],
   "source": [
    "ohe_columns = ['VehicleType', 'Gearbox', 'FuelType', 'Brand', 'Repaired', 'Model']\n",
    "num_columns = ['RegistrationYear', 'Power', 'Kilometer']"
   ]
  },
  {
   "cell_type": "markdown",
   "metadata": {},
   "source": [
    "Добавляем в пайплайн OHE-кодирование для линейной регрессии."
   ]
  },
  {
   "cell_type": "code",
   "execution_count": 68,
   "metadata": {},
   "outputs": [],
   "source": [
    "ohe_pipe = Pipeline(\n",
    "    [\n",
    "        (\n",
    "            'simpleImputer_ohe', \n",
    "            SimpleImputer(missing_values=np.nan, strategy='most_frequent')\n",
    "        ),\n",
    "        (\n",
    "            'ohe', \n",
    "            OneHotEncoder(drop='first', handle_unknown='ignore', sparse_output=True)\n",
    "        )\n",
    "    ]\n",
    ") "
   ]
  },
  {
   "cell_type": "markdown",
   "metadata": {},
   "source": [
    "Добавим в пайплайн Ordinal-кодирование для деревьев."
   ]
  },
  {
   "cell_type": "code",
   "execution_count": 69,
   "metadata": {},
   "outputs": [],
   "source": [
    "ord_pipe = Pipeline(\n",
    "    [\n",
    "        (\n",
    "            'simpleImputer_before_ord', \n",
    "            SimpleImputer(missing_values=np.nan, strategy='most_frequent')\n",
    "        ),\n",
    "        (\n",
    "            'ord',  \n",
    "            OrdinalEncoder(\n",
    "                handle_unknown='use_encoded_value', \n",
    "                unknown_value=np.nan\n",
    "            )\n",
    "        ),\n",
    "        (\n",
    "            'simpleImputer_after_ord', \n",
    "            SimpleImputer(missing_values=np.nan, strategy='most_frequent')\n",
    "        )\n",
    "    ]\n",
    ") "
   ]
  },
  {
   "cell_type": "markdown",
   "metadata": {},
   "source": [
    "Объединяем шаги подготовки в пайплайн для линейной регрессии.\n",
    "\n",
    "+ Применяем пайплайн ohe_pipe к данным ohe_columns, которые требуют OHE-кодирования. Это шаг ohe.\n",
    "+ Масштабируем данные num_columns. Это шаг num."
   ]
  },
  {
   "cell_type": "code",
   "execution_count": 70,
   "metadata": {},
   "outputs": [],
   "source": [
    "data_preprocessor_lr = ColumnTransformer(\n",
    "    [\n",
    "        ('ohe', ohe_pipe, ohe_columns),\n",
    "        ('num', StandardScaler(), num_columns)\n",
    "    ], \n",
    "    remainder='passthrough'\n",
    ") "
   ]
  },
  {
   "cell_type": "markdown",
   "metadata": {},
   "source": [
    "Для дерева решений не требуется проводить масштабирование."
   ]
  },
  {
   "cell_type": "code",
   "execution_count": 71,
   "metadata": {},
   "outputs": [],
   "source": [
    "data_preprocessor_tree = ColumnTransformer(\n",
    "    [\n",
    "        ('ohe', ohe_pipe, ohe_columns)\n",
    "    ], \n",
    "    remainder='passthrough'\n",
    ") "
   ]
  },
  {
   "cell_type": "markdown",
   "metadata": {},
   "source": [
    "### Подбор лучших параметров для LightGBM"
   ]
  },
  {
   "cell_type": "markdown",
   "metadata": {},
   "source": [
    "LightBGM для работы с категориальными признаками требуется либо One-hot encoding, либо перевод признаков в pandas тип category. Т.к. у нас уже есть пайплайн для OHE, будем использовать его."
   ]
  },
  {
   "cell_type": "code",
   "execution_count": 72,
   "metadata": {},
   "outputs": [],
   "source": [
    "pipe_final_lgbm = Pipeline(\n",
    "    [\n",
    "        ('preprocessor', data_preprocessor_tree),\n",
    "        ('models', LGBMRegressor())\n",
    "    ]\n",
    ")"
   ]
  },
  {
   "cell_type": "code",
   "execution_count": 73,
   "metadata": {},
   "outputs": [],
   "source": [
    "param_grid_lgbm = [\n",
    "    {\n",
    "        'models': [LGBMRegressor(verbosity=-1)],\n",
    "        'models__n_estimators': [100, 200],\n",
    "        'models__learning_rate': [0.01, 0.05, 0.1]\n",
    "    }\n",
    "]"
   ]
  },
  {
   "cell_type": "code",
   "execution_count": 74,
   "metadata": {},
   "outputs": [],
   "source": [
    "grid_search_lgbm = GridSearchCV(\n",
    "    pipe_final_lgbm, \n",
    "    param_grid_lgbm, \n",
    "    cv=5,\n",
    "    scoring='neg_root_mean_squared_error',\n",
    "    n_jobs=-1\n",
    ")"
   ]
  },
  {
   "cell_type": "code",
   "execution_count": 75,
   "metadata": {},
   "outputs": [
    {
     "data": {
      "text/html": [
       "<style>#sk-container-id-1 {color: black;background-color: white;}#sk-container-id-1 pre{padding: 0;}#sk-container-id-1 div.sk-toggleable {background-color: white;}#sk-container-id-1 label.sk-toggleable__label {cursor: pointer;display: block;width: 100%;margin-bottom: 0;padding: 0.3em;box-sizing: border-box;text-align: center;}#sk-container-id-1 label.sk-toggleable__label-arrow:before {content: \"▸\";float: left;margin-right: 0.25em;color: #696969;}#sk-container-id-1 label.sk-toggleable__label-arrow:hover:before {color: black;}#sk-container-id-1 div.sk-estimator:hover label.sk-toggleable__label-arrow:before {color: black;}#sk-container-id-1 div.sk-toggleable__content {max-height: 0;max-width: 0;overflow: hidden;text-align: left;background-color: #f0f8ff;}#sk-container-id-1 div.sk-toggleable__content pre {margin: 0.2em;color: black;border-radius: 0.25em;background-color: #f0f8ff;}#sk-container-id-1 input.sk-toggleable__control:checked~div.sk-toggleable__content {max-height: 200px;max-width: 100%;overflow: auto;}#sk-container-id-1 input.sk-toggleable__control:checked~label.sk-toggleable__label-arrow:before {content: \"▾\";}#sk-container-id-1 div.sk-estimator input.sk-toggleable__control:checked~label.sk-toggleable__label {background-color: #d4ebff;}#sk-container-id-1 div.sk-label input.sk-toggleable__control:checked~label.sk-toggleable__label {background-color: #d4ebff;}#sk-container-id-1 input.sk-hidden--visually {border: 0;clip: rect(1px 1px 1px 1px);clip: rect(1px, 1px, 1px, 1px);height: 1px;margin: -1px;overflow: hidden;padding: 0;position: absolute;width: 1px;}#sk-container-id-1 div.sk-estimator {font-family: monospace;background-color: #f0f8ff;border: 1px dotted black;border-radius: 0.25em;box-sizing: border-box;margin-bottom: 0.5em;}#sk-container-id-1 div.sk-estimator:hover {background-color: #d4ebff;}#sk-container-id-1 div.sk-parallel-item::after {content: \"\";width: 100%;border-bottom: 1px solid gray;flex-grow: 1;}#sk-container-id-1 div.sk-label:hover label.sk-toggleable__label {background-color: #d4ebff;}#sk-container-id-1 div.sk-serial::before {content: \"\";position: absolute;border-left: 1px solid gray;box-sizing: border-box;top: 0;bottom: 0;left: 50%;z-index: 0;}#sk-container-id-1 div.sk-serial {display: flex;flex-direction: column;align-items: center;background-color: white;padding-right: 0.2em;padding-left: 0.2em;position: relative;}#sk-container-id-1 div.sk-item {position: relative;z-index: 1;}#sk-container-id-1 div.sk-parallel {display: flex;align-items: stretch;justify-content: center;background-color: white;position: relative;}#sk-container-id-1 div.sk-item::before, #sk-container-id-1 div.sk-parallel-item::before {content: \"\";position: absolute;border-left: 1px solid gray;box-sizing: border-box;top: 0;bottom: 0;left: 50%;z-index: -1;}#sk-container-id-1 div.sk-parallel-item {display: flex;flex-direction: column;z-index: 1;position: relative;background-color: white;}#sk-container-id-1 div.sk-parallel-item:first-child::after {align-self: flex-end;width: 50%;}#sk-container-id-1 div.sk-parallel-item:last-child::after {align-self: flex-start;width: 50%;}#sk-container-id-1 div.sk-parallel-item:only-child::after {width: 0;}#sk-container-id-1 div.sk-dashed-wrapped {border: 1px dashed gray;margin: 0 0.4em 0.5em 0.4em;box-sizing: border-box;padding-bottom: 0.4em;background-color: white;}#sk-container-id-1 div.sk-label label {font-family: monospace;font-weight: bold;display: inline-block;line-height: 1.2em;}#sk-container-id-1 div.sk-label-container {text-align: center;}#sk-container-id-1 div.sk-container {/* jupyter's `normalize.less` sets `[hidden] { display: none; }` but bootstrap.min.css set `[hidden] { display: none !important; }` so we also need the `!important` here to be able to override the default hidden behavior on the sphinx rendered scikit-learn.org. See: https://github.com/scikit-learn/scikit-learn/issues/21755 */display: inline-block !important;position: relative;}#sk-container-id-1 div.sk-text-repr-fallback {display: none;}</style><div id=\"sk-container-id-1\" class=\"sk-top-container\"><div class=\"sk-text-repr-fallback\"><pre>GridSearchCV(cv=5,\n",
       "             estimator=Pipeline(steps=[(&#x27;preprocessor&#x27;,\n",
       "                                        ColumnTransformer(remainder=&#x27;passthrough&#x27;,\n",
       "                                                          transformers=[(&#x27;ohe&#x27;,\n",
       "                                                                         Pipeline(steps=[(&#x27;simpleImputer_ohe&#x27;,\n",
       "                                                                                          SimpleImputer(strategy=&#x27;most_frequent&#x27;)),\n",
       "                                                                                         (&#x27;ohe&#x27;,\n",
       "                                                                                          OneHotEncoder(drop=&#x27;first&#x27;,\n",
       "                                                                                                        handle_unknown=&#x27;ignore&#x27;))]),\n",
       "                                                                         [&#x27;VehicleType&#x27;,\n",
       "                                                                          &#x27;Gearbox&#x27;,\n",
       "                                                                          &#x27;FuelType&#x27;,\n",
       "                                                                          &#x27;Brand&#x27;,\n",
       "                                                                          &#x27;Repaired&#x27;,\n",
       "                                                                          &#x27;Model&#x27;])])),\n",
       "                                       (&#x27;models&#x27;, LGBMRegressor())]),\n",
       "             n_jobs=-1,\n",
       "             param_grid=[{&#x27;models&#x27;: [LGBMRegressor(n_estimators=200,\n",
       "                                                   verbosity=-1)],\n",
       "                          &#x27;models__learning_rate&#x27;: [0.01, 0.05, 0.1],\n",
       "                          &#x27;models__n_estimators&#x27;: [100, 200]}],\n",
       "             scoring=&#x27;neg_root_mean_squared_error&#x27;)</pre><b>In a Jupyter environment, please rerun this cell to show the HTML representation or trust the notebook. <br />On GitHub, the HTML representation is unable to render, please try loading this page with nbviewer.org.</b></div><div class=\"sk-container\" hidden><div class=\"sk-item sk-dashed-wrapped\"><div class=\"sk-label-container\"><div class=\"sk-label sk-toggleable\"><input class=\"sk-toggleable__control sk-hidden--visually\" id=\"sk-estimator-id-1\" type=\"checkbox\" ><label for=\"sk-estimator-id-1\" class=\"sk-toggleable__label sk-toggleable__label-arrow\">GridSearchCV</label><div class=\"sk-toggleable__content\"><pre>GridSearchCV(cv=5,\n",
       "             estimator=Pipeline(steps=[(&#x27;preprocessor&#x27;,\n",
       "                                        ColumnTransformer(remainder=&#x27;passthrough&#x27;,\n",
       "                                                          transformers=[(&#x27;ohe&#x27;,\n",
       "                                                                         Pipeline(steps=[(&#x27;simpleImputer_ohe&#x27;,\n",
       "                                                                                          SimpleImputer(strategy=&#x27;most_frequent&#x27;)),\n",
       "                                                                                         (&#x27;ohe&#x27;,\n",
       "                                                                                          OneHotEncoder(drop=&#x27;first&#x27;,\n",
       "                                                                                                        handle_unknown=&#x27;ignore&#x27;))]),\n",
       "                                                                         [&#x27;VehicleType&#x27;,\n",
       "                                                                          &#x27;Gearbox&#x27;,\n",
       "                                                                          &#x27;FuelType&#x27;,\n",
       "                                                                          &#x27;Brand&#x27;,\n",
       "                                                                          &#x27;Repaired&#x27;,\n",
       "                                                                          &#x27;Model&#x27;])])),\n",
       "                                       (&#x27;models&#x27;, LGBMRegressor())]),\n",
       "             n_jobs=-1,\n",
       "             param_grid=[{&#x27;models&#x27;: [LGBMRegressor(n_estimators=200,\n",
       "                                                   verbosity=-1)],\n",
       "                          &#x27;models__learning_rate&#x27;: [0.01, 0.05, 0.1],\n",
       "                          &#x27;models__n_estimators&#x27;: [100, 200]}],\n",
       "             scoring=&#x27;neg_root_mean_squared_error&#x27;)</pre></div></div></div><div class=\"sk-parallel\"><div class=\"sk-parallel-item\"><div class=\"sk-item\"><div class=\"sk-label-container\"><div class=\"sk-label sk-toggleable\"><input class=\"sk-toggleable__control sk-hidden--visually\" id=\"sk-estimator-id-2\" type=\"checkbox\" ><label for=\"sk-estimator-id-2\" class=\"sk-toggleable__label sk-toggleable__label-arrow\">estimator: Pipeline</label><div class=\"sk-toggleable__content\"><pre>Pipeline(steps=[(&#x27;preprocessor&#x27;,\n",
       "                 ColumnTransformer(remainder=&#x27;passthrough&#x27;,\n",
       "                                   transformers=[(&#x27;ohe&#x27;,\n",
       "                                                  Pipeline(steps=[(&#x27;simpleImputer_ohe&#x27;,\n",
       "                                                                   SimpleImputer(strategy=&#x27;most_frequent&#x27;)),\n",
       "                                                                  (&#x27;ohe&#x27;,\n",
       "                                                                   OneHotEncoder(drop=&#x27;first&#x27;,\n",
       "                                                                                 handle_unknown=&#x27;ignore&#x27;))]),\n",
       "                                                  [&#x27;VehicleType&#x27;, &#x27;Gearbox&#x27;,\n",
       "                                                   &#x27;FuelType&#x27;, &#x27;Brand&#x27;,\n",
       "                                                   &#x27;Repaired&#x27;, &#x27;Model&#x27;])])),\n",
       "                (&#x27;models&#x27;, LGBMRegressor())])</pre></div></div></div><div class=\"sk-serial\"><div class=\"sk-item\"><div class=\"sk-serial\"><div class=\"sk-item sk-dashed-wrapped\"><div class=\"sk-label-container\"><div class=\"sk-label sk-toggleable\"><input class=\"sk-toggleable__control sk-hidden--visually\" id=\"sk-estimator-id-3\" type=\"checkbox\" ><label for=\"sk-estimator-id-3\" class=\"sk-toggleable__label sk-toggleable__label-arrow\">preprocessor: ColumnTransformer</label><div class=\"sk-toggleable__content\"><pre>ColumnTransformer(remainder=&#x27;passthrough&#x27;,\n",
       "                  transformers=[(&#x27;ohe&#x27;,\n",
       "                                 Pipeline(steps=[(&#x27;simpleImputer_ohe&#x27;,\n",
       "                                                  SimpleImputer(strategy=&#x27;most_frequent&#x27;)),\n",
       "                                                 (&#x27;ohe&#x27;,\n",
       "                                                  OneHotEncoder(drop=&#x27;first&#x27;,\n",
       "                                                                handle_unknown=&#x27;ignore&#x27;))]),\n",
       "                                 [&#x27;VehicleType&#x27;, &#x27;Gearbox&#x27;, &#x27;FuelType&#x27;, &#x27;Brand&#x27;,\n",
       "                                  &#x27;Repaired&#x27;, &#x27;Model&#x27;])])</pre></div></div></div><div class=\"sk-parallel\"><div class=\"sk-parallel-item\"><div class=\"sk-item\"><div class=\"sk-label-container\"><div class=\"sk-label sk-toggleable\"><input class=\"sk-toggleable__control sk-hidden--visually\" id=\"sk-estimator-id-4\" type=\"checkbox\" ><label for=\"sk-estimator-id-4\" class=\"sk-toggleable__label sk-toggleable__label-arrow\">ohe</label><div class=\"sk-toggleable__content\"><pre>[&#x27;VehicleType&#x27;, &#x27;Gearbox&#x27;, &#x27;FuelType&#x27;, &#x27;Brand&#x27;, &#x27;Repaired&#x27;, &#x27;Model&#x27;]</pre></div></div></div><div class=\"sk-serial\"><div class=\"sk-item\"><div class=\"sk-serial\"><div class=\"sk-item\"><div class=\"sk-estimator sk-toggleable\"><input class=\"sk-toggleable__control sk-hidden--visually\" id=\"sk-estimator-id-5\" type=\"checkbox\" ><label for=\"sk-estimator-id-5\" class=\"sk-toggleable__label sk-toggleable__label-arrow\">SimpleImputer</label><div class=\"sk-toggleable__content\"><pre>SimpleImputer(strategy=&#x27;most_frequent&#x27;)</pre></div></div></div><div class=\"sk-item\"><div class=\"sk-estimator sk-toggleable\"><input class=\"sk-toggleable__control sk-hidden--visually\" id=\"sk-estimator-id-6\" type=\"checkbox\" ><label for=\"sk-estimator-id-6\" class=\"sk-toggleable__label sk-toggleable__label-arrow\">OneHotEncoder</label><div class=\"sk-toggleable__content\"><pre>OneHotEncoder(drop=&#x27;first&#x27;, handle_unknown=&#x27;ignore&#x27;)</pre></div></div></div></div></div></div></div></div><div class=\"sk-parallel-item\"><div class=\"sk-item\"><div class=\"sk-label-container\"><div class=\"sk-label sk-toggleable\"><input class=\"sk-toggleable__control sk-hidden--visually\" id=\"sk-estimator-id-7\" type=\"checkbox\" ><label for=\"sk-estimator-id-7\" class=\"sk-toggleable__label sk-toggleable__label-arrow\">remainder</label><div class=\"sk-toggleable__content\"><pre></pre></div></div></div><div class=\"sk-serial\"><div class=\"sk-item\"><div class=\"sk-estimator sk-toggleable\"><input class=\"sk-toggleable__control sk-hidden--visually\" id=\"sk-estimator-id-8\" type=\"checkbox\" ><label for=\"sk-estimator-id-8\" class=\"sk-toggleable__label sk-toggleable__label-arrow\">passthrough</label><div class=\"sk-toggleable__content\"><pre>passthrough</pre></div></div></div></div></div></div></div></div><div class=\"sk-item\"><div class=\"sk-estimator sk-toggleable\"><input class=\"sk-toggleable__control sk-hidden--visually\" id=\"sk-estimator-id-9\" type=\"checkbox\" ><label for=\"sk-estimator-id-9\" class=\"sk-toggleable__label sk-toggleable__label-arrow\">LGBMRegressor</label><div class=\"sk-toggleable__content\"><pre>LGBMRegressor()</pre></div></div></div></div></div></div></div></div></div></div></div></div>"
      ],
      "text/plain": [
       "GridSearchCV(cv=5,\n",
       "             estimator=Pipeline(steps=[('preprocessor',\n",
       "                                        ColumnTransformer(remainder='passthrough',\n",
       "                                                          transformers=[('ohe',\n",
       "                                                                         Pipeline(steps=[('simpleImputer_ohe',\n",
       "                                                                                          SimpleImputer(strategy='most_frequent')),\n",
       "                                                                                         ('ohe',\n",
       "                                                                                          OneHotEncoder(drop='first',\n",
       "                                                                                                        handle_unknown='ignore'))]),\n",
       "                                                                         ['VehicleType',\n",
       "                                                                          'Gearbox',\n",
       "                                                                          'FuelType',\n",
       "                                                                          'Brand',\n",
       "                                                                          'Repaired',\n",
       "                                                                          'Model'])])),\n",
       "                                       ('models', LGBMRegressor())]),\n",
       "             n_jobs=-1,\n",
       "             param_grid=[{'models': [LGBMRegressor(n_estimators=200,\n",
       "                                                   verbosity=-1)],\n",
       "                          'models__learning_rate': [0.01, 0.05, 0.1],\n",
       "                          'models__n_estimators': [100, 200]}],\n",
       "             scoring='neg_root_mean_squared_error')"
      ]
     },
     "execution_count": 75,
     "metadata": {},
     "output_type": "execute_result"
    }
   ],
   "source": [
    "grid_search_lgbm.fit(X_train, y_train)"
   ]
  },
  {
   "cell_type": "markdown",
   "metadata": {},
   "source": [
    "Топ-5 моделей:"
   ]
  },
  {
   "cell_type": "code",
   "execution_count": 76,
   "metadata": {},
   "outputs": [
    {
     "data": {
      "text/html": [
       "<div>\n",
       "<style scoped>\n",
       "    .dataframe tbody tr th:only-of-type {\n",
       "        vertical-align: middle;\n",
       "    }\n",
       "\n",
       "    .dataframe tbody tr th {\n",
       "        vertical-align: top;\n",
       "    }\n",
       "\n",
       "    .dataframe thead th {\n",
       "        text-align: right;\n",
       "    }\n",
       "</style>\n",
       "<table border=\"1\" class=\"dataframe\">\n",
       "  <thead>\n",
       "    <tr style=\"text-align: right;\">\n",
       "      <th></th>\n",
       "      <th>rank_test_score</th>\n",
       "      <th>param_models</th>\n",
       "      <th>mean_test_score</th>\n",
       "      <th>params</th>\n",
       "    </tr>\n",
       "  </thead>\n",
       "  <tbody>\n",
       "    <tr>\n",
       "      <th>5</th>\n",
       "      <td>1</td>\n",
       "      <td>LGBMRegressor(n_estimators=200, verbosity=-1)</td>\n",
       "      <td>-1657.744041</td>\n",
       "      <td>{'models': LGBMRegressor(n_estimators=200, verbosity=-1), 'models__learning_rate': 0.1, 'models__n_estimators': 200}</td>\n",
       "    </tr>\n",
       "    <tr>\n",
       "      <th>3</th>\n",
       "      <td>2</td>\n",
       "      <td>LGBMRegressor(n_estimators=200, verbosity=-1)</td>\n",
       "      <td>-1695.627162</td>\n",
       "      <td>{'models': LGBMRegressor(n_estimators=200, verbosity=-1), 'models__learning_rate': 0.05, 'models__n_estimators': 200}</td>\n",
       "    </tr>\n",
       "    <tr>\n",
       "      <th>4</th>\n",
       "      <td>3</td>\n",
       "      <td>LGBMRegressor(n_estimators=200, verbosity=-1)</td>\n",
       "      <td>-1699.083134</td>\n",
       "      <td>{'models': LGBMRegressor(n_estimators=200, verbosity=-1), 'models__learning_rate': 0.1, 'models__n_estimators': 100}</td>\n",
       "    </tr>\n",
       "    <tr>\n",
       "      <th>2</th>\n",
       "      <td>4</td>\n",
       "      <td>LGBMRegressor(n_estimators=200, verbosity=-1)</td>\n",
       "      <td>-1775.873227</td>\n",
       "      <td>{'models': LGBMRegressor(n_estimators=200, verbosity=-1), 'models__learning_rate': 0.05, 'models__n_estimators': 100}</td>\n",
       "    </tr>\n",
       "    <tr>\n",
       "      <th>1</th>\n",
       "      <td>5</td>\n",
       "      <td>LGBMRegressor(n_estimators=200, verbosity=-1)</td>\n",
       "      <td>-2121.530293</td>\n",
       "      <td>{'models': LGBMRegressor(n_estimators=200, verbosity=-1), 'models__learning_rate': 0.01, 'models__n_estimators': 200}</td>\n",
       "    </tr>\n",
       "  </tbody>\n",
       "</table>\n",
       "</div>"
      ],
      "text/plain": [
       "   rank_test_score                                   param_models  \\\n",
       "5                1  LGBMRegressor(n_estimators=200, verbosity=-1)   \n",
       "3                2  LGBMRegressor(n_estimators=200, verbosity=-1)   \n",
       "4                3  LGBMRegressor(n_estimators=200, verbosity=-1)   \n",
       "2                4  LGBMRegressor(n_estimators=200, verbosity=-1)   \n",
       "1                5  LGBMRegressor(n_estimators=200, verbosity=-1)   \n",
       "\n",
       "   mean_test_score  \\\n",
       "5     -1657.744041   \n",
       "3     -1695.627162   \n",
       "4     -1699.083134   \n",
       "2     -1775.873227   \n",
       "1     -2121.530293   \n",
       "\n",
       "                                                                                                                  params  \n",
       "5   {'models': LGBMRegressor(n_estimators=200, verbosity=-1), 'models__learning_rate': 0.1, 'models__n_estimators': 200}  \n",
       "3  {'models': LGBMRegressor(n_estimators=200, verbosity=-1), 'models__learning_rate': 0.05, 'models__n_estimators': 200}  \n",
       "4   {'models': LGBMRegressor(n_estimators=200, verbosity=-1), 'models__learning_rate': 0.1, 'models__n_estimators': 100}  \n",
       "2  {'models': LGBMRegressor(n_estimators=200, verbosity=-1), 'models__learning_rate': 0.05, 'models__n_estimators': 100}  \n",
       "1  {'models': LGBMRegressor(n_estimators=200, verbosity=-1), 'models__learning_rate': 0.01, 'models__n_estimators': 200}  "
      ]
     },
     "execution_count": 76,
     "metadata": {},
     "output_type": "execute_result"
    }
   ],
   "source": [
    "pd.set_option('display.max_colwidth', None)\n",
    "(pd.DataFrame(grid_search_lgbm.cv_results_)\n",
    " .sort_values(by='mean_test_score', ascending=False)\n",
    " [['rank_test_score', 'param_models', 'mean_test_score','params']]\n",
    " .head()\n",
    ")"
   ]
  },
  {
   "cell_type": "code",
   "execution_count": 77,
   "metadata": {},
   "outputs": [
    {
     "name": "stdout",
     "output_type": "stream",
     "text": [
      "Параметры лучшей модели:\n",
      " {'models': LGBMRegressor(n_estimators=200, verbosity=-1), 'models__learning_rate': 0.1, 'models__n_estimators': 200}\n",
      "\n",
      "Метрика лучшей модели на кросс-валидации: 1657.7440406273188\n"
     ]
    }
   ],
   "source": [
    "print('Параметры лучшей модели:\\n', grid_search_lgbm.best_params_)\n",
    "print ('\\nМетрика лучшей модели на кросс-валидации:', grid_search_lgbm.best_score_*(-1))"
   ]
  },
  {
   "cell_type": "markdown",
   "metadata": {},
   "source": [
    "### Подбор лучших параметров для CatBoost"
   ]
  },
  {
   "cell_type": "markdown",
   "metadata": {},
   "source": [
    "Для CatBoost не требуется подготовка данных - ни масштабирование, ни какое-либо кодирование категориальных признаков."
   ]
  },
  {
   "cell_type": "code",
   "execution_count": 78,
   "metadata": {},
   "outputs": [],
   "source": [
    "pipe_final_cb = Pipeline([\n",
    "    ('models', CatBoostRegressor())\n",
    "])"
   ]
  },
  {
   "cell_type": "code",
   "execution_count": 79,
   "metadata": {},
   "outputs": [],
   "source": [
    "param_grid_cb = [\n",
    "    {\n",
    "        'models': [CatBoostRegressor(logging_level='Silent')],\n",
    "        'models__iterations': [50, 100, 200],\n",
    "    }\n",
    "]"
   ]
  },
  {
   "cell_type": "code",
   "execution_count": 80,
   "metadata": {},
   "outputs": [],
   "source": [
    "grid_search_cb = GridSearchCV(\n",
    "    pipe_final_cb, \n",
    "    param_grid_cb, \n",
    "    cv=5,\n",
    "    scoring='neg_root_mean_squared_error',\n",
    "    n_jobs=-1\n",
    ")"
   ]
  },
  {
   "cell_type": "code",
   "execution_count": 81,
   "metadata": {},
   "outputs": [
    {
     "data": {
      "text/html": [
       "<style>#sk-container-id-2 {color: black;background-color: white;}#sk-container-id-2 pre{padding: 0;}#sk-container-id-2 div.sk-toggleable {background-color: white;}#sk-container-id-2 label.sk-toggleable__label {cursor: pointer;display: block;width: 100%;margin-bottom: 0;padding: 0.3em;box-sizing: border-box;text-align: center;}#sk-container-id-2 label.sk-toggleable__label-arrow:before {content: \"▸\";float: left;margin-right: 0.25em;color: #696969;}#sk-container-id-2 label.sk-toggleable__label-arrow:hover:before {color: black;}#sk-container-id-2 div.sk-estimator:hover label.sk-toggleable__label-arrow:before {color: black;}#sk-container-id-2 div.sk-toggleable__content {max-height: 0;max-width: 0;overflow: hidden;text-align: left;background-color: #f0f8ff;}#sk-container-id-2 div.sk-toggleable__content pre {margin: 0.2em;color: black;border-radius: 0.25em;background-color: #f0f8ff;}#sk-container-id-2 input.sk-toggleable__control:checked~div.sk-toggleable__content {max-height: 200px;max-width: 100%;overflow: auto;}#sk-container-id-2 input.sk-toggleable__control:checked~label.sk-toggleable__label-arrow:before {content: \"▾\";}#sk-container-id-2 div.sk-estimator input.sk-toggleable__control:checked~label.sk-toggleable__label {background-color: #d4ebff;}#sk-container-id-2 div.sk-label input.sk-toggleable__control:checked~label.sk-toggleable__label {background-color: #d4ebff;}#sk-container-id-2 input.sk-hidden--visually {border: 0;clip: rect(1px 1px 1px 1px);clip: rect(1px, 1px, 1px, 1px);height: 1px;margin: -1px;overflow: hidden;padding: 0;position: absolute;width: 1px;}#sk-container-id-2 div.sk-estimator {font-family: monospace;background-color: #f0f8ff;border: 1px dotted black;border-radius: 0.25em;box-sizing: border-box;margin-bottom: 0.5em;}#sk-container-id-2 div.sk-estimator:hover {background-color: #d4ebff;}#sk-container-id-2 div.sk-parallel-item::after {content: \"\";width: 100%;border-bottom: 1px solid gray;flex-grow: 1;}#sk-container-id-2 div.sk-label:hover label.sk-toggleable__label {background-color: #d4ebff;}#sk-container-id-2 div.sk-serial::before {content: \"\";position: absolute;border-left: 1px solid gray;box-sizing: border-box;top: 0;bottom: 0;left: 50%;z-index: 0;}#sk-container-id-2 div.sk-serial {display: flex;flex-direction: column;align-items: center;background-color: white;padding-right: 0.2em;padding-left: 0.2em;position: relative;}#sk-container-id-2 div.sk-item {position: relative;z-index: 1;}#sk-container-id-2 div.sk-parallel {display: flex;align-items: stretch;justify-content: center;background-color: white;position: relative;}#sk-container-id-2 div.sk-item::before, #sk-container-id-2 div.sk-parallel-item::before {content: \"\";position: absolute;border-left: 1px solid gray;box-sizing: border-box;top: 0;bottom: 0;left: 50%;z-index: -1;}#sk-container-id-2 div.sk-parallel-item {display: flex;flex-direction: column;z-index: 1;position: relative;background-color: white;}#sk-container-id-2 div.sk-parallel-item:first-child::after {align-self: flex-end;width: 50%;}#sk-container-id-2 div.sk-parallel-item:last-child::after {align-self: flex-start;width: 50%;}#sk-container-id-2 div.sk-parallel-item:only-child::after {width: 0;}#sk-container-id-2 div.sk-dashed-wrapped {border: 1px dashed gray;margin: 0 0.4em 0.5em 0.4em;box-sizing: border-box;padding-bottom: 0.4em;background-color: white;}#sk-container-id-2 div.sk-label label {font-family: monospace;font-weight: bold;display: inline-block;line-height: 1.2em;}#sk-container-id-2 div.sk-label-container {text-align: center;}#sk-container-id-2 div.sk-container {/* jupyter's `normalize.less` sets `[hidden] { display: none; }` but bootstrap.min.css set `[hidden] { display: none !important; }` so we also need the `!important` here to be able to override the default hidden behavior on the sphinx rendered scikit-learn.org. See: https://github.com/scikit-learn/scikit-learn/issues/21755 */display: inline-block !important;position: relative;}#sk-container-id-2 div.sk-text-repr-fallback {display: none;}</style><div id=\"sk-container-id-2\" class=\"sk-top-container\"><div class=\"sk-text-repr-fallback\"><pre>GridSearchCV(cv=5,\n",
       "             estimator=Pipeline(steps=[(&#x27;models&#x27;,\n",
       "                                        &lt;catboost.core.CatBoostRegressor object at 0x000002D6B5BB3B10&gt;)]),\n",
       "             n_jobs=-1,\n",
       "             param_grid=[{&#x27;models&#x27;: [&lt;catboost.core.CatBoostRegressor object at 0x000002D6B5BCBED0&gt;],\n",
       "                          &#x27;models__iterations&#x27;: [50, 100, 200]}],\n",
       "             scoring=&#x27;neg_root_mean_squared_error&#x27;)</pre><b>In a Jupyter environment, please rerun this cell to show the HTML representation or trust the notebook. <br />On GitHub, the HTML representation is unable to render, please try loading this page with nbviewer.org.</b></div><div class=\"sk-container\" hidden><div class=\"sk-item sk-dashed-wrapped\"><div class=\"sk-label-container\"><div class=\"sk-label sk-toggleable\"><input class=\"sk-toggleable__control sk-hidden--visually\" id=\"sk-estimator-id-10\" type=\"checkbox\" ><label for=\"sk-estimator-id-10\" class=\"sk-toggleable__label sk-toggleable__label-arrow\">GridSearchCV</label><div class=\"sk-toggleable__content\"><pre>GridSearchCV(cv=5,\n",
       "             estimator=Pipeline(steps=[(&#x27;models&#x27;,\n",
       "                                        &lt;catboost.core.CatBoostRegressor object at 0x000002D6B5BB3B10&gt;)]),\n",
       "             n_jobs=-1,\n",
       "             param_grid=[{&#x27;models&#x27;: [&lt;catboost.core.CatBoostRegressor object at 0x000002D6B5BCBED0&gt;],\n",
       "                          &#x27;models__iterations&#x27;: [50, 100, 200]}],\n",
       "             scoring=&#x27;neg_root_mean_squared_error&#x27;)</pre></div></div></div><div class=\"sk-parallel\"><div class=\"sk-parallel-item\"><div class=\"sk-item\"><div class=\"sk-label-container\"><div class=\"sk-label sk-toggleable\"><input class=\"sk-toggleable__control sk-hidden--visually\" id=\"sk-estimator-id-11\" type=\"checkbox\" ><label for=\"sk-estimator-id-11\" class=\"sk-toggleable__label sk-toggleable__label-arrow\">estimator: Pipeline</label><div class=\"sk-toggleable__content\"><pre>Pipeline(steps=[(&#x27;models&#x27;,\n",
       "                 &lt;catboost.core.CatBoostRegressor object at 0x000002D6B5BB3B10&gt;)])</pre></div></div></div><div class=\"sk-serial\"><div class=\"sk-item\"><div class=\"sk-serial\"><div class=\"sk-item\"><div class=\"sk-estimator sk-toggleable\"><input class=\"sk-toggleable__control sk-hidden--visually\" id=\"sk-estimator-id-12\" type=\"checkbox\" ><label for=\"sk-estimator-id-12\" class=\"sk-toggleable__label sk-toggleable__label-arrow\">CatBoostRegressor</label><div class=\"sk-toggleable__content\"><pre>&lt;catboost.core.CatBoostRegressor object at 0x000002D6B5BB3B10&gt;</pre></div></div></div></div></div></div></div></div></div></div></div></div>"
      ],
      "text/plain": [
       "GridSearchCV(cv=5,\n",
       "             estimator=Pipeline(steps=[('models',\n",
       "                                        <catboost.core.CatBoostRegressor object at 0x000002D6B5BB3B10>)]),\n",
       "             n_jobs=-1,\n",
       "             param_grid=[{'models': [<catboost.core.CatBoostRegressor object at 0x000002D6B5BCBED0>],\n",
       "                          'models__iterations': [50, 100, 200]}],\n",
       "             scoring='neg_root_mean_squared_error')"
      ]
     },
     "execution_count": 81,
     "metadata": {},
     "output_type": "execute_result"
    }
   ],
   "source": [
    "grid_search_cb.fit(X_train, y_train, models__cat_features=ohe_columns)"
   ]
  },
  {
   "cell_type": "markdown",
   "metadata": {},
   "source": [
    "Рейтинг моделей:"
   ]
  },
  {
   "cell_type": "code",
   "execution_count": 82,
   "metadata": {},
   "outputs": [
    {
     "data": {
      "text/html": [
       "<div>\n",
       "<style scoped>\n",
       "    .dataframe tbody tr th:only-of-type {\n",
       "        vertical-align: middle;\n",
       "    }\n",
       "\n",
       "    .dataframe tbody tr th {\n",
       "        vertical-align: top;\n",
       "    }\n",
       "\n",
       "    .dataframe thead th {\n",
       "        text-align: right;\n",
       "    }\n",
       "</style>\n",
       "<table border=\"1\" class=\"dataframe\">\n",
       "  <thead>\n",
       "    <tr style=\"text-align: right;\">\n",
       "      <th></th>\n",
       "      <th>rank_test_score</th>\n",
       "      <th>param_models</th>\n",
       "      <th>mean_test_score</th>\n",
       "      <th>params</th>\n",
       "    </tr>\n",
       "  </thead>\n",
       "  <tbody>\n",
       "    <tr>\n",
       "      <th>2</th>\n",
       "      <td>1</td>\n",
       "      <td>&lt;catboost.core.CatBoostRegressor object at 0x000002D6B5BCBED0&gt;</td>\n",
       "      <td>-1662.300695</td>\n",
       "      <td>{'models': &lt;catboost.core.CatBoostRegressor object at 0x000002D6B5BCBED0&gt;, 'models__iterations': 200}</td>\n",
       "    </tr>\n",
       "    <tr>\n",
       "      <th>1</th>\n",
       "      <td>2</td>\n",
       "      <td>&lt;catboost.core.CatBoostRegressor object at 0x000002D6B5BCBED0&gt;</td>\n",
       "      <td>-1687.629312</td>\n",
       "      <td>{'models': &lt;catboost.core.CatBoostRegressor object at 0x000002D6B5BCBED0&gt;, 'models__iterations': 100}</td>\n",
       "    </tr>\n",
       "    <tr>\n",
       "      <th>0</th>\n",
       "      <td>3</td>\n",
       "      <td>&lt;catboost.core.CatBoostRegressor object at 0x000002D6B5BCBED0&gt;</td>\n",
       "      <td>-1729.005434</td>\n",
       "      <td>{'models': &lt;catboost.core.CatBoostRegressor object at 0x000002D6B5BCBED0&gt;, 'models__iterations': 50}</td>\n",
       "    </tr>\n",
       "  </tbody>\n",
       "</table>\n",
       "</div>"
      ],
      "text/plain": [
       "   rank_test_score  \\\n",
       "2                1   \n",
       "1                2   \n",
       "0                3   \n",
       "\n",
       "                                                     param_models  \\\n",
       "2  <catboost.core.CatBoostRegressor object at 0x000002D6B5BCBED0>   \n",
       "1  <catboost.core.CatBoostRegressor object at 0x000002D6B5BCBED0>   \n",
       "0  <catboost.core.CatBoostRegressor object at 0x000002D6B5BCBED0>   \n",
       "\n",
       "   mean_test_score  \\\n",
       "2     -1662.300695   \n",
       "1     -1687.629312   \n",
       "0     -1729.005434   \n",
       "\n",
       "                                                                                                  params  \n",
       "2  {'models': <catboost.core.CatBoostRegressor object at 0x000002D6B5BCBED0>, 'models__iterations': 200}  \n",
       "1  {'models': <catboost.core.CatBoostRegressor object at 0x000002D6B5BCBED0>, 'models__iterations': 100}  \n",
       "0   {'models': <catboost.core.CatBoostRegressor object at 0x000002D6B5BCBED0>, 'models__iterations': 50}  "
      ]
     },
     "execution_count": 82,
     "metadata": {},
     "output_type": "execute_result"
    }
   ],
   "source": [
    "pd.set_option('display.max_colwidth', None)\n",
    "(pd.DataFrame(grid_search_cb.cv_results_)\n",
    " .sort_values(by='mean_test_score', ascending=False)\n",
    " [['rank_test_score', 'param_models', 'mean_test_score','params']]\n",
    " .head()\n",
    ")"
   ]
  },
  {
   "cell_type": "code",
   "execution_count": 83,
   "metadata": {
    "scrolled": true
   },
   "outputs": [
    {
     "name": "stdout",
     "output_type": "stream",
     "text": [
      "Параметры лучшей модели:\n",
      " {'models': <catboost.core.CatBoostRegressor object at 0x000002D6B5BCBED0>, 'models__iterations': 200}\n",
      "\n",
      "Метрика лучшей модели на кросс-валидации: 1662.3006954518046\n"
     ]
    }
   ],
   "source": [
    "print('Параметры лучшей модели:\\n', grid_search_cb.best_params_)\n",
    "print ('\\nМетрика лучшей модели на кросс-валидации:', grid_search_cb.best_score_*(-1))"
   ]
  },
  {
   "cell_type": "markdown",
   "metadata": {},
   "source": [
    "### Подбор лучших параметров для LinearRegression"
   ]
  },
  {
   "cell_type": "markdown",
   "metadata": {},
   "source": [
    "Особых параметров для перебора у линейной регрессии тоже нет, поэтому обучим модель в следующем разделе, где также проанализируем время обучения и предсказания."
   ]
  },
  {
   "cell_type": "markdown",
   "metadata": {},
   "source": [
    "### Подбор лучших параметров для DecisionTreeRegressor"
   ]
  },
  {
   "cell_type": "code",
   "execution_count": 84,
   "metadata": {},
   "outputs": [],
   "source": [
    "pipe_final_dt = Pipeline(\n",
    "    [\n",
    "        ('preprocessor', data_preprocessor_tree),\n",
    "        ('models', DecisionTreeRegressor(random_state=RANDOM_STATE))\n",
    "    ]\n",
    ")"
   ]
  },
  {
   "cell_type": "code",
   "execution_count": 85,
   "metadata": {},
   "outputs": [],
   "source": [
    "param_grid_dt = [\n",
    "    {\n",
    "        'models': [DecisionTreeRegressor(random_state=RANDOM_STATE)],\n",
    "        'models__min_samples_split': range(2, 10),\n",
    "        'models__max_depth': [None] + list(range(1, 5)) \n",
    "    }\n",
    "]"
   ]
  },
  {
   "cell_type": "code",
   "execution_count": 86,
   "metadata": {},
   "outputs": [],
   "source": [
    "randomized_search_dt = RandomizedSearchCV(\n",
    "    pipe_final_dt, \n",
    "    param_grid_dt, \n",
    "    cv=5,\n",
    "    scoring='neg_root_mean_squared_error',\n",
    "    n_jobs=-1,\n",
    "    random_state=RANDOM_STATE\n",
    ")"
   ]
  },
  {
   "cell_type": "code",
   "execution_count": 87,
   "metadata": {},
   "outputs": [
    {
     "data": {
      "text/html": [
       "<style>#sk-container-id-3 {color: black;background-color: white;}#sk-container-id-3 pre{padding: 0;}#sk-container-id-3 div.sk-toggleable {background-color: white;}#sk-container-id-3 label.sk-toggleable__label {cursor: pointer;display: block;width: 100%;margin-bottom: 0;padding: 0.3em;box-sizing: border-box;text-align: center;}#sk-container-id-3 label.sk-toggleable__label-arrow:before {content: \"▸\";float: left;margin-right: 0.25em;color: #696969;}#sk-container-id-3 label.sk-toggleable__label-arrow:hover:before {color: black;}#sk-container-id-3 div.sk-estimator:hover label.sk-toggleable__label-arrow:before {color: black;}#sk-container-id-3 div.sk-toggleable__content {max-height: 0;max-width: 0;overflow: hidden;text-align: left;background-color: #f0f8ff;}#sk-container-id-3 div.sk-toggleable__content pre {margin: 0.2em;color: black;border-radius: 0.25em;background-color: #f0f8ff;}#sk-container-id-3 input.sk-toggleable__control:checked~div.sk-toggleable__content {max-height: 200px;max-width: 100%;overflow: auto;}#sk-container-id-3 input.sk-toggleable__control:checked~label.sk-toggleable__label-arrow:before {content: \"▾\";}#sk-container-id-3 div.sk-estimator input.sk-toggleable__control:checked~label.sk-toggleable__label {background-color: #d4ebff;}#sk-container-id-3 div.sk-label input.sk-toggleable__control:checked~label.sk-toggleable__label {background-color: #d4ebff;}#sk-container-id-3 input.sk-hidden--visually {border: 0;clip: rect(1px 1px 1px 1px);clip: rect(1px, 1px, 1px, 1px);height: 1px;margin: -1px;overflow: hidden;padding: 0;position: absolute;width: 1px;}#sk-container-id-3 div.sk-estimator {font-family: monospace;background-color: #f0f8ff;border: 1px dotted black;border-radius: 0.25em;box-sizing: border-box;margin-bottom: 0.5em;}#sk-container-id-3 div.sk-estimator:hover {background-color: #d4ebff;}#sk-container-id-3 div.sk-parallel-item::after {content: \"\";width: 100%;border-bottom: 1px solid gray;flex-grow: 1;}#sk-container-id-3 div.sk-label:hover label.sk-toggleable__label {background-color: #d4ebff;}#sk-container-id-3 div.sk-serial::before {content: \"\";position: absolute;border-left: 1px solid gray;box-sizing: border-box;top: 0;bottom: 0;left: 50%;z-index: 0;}#sk-container-id-3 div.sk-serial {display: flex;flex-direction: column;align-items: center;background-color: white;padding-right: 0.2em;padding-left: 0.2em;position: relative;}#sk-container-id-3 div.sk-item {position: relative;z-index: 1;}#sk-container-id-3 div.sk-parallel {display: flex;align-items: stretch;justify-content: center;background-color: white;position: relative;}#sk-container-id-3 div.sk-item::before, #sk-container-id-3 div.sk-parallel-item::before {content: \"\";position: absolute;border-left: 1px solid gray;box-sizing: border-box;top: 0;bottom: 0;left: 50%;z-index: -1;}#sk-container-id-3 div.sk-parallel-item {display: flex;flex-direction: column;z-index: 1;position: relative;background-color: white;}#sk-container-id-3 div.sk-parallel-item:first-child::after {align-self: flex-end;width: 50%;}#sk-container-id-3 div.sk-parallel-item:last-child::after {align-self: flex-start;width: 50%;}#sk-container-id-3 div.sk-parallel-item:only-child::after {width: 0;}#sk-container-id-3 div.sk-dashed-wrapped {border: 1px dashed gray;margin: 0 0.4em 0.5em 0.4em;box-sizing: border-box;padding-bottom: 0.4em;background-color: white;}#sk-container-id-3 div.sk-label label {font-family: monospace;font-weight: bold;display: inline-block;line-height: 1.2em;}#sk-container-id-3 div.sk-label-container {text-align: center;}#sk-container-id-3 div.sk-container {/* jupyter's `normalize.less` sets `[hidden] { display: none; }` but bootstrap.min.css set `[hidden] { display: none !important; }` so we also need the `!important` here to be able to override the default hidden behavior on the sphinx rendered scikit-learn.org. See: https://github.com/scikit-learn/scikit-learn/issues/21755 */display: inline-block !important;position: relative;}#sk-container-id-3 div.sk-text-repr-fallback {display: none;}</style><div id=\"sk-container-id-3\" class=\"sk-top-container\"><div class=\"sk-text-repr-fallback\"><pre>RandomizedSearchCV(cv=5,\n",
       "                   estimator=Pipeline(steps=[(&#x27;preprocessor&#x27;,\n",
       "                                              ColumnTransformer(remainder=&#x27;passthrough&#x27;,\n",
       "                                                                transformers=[(&#x27;ohe&#x27;,\n",
       "                                                                               Pipeline(steps=[(&#x27;simpleImputer_ohe&#x27;,\n",
       "                                                                                                SimpleImputer(strategy=&#x27;most_frequent&#x27;)),\n",
       "                                                                                               (&#x27;ohe&#x27;,\n",
       "                                                                                                OneHotEncoder(drop=&#x27;first&#x27;,\n",
       "                                                                                                              handle_unknown=&#x27;ignore&#x27;))]),\n",
       "                                                                               [&#x27;VehicleType&#x27;,\n",
       "                                                                                &#x27;Gearbox&#x27;,\n",
       "                                                                                &#x27;FuelType&#x27;,\n",
       "                                                                                &#x27;Brand&#x27;,\n",
       "                                                                                &#x27;Repaired&#x27;,\n",
       "                                                                                &#x27;Model&#x27;])])),\n",
       "                                             (&#x27;models&#x27;,\n",
       "                                              DecisionTreeRegressor(random_state=42))]),\n",
       "                   n_jobs=-1,\n",
       "                   param_distributions=[{&#x27;models&#x27;: [DecisionTreeRegressor(min_samples_split=8,\n",
       "                                                                          random_state=42)],\n",
       "                                         &#x27;models__max_depth&#x27;: [None, 1, 2, 3,\n",
       "                                                               4],\n",
       "                                         &#x27;models__min_samples_split&#x27;: range(2, 10)}],\n",
       "                   random_state=42, scoring=&#x27;neg_root_mean_squared_error&#x27;)</pre><b>In a Jupyter environment, please rerun this cell to show the HTML representation or trust the notebook. <br />On GitHub, the HTML representation is unable to render, please try loading this page with nbviewer.org.</b></div><div class=\"sk-container\" hidden><div class=\"sk-item sk-dashed-wrapped\"><div class=\"sk-label-container\"><div class=\"sk-label sk-toggleable\"><input class=\"sk-toggleable__control sk-hidden--visually\" id=\"sk-estimator-id-13\" type=\"checkbox\" ><label for=\"sk-estimator-id-13\" class=\"sk-toggleable__label sk-toggleable__label-arrow\">RandomizedSearchCV</label><div class=\"sk-toggleable__content\"><pre>RandomizedSearchCV(cv=5,\n",
       "                   estimator=Pipeline(steps=[(&#x27;preprocessor&#x27;,\n",
       "                                              ColumnTransformer(remainder=&#x27;passthrough&#x27;,\n",
       "                                                                transformers=[(&#x27;ohe&#x27;,\n",
       "                                                                               Pipeline(steps=[(&#x27;simpleImputer_ohe&#x27;,\n",
       "                                                                                                SimpleImputer(strategy=&#x27;most_frequent&#x27;)),\n",
       "                                                                                               (&#x27;ohe&#x27;,\n",
       "                                                                                                OneHotEncoder(drop=&#x27;first&#x27;,\n",
       "                                                                                                              handle_unknown=&#x27;ignore&#x27;))]),\n",
       "                                                                               [&#x27;VehicleType&#x27;,\n",
       "                                                                                &#x27;Gearbox&#x27;,\n",
       "                                                                                &#x27;FuelType&#x27;,\n",
       "                                                                                &#x27;Brand&#x27;,\n",
       "                                                                                &#x27;Repaired&#x27;,\n",
       "                                                                                &#x27;Model&#x27;])])),\n",
       "                                             (&#x27;models&#x27;,\n",
       "                                              DecisionTreeRegressor(random_state=42))]),\n",
       "                   n_jobs=-1,\n",
       "                   param_distributions=[{&#x27;models&#x27;: [DecisionTreeRegressor(min_samples_split=8,\n",
       "                                                                          random_state=42)],\n",
       "                                         &#x27;models__max_depth&#x27;: [None, 1, 2, 3,\n",
       "                                                               4],\n",
       "                                         &#x27;models__min_samples_split&#x27;: range(2, 10)}],\n",
       "                   random_state=42, scoring=&#x27;neg_root_mean_squared_error&#x27;)</pre></div></div></div><div class=\"sk-parallel\"><div class=\"sk-parallel-item\"><div class=\"sk-item\"><div class=\"sk-label-container\"><div class=\"sk-label sk-toggleable\"><input class=\"sk-toggleable__control sk-hidden--visually\" id=\"sk-estimator-id-14\" type=\"checkbox\" ><label for=\"sk-estimator-id-14\" class=\"sk-toggleable__label sk-toggleable__label-arrow\">estimator: Pipeline</label><div class=\"sk-toggleable__content\"><pre>Pipeline(steps=[(&#x27;preprocessor&#x27;,\n",
       "                 ColumnTransformer(remainder=&#x27;passthrough&#x27;,\n",
       "                                   transformers=[(&#x27;ohe&#x27;,\n",
       "                                                  Pipeline(steps=[(&#x27;simpleImputer_ohe&#x27;,\n",
       "                                                                   SimpleImputer(strategy=&#x27;most_frequent&#x27;)),\n",
       "                                                                  (&#x27;ohe&#x27;,\n",
       "                                                                   OneHotEncoder(drop=&#x27;first&#x27;,\n",
       "                                                                                 handle_unknown=&#x27;ignore&#x27;))]),\n",
       "                                                  [&#x27;VehicleType&#x27;, &#x27;Gearbox&#x27;,\n",
       "                                                   &#x27;FuelType&#x27;, &#x27;Brand&#x27;,\n",
       "                                                   &#x27;Repaired&#x27;, &#x27;Model&#x27;])])),\n",
       "                (&#x27;models&#x27;, DecisionTreeRegressor(random_state=42))])</pre></div></div></div><div class=\"sk-serial\"><div class=\"sk-item\"><div class=\"sk-serial\"><div class=\"sk-item sk-dashed-wrapped\"><div class=\"sk-label-container\"><div class=\"sk-label sk-toggleable\"><input class=\"sk-toggleable__control sk-hidden--visually\" id=\"sk-estimator-id-15\" type=\"checkbox\" ><label for=\"sk-estimator-id-15\" class=\"sk-toggleable__label sk-toggleable__label-arrow\">preprocessor: ColumnTransformer</label><div class=\"sk-toggleable__content\"><pre>ColumnTransformer(remainder=&#x27;passthrough&#x27;,\n",
       "                  transformers=[(&#x27;ohe&#x27;,\n",
       "                                 Pipeline(steps=[(&#x27;simpleImputer_ohe&#x27;,\n",
       "                                                  SimpleImputer(strategy=&#x27;most_frequent&#x27;)),\n",
       "                                                 (&#x27;ohe&#x27;,\n",
       "                                                  OneHotEncoder(drop=&#x27;first&#x27;,\n",
       "                                                                handle_unknown=&#x27;ignore&#x27;))]),\n",
       "                                 [&#x27;VehicleType&#x27;, &#x27;Gearbox&#x27;, &#x27;FuelType&#x27;, &#x27;Brand&#x27;,\n",
       "                                  &#x27;Repaired&#x27;, &#x27;Model&#x27;])])</pre></div></div></div><div class=\"sk-parallel\"><div class=\"sk-parallel-item\"><div class=\"sk-item\"><div class=\"sk-label-container\"><div class=\"sk-label sk-toggleable\"><input class=\"sk-toggleable__control sk-hidden--visually\" id=\"sk-estimator-id-16\" type=\"checkbox\" ><label for=\"sk-estimator-id-16\" class=\"sk-toggleable__label sk-toggleable__label-arrow\">ohe</label><div class=\"sk-toggleable__content\"><pre>[&#x27;VehicleType&#x27;, &#x27;Gearbox&#x27;, &#x27;FuelType&#x27;, &#x27;Brand&#x27;, &#x27;Repaired&#x27;, &#x27;Model&#x27;]</pre></div></div></div><div class=\"sk-serial\"><div class=\"sk-item\"><div class=\"sk-serial\"><div class=\"sk-item\"><div class=\"sk-estimator sk-toggleable\"><input class=\"sk-toggleable__control sk-hidden--visually\" id=\"sk-estimator-id-17\" type=\"checkbox\" ><label for=\"sk-estimator-id-17\" class=\"sk-toggleable__label sk-toggleable__label-arrow\">SimpleImputer</label><div class=\"sk-toggleable__content\"><pre>SimpleImputer(strategy=&#x27;most_frequent&#x27;)</pre></div></div></div><div class=\"sk-item\"><div class=\"sk-estimator sk-toggleable\"><input class=\"sk-toggleable__control sk-hidden--visually\" id=\"sk-estimator-id-18\" type=\"checkbox\" ><label for=\"sk-estimator-id-18\" class=\"sk-toggleable__label sk-toggleable__label-arrow\">OneHotEncoder</label><div class=\"sk-toggleable__content\"><pre>OneHotEncoder(drop=&#x27;first&#x27;, handle_unknown=&#x27;ignore&#x27;)</pre></div></div></div></div></div></div></div></div><div class=\"sk-parallel-item\"><div class=\"sk-item\"><div class=\"sk-label-container\"><div class=\"sk-label sk-toggleable\"><input class=\"sk-toggleable__control sk-hidden--visually\" id=\"sk-estimator-id-19\" type=\"checkbox\" ><label for=\"sk-estimator-id-19\" class=\"sk-toggleable__label sk-toggleable__label-arrow\">remainder</label><div class=\"sk-toggleable__content\"><pre></pre></div></div></div><div class=\"sk-serial\"><div class=\"sk-item\"><div class=\"sk-estimator sk-toggleable\"><input class=\"sk-toggleable__control sk-hidden--visually\" id=\"sk-estimator-id-20\" type=\"checkbox\" ><label for=\"sk-estimator-id-20\" class=\"sk-toggleable__label sk-toggleable__label-arrow\">passthrough</label><div class=\"sk-toggleable__content\"><pre>passthrough</pre></div></div></div></div></div></div></div></div><div class=\"sk-item\"><div class=\"sk-estimator sk-toggleable\"><input class=\"sk-toggleable__control sk-hidden--visually\" id=\"sk-estimator-id-21\" type=\"checkbox\" ><label for=\"sk-estimator-id-21\" class=\"sk-toggleable__label sk-toggleable__label-arrow\">DecisionTreeRegressor</label><div class=\"sk-toggleable__content\"><pre>DecisionTreeRegressor(random_state=42)</pre></div></div></div></div></div></div></div></div></div></div></div></div>"
      ],
      "text/plain": [
       "RandomizedSearchCV(cv=5,\n",
       "                   estimator=Pipeline(steps=[('preprocessor',\n",
       "                                              ColumnTransformer(remainder='passthrough',\n",
       "                                                                transformers=[('ohe',\n",
       "                                                                               Pipeline(steps=[('simpleImputer_ohe',\n",
       "                                                                                                SimpleImputer(strategy='most_frequent')),\n",
       "                                                                                               ('ohe',\n",
       "                                                                                                OneHotEncoder(drop='first',\n",
       "                                                                                                              handle_unknown='ignore'))]),\n",
       "                                                                               ['VehicleType',\n",
       "                                                                                'Gearbox',\n",
       "                                                                                'FuelType',\n",
       "                                                                                'Brand',\n",
       "                                                                                'Repaired',\n",
       "                                                                                'Model'])])),\n",
       "                                             ('models',\n",
       "                                              DecisionTreeRegressor(random_state=42))]),\n",
       "                   n_jobs=-1,\n",
       "                   param_distributions=[{'models': [DecisionTreeRegressor(min_samples_split=8,\n",
       "                                                                          random_state=42)],\n",
       "                                         'models__max_depth': [None, 1, 2, 3,\n",
       "                                                               4],\n",
       "                                         'models__min_samples_split': range(2, 10)}],\n",
       "                   random_state=42, scoring='neg_root_mean_squared_error')"
      ]
     },
     "execution_count": 87,
     "metadata": {},
     "output_type": "execute_result"
    }
   ],
   "source": [
    "randomized_search_dt.fit(X_train, y_train)"
   ]
  },
  {
   "cell_type": "markdown",
   "metadata": {},
   "source": [
    "Топ-5 моделей:"
   ]
  },
  {
   "cell_type": "code",
   "execution_count": 88,
   "metadata": {},
   "outputs": [
    {
     "data": {
      "text/html": [
       "<div>\n",
       "<style scoped>\n",
       "    .dataframe tbody tr th:only-of-type {\n",
       "        vertical-align: middle;\n",
       "    }\n",
       "\n",
       "    .dataframe tbody tr th {\n",
       "        vertical-align: top;\n",
       "    }\n",
       "\n",
       "    .dataframe thead th {\n",
       "        text-align: right;\n",
       "    }\n",
       "</style>\n",
       "<table border=\"1\" class=\"dataframe\">\n",
       "  <thead>\n",
       "    <tr style=\"text-align: right;\">\n",
       "      <th></th>\n",
       "      <th>rank_test_score</th>\n",
       "      <th>param_models</th>\n",
       "      <th>mean_test_score</th>\n",
       "      <th>params</th>\n",
       "    </tr>\n",
       "  </thead>\n",
       "  <tbody>\n",
       "    <tr>\n",
       "      <th>9</th>\n",
       "      <td>1</td>\n",
       "      <td>DecisionTreeRegressor(min_samples_split=8, random_state=42)</td>\n",
       "      <td>-1949.368155</td>\n",
       "      <td>{'models__min_samples_split': 8, 'models__max_depth': None, 'models': DecisionTreeRegressor(min_samples_split=8, random_state=42)}</td>\n",
       "    </tr>\n",
       "    <tr>\n",
       "      <th>4</th>\n",
       "      <td>2</td>\n",
       "      <td>DecisionTreeRegressor(min_samples_split=8, random_state=42)</td>\n",
       "      <td>-1979.742306</td>\n",
       "      <td>{'models__min_samples_split': 6, 'models__max_depth': None, 'models': DecisionTreeRegressor(min_samples_split=8, random_state=42)}</td>\n",
       "    </tr>\n",
       "    <tr>\n",
       "      <th>6</th>\n",
       "      <td>3</td>\n",
       "      <td>DecisionTreeRegressor(min_samples_split=8, random_state=42)</td>\n",
       "      <td>-2651.085877</td>\n",
       "      <td>{'models__min_samples_split': 7, 'models__max_depth': 4, 'models': DecisionTreeRegressor(min_samples_split=8, random_state=42)}</td>\n",
       "    </tr>\n",
       "    <tr>\n",
       "      <th>8</th>\n",
       "      <td>3</td>\n",
       "      <td>DecisionTreeRegressor(min_samples_split=8, random_state=42)</td>\n",
       "      <td>-2651.085877</td>\n",
       "      <td>{'models__min_samples_split': 9, 'models__max_depth': 4, 'models': DecisionTreeRegressor(min_samples_split=8, random_state=42)}</td>\n",
       "    </tr>\n",
       "    <tr>\n",
       "      <th>3</th>\n",
       "      <td>5</td>\n",
       "      <td>DecisionTreeRegressor(min_samples_split=8, random_state=42)</td>\n",
       "      <td>-2987.190063</td>\n",
       "      <td>{'models__min_samples_split': 4, 'models__max_depth': 3, 'models': DecisionTreeRegressor(min_samples_split=8, random_state=42)}</td>\n",
       "    </tr>\n",
       "  </tbody>\n",
       "</table>\n",
       "</div>"
      ],
      "text/plain": [
       "   rank_test_score  \\\n",
       "9                1   \n",
       "4                2   \n",
       "6                3   \n",
       "8                3   \n",
       "3                5   \n",
       "\n",
       "                                                  param_models  \\\n",
       "9  DecisionTreeRegressor(min_samples_split=8, random_state=42)   \n",
       "4  DecisionTreeRegressor(min_samples_split=8, random_state=42)   \n",
       "6  DecisionTreeRegressor(min_samples_split=8, random_state=42)   \n",
       "8  DecisionTreeRegressor(min_samples_split=8, random_state=42)   \n",
       "3  DecisionTreeRegressor(min_samples_split=8, random_state=42)   \n",
       "\n",
       "   mean_test_score  \\\n",
       "9     -1949.368155   \n",
       "4     -1979.742306   \n",
       "6     -2651.085877   \n",
       "8     -2651.085877   \n",
       "3     -2987.190063   \n",
       "\n",
       "                                                                                                                               params  \n",
       "9  {'models__min_samples_split': 8, 'models__max_depth': None, 'models': DecisionTreeRegressor(min_samples_split=8, random_state=42)}  \n",
       "4  {'models__min_samples_split': 6, 'models__max_depth': None, 'models': DecisionTreeRegressor(min_samples_split=8, random_state=42)}  \n",
       "6     {'models__min_samples_split': 7, 'models__max_depth': 4, 'models': DecisionTreeRegressor(min_samples_split=8, random_state=42)}  \n",
       "8     {'models__min_samples_split': 9, 'models__max_depth': 4, 'models': DecisionTreeRegressor(min_samples_split=8, random_state=42)}  \n",
       "3     {'models__min_samples_split': 4, 'models__max_depth': 3, 'models': DecisionTreeRegressor(min_samples_split=8, random_state=42)}  "
      ]
     },
     "execution_count": 88,
     "metadata": {},
     "output_type": "execute_result"
    }
   ],
   "source": [
    "pd.set_option('display.max_colwidth', None)\n",
    "(pd.DataFrame(randomized_search_dt.cv_results_)\n",
    " .sort_values(by='mean_test_score', ascending=False)\n",
    " [['rank_test_score', 'param_models', 'mean_test_score','params']]\n",
    " .head()\n",
    ")"
   ]
  },
  {
   "cell_type": "code",
   "execution_count": 89,
   "metadata": {
    "scrolled": true
   },
   "outputs": [
    {
     "name": "stdout",
     "output_type": "stream",
     "text": [
      "Параметры лучшей модели:\n",
      " {'models__min_samples_split': 8, 'models__max_depth': None, 'models': DecisionTreeRegressor(min_samples_split=8, random_state=42)}\n",
      "\n",
      "Метрика лучшей модели на кросс-валидации: 1949.3681548135187\n"
     ]
    }
   ],
   "source": [
    "print('Параметры лучшей модели:\\n', randomized_search_dt.best_params_)\n",
    "print ('\\nМетрика лучшей модели на кросс-валидации:', randomized_search_dt.best_score_*(-1))"
   ]
  },
  {
   "cell_type": "markdown",
   "metadata": {},
   "source": [
    "### Обучение моделей - итог"
   ]
  },
  {
   "cell_type": "markdown",
   "metadata": {},
   "source": [
    "Подготовили выборки для обучения моделей. Разделили данные на train/valid/test в соотношении 3:1:1.\n",
    "Целевой признак - ```Price```, входные признаки - ```VehicleType```, ```RegistrationYear```, ```Gearbox```, ```Power```, ```Kilometer```, ```FuelType```, ```Brand```, ```Model```, ```Repaired```.\n",
    "\n",
    "Собрали пайплайны для подготовки данных. Для линейной регрессии добавили масштабирование количественных признаков ```RegistrationYear```, ```Power```, ```Kilometer``` и one-hot кодирование категориальных, для деревьев - ordinal кодирование категориальных признаков ```VehicleType```, ```Gearbox```, ```FuelType```, ```Brand```, ```Repaired```. \n",
    "\n",
    "Используя GridSearch и RandomizedSearch подобрали лучшие параметры для моделей:\n",
    "1. LGBMRegressor: ```learning_rate```: 0.1, ```n_estimators```: 200. RMSE лучшей модели на кросс-валидации: 1657.74.\n",
    "2. CatBoost: ```iterations```: 200. RMSE лучшей модели на кросс-валидации: 1662.30.\n",
    "3. DecisionTreeRegressor: ```min_samples_split```: 8, ```max_depth```: None. RMSE лучшей модели на кросс-валидации: 1949.37.\n",
    "\n",
    "Также в сравнении будет участвовать LinearRegression, но для нее подбирать параметры не будем."
   ]
  },
  {
   "cell_type": "markdown",
   "metadata": {},
   "source": [
    "## Анализ моделей"
   ]
  },
  {
   "cell_type": "markdown",
   "metadata": {},
   "source": [
    "Проанализируем время обучения, время предсказания и качество моделей с подобранными нами лучшими параметрами."
   ]
  },
  {
   "cell_type": "markdown",
   "metadata": {},
   "source": [
    "### LightGBM"
   ]
  },
  {
   "cell_type": "markdown",
   "metadata": {},
   "source": [
    "Параметры - learning_rate=0.1, n_estimators=200."
   ]
  },
  {
   "cell_type": "markdown",
   "metadata": {},
   "source": [
    "Обучим модель и посчитаем время."
   ]
  },
  {
   "cell_type": "code",
   "execution_count": 90,
   "metadata": {},
   "outputs": [],
   "source": [
    "lgbm_final = Pipeline(\n",
    "    [\n",
    "        ('preprocessor', data_preprocessor_tree),\n",
    "        ('models', LGBMRegressor(learning_rate=0.1, n_estimators=200, verbosity=-1))\n",
    "    ]\n",
    ")"
   ]
  },
  {
   "cell_type": "code",
   "execution_count": 94,
   "metadata": {},
   "outputs": [
    {
     "name": "stdout",
     "output_type": "stream",
     "text": [
      "1.05 s ± 84.9 ms per loop (mean ± std. dev. of 7 runs, 1 loop each)\n"
     ]
    },
    {
     "data": {
      "text/plain": [
       "<TimeitResult : 1.05 s ± 84.9 ms per loop (mean ± std. dev. of 7 runs, 1 loop each)>"
      ]
     },
     "execution_count": 94,
     "metadata": {},
     "output_type": "execute_result"
    }
   ],
   "source": [
    "%%timeit -o\n",
    "lgbm_final.fit(X_train, y_train)"
   ]
  },
  {
   "cell_type": "code",
   "execution_count": 95,
   "metadata": {},
   "outputs": [],
   "source": [
    "lgbm_train_time = _.average"
   ]
  },
  {
   "cell_type": "markdown",
   "metadata": {},
   "source": [
    "Посчитаем время предсказания."
   ]
  },
  {
   "cell_type": "code",
   "execution_count": 96,
   "metadata": {},
   "outputs": [
    {
     "name": "stdout",
     "output_type": "stream",
     "text": [
      "282 ms ± 21.3 ms per loop (mean ± std. dev. of 7 runs, 1 loop each)\n"
     ]
    },
    {
     "data": {
      "text/plain": [
       "<TimeitResult : 282 ms ± 21.3 ms per loop (mean ± std. dev. of 7 runs, 1 loop each)>"
      ]
     },
     "execution_count": 96,
     "metadata": {},
     "output_type": "execute_result"
    }
   ],
   "source": [
    "%%timeit -o\n",
    "lgbm_final.predict(X_valid)"
   ]
  },
  {
   "cell_type": "code",
   "execution_count": 97,
   "metadata": {},
   "outputs": [],
   "source": [
    "lgbm_predict_time = _.average"
   ]
  },
  {
   "cell_type": "code",
   "execution_count": 99,
   "metadata": {},
   "outputs": [
    {
     "data": {
      "text/plain": [
       "1655.012396975731"
      ]
     },
     "execution_count": 99,
     "metadata": {},
     "output_type": "execute_result"
    }
   ],
   "source": [
    "lgbm_valid_pred = lgbm_final.predict(X_valid)\n",
    "lgbm_valid_rmse = mean_squared_error(y_valid, lgbm_valid_pred, squared=False)\n",
    "lgbm_valid_rmse"
   ]
  },
  {
   "cell_type": "markdown",
   "metadata": {},
   "source": [
    "Сравним с работой на категориальных признаках без кодирования. Для этого переведем категориальные признаки в тип category."
   ]
  },
  {
   "cell_type": "code",
   "execution_count": 100,
   "metadata": {},
   "outputs": [],
   "source": [
    "lgbm_final_1 = Pipeline(\n",
    "    [\n",
    "        ('models', LGBMRegressor(learning_rate=0.1, n_estimators=200, verbosity=-1))\n",
    "    ]\n",
    ")"
   ]
  },
  {
   "cell_type": "code",
   "execution_count": 101,
   "metadata": {},
   "outputs": [],
   "source": [
    "X_train[ohe_columns] = X_train[ohe_columns].astype('category')\n",
    "X_valid[ohe_columns] = X_valid[ohe_columns].astype('category')"
   ]
  },
  {
   "cell_type": "code",
   "execution_count": 102,
   "metadata": {},
   "outputs": [
    {
     "name": "stdout",
     "output_type": "stream",
     "text": [
      "723 ms ± 62.5 ms per loop (mean ± std. dev. of 7 runs, 1 loop each)\n"
     ]
    },
    {
     "data": {
      "text/plain": [
       "<TimeitResult : 723 ms ± 62.5 ms per loop (mean ± std. dev. of 7 runs, 1 loop each)>"
      ]
     },
     "execution_count": 102,
     "metadata": {},
     "output_type": "execute_result"
    }
   ],
   "source": [
    "%%timeit -o\n",
    "lgbm_final_1.fit(X_train, y_train)"
   ]
  },
  {
   "cell_type": "code",
   "execution_count": 103,
   "metadata": {},
   "outputs": [],
   "source": [
    "lgbm_train_time_no_encoding = _.average"
   ]
  },
  {
   "cell_type": "code",
   "execution_count": 104,
   "metadata": {},
   "outputs": [
    {
     "name": "stdout",
     "output_type": "stream",
     "text": [
      "203 ms ± 14.2 ms per loop (mean ± std. dev. of 7 runs, 1 loop each)\n"
     ]
    },
    {
     "data": {
      "text/plain": [
       "<TimeitResult : 203 ms ± 14.2 ms per loop (mean ± std. dev. of 7 runs, 1 loop each)>"
      ]
     },
     "execution_count": 104,
     "metadata": {},
     "output_type": "execute_result"
    }
   ],
   "source": [
    "%%timeit -o\n",
    "lgbm_final_1.predict(X_valid)"
   ]
  },
  {
   "cell_type": "code",
   "execution_count": 105,
   "metadata": {},
   "outputs": [],
   "source": [
    "lgbm_predict_time_no_encoding = _.average"
   ]
  },
  {
   "cell_type": "code",
   "execution_count": 108,
   "metadata": {},
   "outputs": [
    {
     "data": {
      "text/plain": [
       "1618.1076229973114"
      ]
     },
     "execution_count": 108,
     "metadata": {},
     "output_type": "execute_result"
    }
   ],
   "source": [
    "lgbm_valid_pred1 = lgbm_final_1.predict(X_valid)\n",
    "lgbm_valid_rmse1 = mean_squared_error(y_valid, lgbm_valid_pred1, squared=False)\n",
    "lgbm_valid_rmse1"
   ]
  },
  {
   "cell_type": "markdown",
   "metadata": {},
   "source": [
    "Немного улучшилось время обучения и RMSE."
   ]
  },
  {
   "cell_type": "code",
   "execution_count": 109,
   "metadata": {},
   "outputs": [],
   "source": [
    "X_train[ohe_columns] = X_train[ohe_columns].astype('str')\n",
    "X_valid[ohe_columns] = X_valid[ohe_columns].astype('str')"
   ]
  },
  {
   "cell_type": "markdown",
   "metadata": {},
   "source": [
    "###  CatBoost"
   ]
  },
  {
   "cell_type": "markdown",
   "metadata": {},
   "source": [
    "Параметры - iterations=200."
   ]
  },
  {
   "cell_type": "markdown",
   "metadata": {},
   "source": [
    "Обучим модель и посчитаем время."
   ]
  },
  {
   "cell_type": "code",
   "execution_count": 110,
   "metadata": {},
   "outputs": [],
   "source": [
    "cb_final = Pipeline(\n",
    "    [\n",
    "        ('models', CatBoostRegressor(iterations=200, logging_level='Silent'))\n",
    "    ]\n",
    ")"
   ]
  },
  {
   "cell_type": "code",
   "execution_count": 111,
   "metadata": {},
   "outputs": [
    {
     "name": "stdout",
     "output_type": "stream",
     "text": [
      "14.6 s ± 110 ms per loop (mean ± std. dev. of 7 runs, 1 loop each)\n"
     ]
    },
    {
     "data": {
      "text/plain": [
       "<TimeitResult : 14.6 s ± 110 ms per loop (mean ± std. dev. of 7 runs, 1 loop each)>"
      ]
     },
     "execution_count": 111,
     "metadata": {},
     "output_type": "execute_result"
    }
   ],
   "source": [
    "%%timeit -o\n",
    "cb_final.fit(X_train, y_train, models__cat_features=ohe_columns)"
   ]
  },
  {
   "cell_type": "code",
   "execution_count": 112,
   "metadata": {},
   "outputs": [],
   "source": [
    "cb_train_time = _.average"
   ]
  },
  {
   "cell_type": "markdown",
   "metadata": {},
   "source": [
    "Посчитаем время предсказания."
   ]
  },
  {
   "cell_type": "code",
   "execution_count": 114,
   "metadata": {},
   "outputs": [
    {
     "name": "stdout",
     "output_type": "stream",
     "text": [
      "130 ms ± 1.21 ms per loop (mean ± std. dev. of 7 runs, 1 loop each)\n"
     ]
    },
    {
     "data": {
      "text/plain": [
       "<TimeitResult : 130 ms ± 1.21 ms per loop (mean ± std. dev. of 7 runs, 1 loop each)>"
      ]
     },
     "execution_count": 114,
     "metadata": {},
     "output_type": "execute_result"
    }
   ],
   "source": [
    "%%timeit -o\n",
    "cb_final.predict(X_valid)"
   ]
  },
  {
   "cell_type": "code",
   "execution_count": 115,
   "metadata": {},
   "outputs": [],
   "source": [
    "cb_predict_time = _.average"
   ]
  },
  {
   "cell_type": "code",
   "execution_count": 117,
   "metadata": {},
   "outputs": [
    {
     "data": {
      "text/plain": [
       "1658.5841337716354"
      ]
     },
     "execution_count": 117,
     "metadata": {},
     "output_type": "execute_result"
    }
   ],
   "source": [
    "cb_valid_pred = cb_final.predict(X_valid)\n",
    "cb_valid_rmse = mean_squared_error(y_valid, cb_valid_pred, squared=False)\n",
    "cb_valid_rmse"
   ]
  },
  {
   "cell_type": "markdown",
   "metadata": {},
   "source": [
    "###  LinearRegression"
   ]
  },
  {
   "cell_type": "markdown",
   "metadata": {},
   "source": [
    "Для линейной регрессии требуется и масштабирование количественных признаков, и кодирование категориальных. "
   ]
  },
  {
   "cell_type": "code",
   "execution_count": 118,
   "metadata": {},
   "outputs": [],
   "source": [
    "lr_final = Pipeline(\n",
    "    [\n",
    "        ('preprocessor', data_preprocessor_lr),\n",
    "        ('models', LinearRegression())\n",
    "    ]\n",
    ")"
   ]
  },
  {
   "cell_type": "code",
   "execution_count": 119,
   "metadata": {},
   "outputs": [
    {
     "name": "stdout",
     "output_type": "stream",
     "text": [
      "2.68 s ± 75.6 ms per loop (mean ± std. dev. of 7 runs, 1 loop each)\n"
     ]
    },
    {
     "data": {
      "text/plain": [
       "<TimeitResult : 2.68 s ± 75.6 ms per loop (mean ± std. dev. of 7 runs, 1 loop each)>"
      ]
     },
     "execution_count": 119,
     "metadata": {},
     "output_type": "execute_result"
    }
   ],
   "source": [
    "%%timeit -o\n",
    "lr_final.fit(X_train, y_train)"
   ]
  },
  {
   "cell_type": "code",
   "execution_count": 120,
   "metadata": {},
   "outputs": [],
   "source": [
    "lr_train_time = _.average"
   ]
  },
  {
   "cell_type": "markdown",
   "metadata": {},
   "source": [
    "Посчитаем время предсказания."
   ]
  },
  {
   "cell_type": "code",
   "execution_count": 121,
   "metadata": {},
   "outputs": [
    {
     "name": "stdout",
     "output_type": "stream",
     "text": [
      "118 ms ± 658 µs per loop (mean ± std. dev. of 7 runs, 10 loops each)\n"
     ]
    },
    {
     "data": {
      "text/plain": [
       "<TimeitResult : 118 ms ± 658 µs per loop (mean ± std. dev. of 7 runs, 10 loops each)>"
      ]
     },
     "execution_count": 121,
     "metadata": {},
     "output_type": "execute_result"
    }
   ],
   "source": [
    "%%timeit -o\n",
    "lr_final.predict(X_valid)"
   ]
  },
  {
   "cell_type": "code",
   "execution_count": 122,
   "metadata": {},
   "outputs": [],
   "source": [
    "lr_predict_time = _.average"
   ]
  },
  {
   "cell_type": "code",
   "execution_count": 123,
   "metadata": {},
   "outputs": [
    {
     "data": {
      "text/plain": [
       "2655.9720050403407"
      ]
     },
     "execution_count": 123,
     "metadata": {},
     "output_type": "execute_result"
    }
   ],
   "source": [
    "lr_valid_pred = lr_final.predict(X_valid)\n",
    "lr_valid_rmse = mean_squared_error(y_valid, lr_valid_pred, squared=False)\n",
    "lr_valid_rmse"
   ]
  },
  {
   "cell_type": "markdown",
   "metadata": {},
   "source": [
    "### DecisionTreeRegressor"
   ]
  },
  {
   "cell_type": "markdown",
   "metadata": {},
   "source": [
    "Параметры - min_samples_split=8, max_depth=None"
   ]
  },
  {
   "cell_type": "markdown",
   "metadata": {},
   "source": [
    "Обучим модель и посчитаем время."
   ]
  },
  {
   "cell_type": "code",
   "execution_count": 124,
   "metadata": {},
   "outputs": [],
   "source": [
    "dt_final = Pipeline(\n",
    "    [\n",
    "        ('preprocessor', data_preprocessor_tree),\n",
    "        ('models', DecisionTreeRegressor(min_samples_split=8, random_state=RANDOM_STATE))\n",
    "    ]\n",
    ")"
   ]
  },
  {
   "cell_type": "code",
   "execution_count": 126,
   "metadata": {},
   "outputs": [
    {
     "name": "stdout",
     "output_type": "stream",
     "text": [
      "15.5 s ± 31.1 ms per loop (mean ± std. dev. of 7 runs, 1 loop each)\n"
     ]
    },
    {
     "data": {
      "text/plain": [
       "<TimeitResult : 15.5 s ± 31.1 ms per loop (mean ± std. dev. of 7 runs, 1 loop each)>"
      ]
     },
     "execution_count": 126,
     "metadata": {},
     "output_type": "execute_result"
    }
   ],
   "source": [
    "%%timeit -o\n",
    "dt_final.fit(X_train, y_train)"
   ]
  },
  {
   "cell_type": "code",
   "execution_count": 127,
   "metadata": {},
   "outputs": [],
   "source": [
    "dt_train_time = _.average"
   ]
  },
  {
   "cell_type": "markdown",
   "metadata": {},
   "source": [
    "Посчитаем время предсказания."
   ]
  },
  {
   "cell_type": "code",
   "execution_count": 128,
   "metadata": {},
   "outputs": [
    {
     "name": "stdout",
     "output_type": "stream",
     "text": [
      "134 ms ± 808 µs per loop (mean ± std. dev. of 7 runs, 10 loops each)\n"
     ]
    },
    {
     "data": {
      "text/plain": [
       "<TimeitResult : 134 ms ± 808 µs per loop (mean ± std. dev. of 7 runs, 10 loops each)>"
      ]
     },
     "execution_count": 128,
     "metadata": {},
     "output_type": "execute_result"
    }
   ],
   "source": [
    "%%timeit -o\n",
    "dt_final.predict(X_valid)"
   ]
  },
  {
   "cell_type": "code",
   "execution_count": 129,
   "metadata": {},
   "outputs": [],
   "source": [
    "dt_predict_time = _.average"
   ]
  },
  {
   "cell_type": "code",
   "execution_count": 130,
   "metadata": {},
   "outputs": [
    {
     "data": {
      "text/plain": [
       "1919.9432414730966"
      ]
     },
     "execution_count": 130,
     "metadata": {},
     "output_type": "execute_result"
    }
   ],
   "source": [
    "dt_valid_pred = dt_final.predict(X_valid)\n",
    "dt_valid_rmse = mean_squared_error(y_valid, dt_valid_pred, squared=False)\n",
    "dt_valid_rmse"
   ]
  },
  {
   "cell_type": "markdown",
   "metadata": {},
   "source": [
    "### Сравнение моделей"
   ]
  },
  {
   "cell_type": "markdown",
   "metadata": {},
   "source": [
    "Сравним модели по полученным нами данным."
   ]
  },
  {
   "cell_type": "code",
   "execution_count": 142,
   "metadata": {},
   "outputs": [],
   "source": [
    "train_time_col = [lgbm_train_time, lgbm_train_time_no_encoding, cb_train_time, lr_train_time, dt_train_time]\n",
    "predict_time_col = [lgbm_predict_time, lgbm_predict_time_no_encoding, cb_predict_time, lr_predict_time, dt_predict_time]\n",
    "predict_time_col = [x * 1000 for x in predict_time_col]\n",
    "rmse_col = [lgbm_valid_rmse, lgbm_valid_rmse1, cb_valid_rmse, lr_valid_rmse, dt_valid_rmse]\n",
    "rmse_col = [round(x) for x in rmse_col]"
   ]
  },
  {
   "cell_type": "code",
   "execution_count": 143,
   "metadata": {},
   "outputs": [],
   "source": [
    "results = {'Обучение, с': train_time_col, 'Предсказание, мс': predict_time_col, 'RMSE': rmse_col}\n",
    "results_table = pd.DataFrame(results, index=['LightGBM', 'LightGBM без кодирования', 'CatBoost', 'LinearRegression', 'DecisionTree'])"
   ]
  },
  {
   "cell_type": "code",
   "execution_count": 153,
   "metadata": {},
   "outputs": [
    {
     "data": {
      "text/html": [
       "<style type=\"text/css\">\n",
       "#T_a76cc_row1_col0, #T_a76cc_row1_col2, #T_a76cc_row3_col1 {\n",
       "  background-color: lightgreen;\n",
       "}\n",
       "#T_a76cc_row3_col2 {\n",
       "  background: red;\n",
       "}\n",
       "</style>\n",
       "<table id=\"T_a76cc\">\n",
       "  <thead>\n",
       "    <tr>\n",
       "      <th class=\"blank level0\" >&nbsp;</th>\n",
       "      <th id=\"T_a76cc_level0_col0\" class=\"col_heading level0 col0\" >Обучение, с</th>\n",
       "      <th id=\"T_a76cc_level0_col1\" class=\"col_heading level0 col1\" >Предсказание, мс</th>\n",
       "      <th id=\"T_a76cc_level0_col2\" class=\"col_heading level0 col2\" >RMSE</th>\n",
       "    </tr>\n",
       "  </thead>\n",
       "  <tbody>\n",
       "    <tr>\n",
       "      <th id=\"T_a76cc_level0_row0\" class=\"row_heading level0 row0\" >LightGBM</th>\n",
       "      <td id=\"T_a76cc_row0_col0\" class=\"data row0 col0\" >1.05</td>\n",
       "      <td id=\"T_a76cc_row0_col1\" class=\"data row0 col1\" >282</td>\n",
       "      <td id=\"T_a76cc_row0_col2\" class=\"data row0 col2\" >1655</td>\n",
       "    </tr>\n",
       "    <tr>\n",
       "      <th id=\"T_a76cc_level0_row1\" class=\"row_heading level0 row1\" >LightGBM без кодирования</th>\n",
       "      <td id=\"T_a76cc_row1_col0\" class=\"data row1 col0\" >0.72</td>\n",
       "      <td id=\"T_a76cc_row1_col1\" class=\"data row1 col1\" >203</td>\n",
       "      <td id=\"T_a76cc_row1_col2\" class=\"data row1 col2\" >1618</td>\n",
       "    </tr>\n",
       "    <tr>\n",
       "      <th id=\"T_a76cc_level0_row2\" class=\"row_heading level0 row2\" >CatBoost</th>\n",
       "      <td id=\"T_a76cc_row2_col0\" class=\"data row2 col0\" >14.56</td>\n",
       "      <td id=\"T_a76cc_row2_col1\" class=\"data row2 col1\" >130</td>\n",
       "      <td id=\"T_a76cc_row2_col2\" class=\"data row2 col2\" >1659</td>\n",
       "    </tr>\n",
       "    <tr>\n",
       "      <th id=\"T_a76cc_level0_row3\" class=\"row_heading level0 row3\" >LinearRegression</th>\n",
       "      <td id=\"T_a76cc_row3_col0\" class=\"data row3 col0\" >2.68</td>\n",
       "      <td id=\"T_a76cc_row3_col1\" class=\"data row3 col1\" >118</td>\n",
       "      <td id=\"T_a76cc_row3_col2\" class=\"data row3 col2\" >2656</td>\n",
       "    </tr>\n",
       "    <tr>\n",
       "      <th id=\"T_a76cc_level0_row4\" class=\"row_heading level0 row4\" >DecisionTree</th>\n",
       "      <td id=\"T_a76cc_row4_col0\" class=\"data row4 col0\" >15.54</td>\n",
       "      <td id=\"T_a76cc_row4_col1\" class=\"data row4 col1\" >134</td>\n",
       "      <td id=\"T_a76cc_row4_col2\" class=\"data row4 col2\" >1920</td>\n",
       "    </tr>\n",
       "  </tbody>\n",
       "</table>\n"
      ],
      "text/plain": [
       "<pandas.io.formats.style.Styler at 0x2d6b5bb9fd0>"
      ]
     },
     "execution_count": 153,
     "metadata": {},
     "output_type": "execute_result"
    }
   ],
   "source": [
    "(results_table\n",
    " .style\n",
    " .format({'Обучение, с': '{:.2f}', 'Предсказание, мс': '{:.0f}'})\n",
    " .highlight_min(subset=['Обучение, с', 'Предсказание, мс', 'RMSE'], color='lightgreen')\n",
    " .apply(lambda row: ['background: red'] if (row['RMSE'] > RMSE_THRESHOLD) else [''], axis=1, subset=['RMSE'])\n",
    ")"
   ]
  },
  {
   "cell_type": "markdown",
   "metadata": {},
   "source": [
    "Исключаем из сравнения линейную регрессию, т.к. хотя время обучения и предсказания у нее небольшие, метрика RMSE у нее превышает допустимый порог 2500."
   ]
  },
  {
   "cell_type": "code",
   "execution_count": 154,
   "metadata": {},
   "outputs": [
    {
     "data": {
      "text/html": [
       "<style type=\"text/css\">\n",
       "#T_3fd37_row1_col0, #T_3fd37_row1_col2, #T_3fd37_row2_col1 {\n",
       "  background-color: lightgreen;\n",
       "}\n",
       "</style>\n",
       "<table id=\"T_3fd37\">\n",
       "  <thead>\n",
       "    <tr>\n",
       "      <th class=\"blank level0\" >&nbsp;</th>\n",
       "      <th id=\"T_3fd37_level0_col0\" class=\"col_heading level0 col0\" >Обучение, с</th>\n",
       "      <th id=\"T_3fd37_level0_col1\" class=\"col_heading level0 col1\" >Предсказание, мс</th>\n",
       "      <th id=\"T_3fd37_level0_col2\" class=\"col_heading level0 col2\" >RMSE</th>\n",
       "    </tr>\n",
       "  </thead>\n",
       "  <tbody>\n",
       "    <tr>\n",
       "      <th id=\"T_3fd37_level0_row0\" class=\"row_heading level0 row0\" >LightGBM</th>\n",
       "      <td id=\"T_3fd37_row0_col0\" class=\"data row0 col0\" >1.05</td>\n",
       "      <td id=\"T_3fd37_row0_col1\" class=\"data row0 col1\" >282</td>\n",
       "      <td id=\"T_3fd37_row0_col2\" class=\"data row0 col2\" >1655</td>\n",
       "    </tr>\n",
       "    <tr>\n",
       "      <th id=\"T_3fd37_level0_row1\" class=\"row_heading level0 row1\" >LightGBM без кодирования</th>\n",
       "      <td id=\"T_3fd37_row1_col0\" class=\"data row1 col0\" >0.72</td>\n",
       "      <td id=\"T_3fd37_row1_col1\" class=\"data row1 col1\" >203</td>\n",
       "      <td id=\"T_3fd37_row1_col2\" class=\"data row1 col2\" >1618</td>\n",
       "    </tr>\n",
       "    <tr>\n",
       "      <th id=\"T_3fd37_level0_row2\" class=\"row_heading level0 row2\" >CatBoost</th>\n",
       "      <td id=\"T_3fd37_row2_col0\" class=\"data row2 col0\" >14.56</td>\n",
       "      <td id=\"T_3fd37_row2_col1\" class=\"data row2 col1\" >130</td>\n",
       "      <td id=\"T_3fd37_row2_col2\" class=\"data row2 col2\" >1659</td>\n",
       "    </tr>\n",
       "    <tr>\n",
       "      <th id=\"T_3fd37_level0_row3\" class=\"row_heading level0 row3\" >DecisionTree</th>\n",
       "      <td id=\"T_3fd37_row3_col0\" class=\"data row3 col0\" >15.54</td>\n",
       "      <td id=\"T_3fd37_row3_col1\" class=\"data row3 col1\" >134</td>\n",
       "      <td id=\"T_3fd37_row3_col2\" class=\"data row3 col2\" >1920</td>\n",
       "    </tr>\n",
       "  </tbody>\n",
       "</table>\n"
      ],
      "text/plain": [
       "<pandas.io.formats.style.Styler at 0x2d6b5ba7d10>"
      ]
     },
     "execution_count": 154,
     "metadata": {},
     "output_type": "execute_result"
    }
   ],
   "source": [
    "(results_table.drop('LinearRegression')\n",
    " .style\n",
    " .format({'Обучение, с': '{:.2f}', 'Предсказание, мс': '{:.0f}'})\n",
    " .highlight_min(subset=['Обучение, с', 'Предсказание, мс', 'RMSE'], color='lightgreen')\n",
    " .apply(lambda row: ['background: red'] if (row['RMSE'] > RMSE_THRESHOLD) else [''], axis=1, subset=['RMSE'])\n",
    ")"
   ]
  },
  {
   "cell_type": "markdown",
   "metadata": {},
   "source": [
    "У модели LGBMRegressor - наименьшее время обучения (1 секунда при кодировании категориальных признаков OrdinalEncoder и 0.7 секунды, если она обрабатывает категориальные признаки сама) и лучшее RMSE. Время предсказания лучше у CatBoost и DecisionTree - 130 мс против в 2 раза большего у LightGBM.\n",
    "\n",
    "RMSE бустингов сопоставимы, поэтому в целом можно выбирать любой из двух, в зависимости от того, важнее нам скорость обучения или скорость предсказания."
   ]
  },
  {
   "cell_type": "markdown",
   "metadata": {},
   "source": [
    "### Тестирование лучшей модели"
   ]
  },
  {
   "cell_type": "markdown",
   "metadata": {},
   "source": [
    "Посмотрим на результат LightGBM на тестовой выборке."
   ]
  },
  {
   "cell_type": "code",
   "execution_count": 149,
   "metadata": {},
   "outputs": [
    {
     "data": {
      "text/plain": [
       "1658.449360067163"
      ]
     },
     "execution_count": 149,
     "metadata": {},
     "output_type": "execute_result"
    }
   ],
   "source": [
    "lgbm_test_pred = lgbm_final.predict(X_test)\n",
    "lgbm_test_rmse = mean_squared_error(y_test, lgbm_test_pred, squared=False)\n",
    "lgbm_test_rmse"
   ]
  },
  {
   "cell_type": "code",
   "execution_count": 151,
   "metadata": {},
   "outputs": [],
   "source": [
    "X_test[ohe_columns] = X_test[ohe_columns].astype('category')"
   ]
  },
  {
   "cell_type": "code",
   "execution_count": 152,
   "metadata": {},
   "outputs": [
    {
     "data": {
      "text/plain": [
       "1613.8240637492815"
      ]
     },
     "execution_count": 152,
     "metadata": {},
     "output_type": "execute_result"
    }
   ],
   "source": [
    "lgbm_test_pred1 = lgbm_final_1.predict(X_test)\n",
    "lgbm_test_rmse1 = mean_squared_error(y_test, lgbm_test_pred1, squared=False)\n",
    "lgbm_test_rmse1"
   ]
  },
  {
   "cell_type": "markdown",
   "metadata": {},
   "source": [
    "Посмотрим на результат CatBoost на тестовой выборке."
   ]
  },
  {
   "cell_type": "code",
   "execution_count": 150,
   "metadata": {},
   "outputs": [
    {
     "data": {
      "text/plain": [
       "1662.1896169128333"
      ]
     },
     "execution_count": 150,
     "metadata": {},
     "output_type": "execute_result"
    }
   ],
   "source": [
    "cb_test_pred = cb_final.predict(X_test)\n",
    "cb_test_rmse = mean_squared_error(y_test, cb_test_pred, squared=False)\n",
    "cb_test_rmse"
   ]
  },
  {
   "cell_type": "markdown",
   "metadata": {},
   "source": [
    "Как и на валидационной выборке, RMSE моделей в целом сопоставимы и не превышают заданного порога. Лучший результат у LightGBM без использования внешнего ordinal encoder."
   ]
  },
  {
   "cell_type": "markdown",
   "metadata": {},
   "source": [
    "###  Анализ моделей - итог"
   ]
  },
  {
   "cell_type": "markdown",
   "metadata": {},
   "source": [
    "Проанализировали время обучения, время предсказания и качество моделей на валидационной выборке.\n",
    "Сравнивали 4 модели: LightGBM, Catboost, LinearRegression, DecisionTree.\n",
    "\n",
    "<table>\n",
    "    <tr>\n",
    "        <th>Модель</th>\n",
    "        <th>Обучение, с</th>\n",
    "        <th>Предсказание, мс</th> \n",
    "        <th>RMSE</th> \n",
    "    </tr>\n",
    "    <tr>\n",
    "        <td>LightGBM</td>\n",
    "        <td>1.05</td>\n",
    "        <td>282</td>\n",
    "        <td>1655</td>\n",
    "    </tr>\n",
    "    <tr>\n",
    "        <td>LightGBM без кодирования</td>\n",
    "        <td><font color='green'>0.72</font></td>\n",
    "        <td>203</td>\n",
    "        <td><font color='green'>1618</font></td>\n",
    "    </tr>\n",
    "    <tr>\n",
    "        <td>CatBoost</td>\n",
    "        <td>14.6</td>\n",
    "        <td>130</td>\n",
    "        <td>1659</td>\n",
    "    </tr>\n",
    "    <tr>\n",
    "        <td>LinearRegression</td>\n",
    "        <td>2.68</td>\n",
    "        <td><font color='green'>118</font></td>\n",
    "        <td><font color='red'>2656</font></td>\n",
    "    </tr>\n",
    "    <tr>\n",
    "        <td>DecisionTree</td>\n",
    "        <td>15.54</td>\n",
    "        <td>134</td>\n",
    "        <td>1920</td>\n",
    "    </tr>\n",
    "</table>\n",
    "\n",
    "Исключили из сравнения линейную регрессию, т.к. хотя время обучения и предсказания у нее наименьшие, метрика RMSE у нее превышает заданный порог 2500.\n",
    "\n",
    "<table>\n",
    "    <tr>\n",
    "        <th>Модель</th>\n",
    "        <th>Обучение, с</th>\n",
    "        <th>Предсказание, мс</th> \n",
    "        <th>RMSE</th> \n",
    "    </tr>\n",
    "    <tr>\n",
    "        <td>LightGBM</td>\n",
    "        <td>1.05</td>\n",
    "        <td>282</td>\n",
    "        <td>1655</td>\n",
    "    </tr>\n",
    "    <tr>\n",
    "        <td>LightGBM без кодирования</td>\n",
    "        <td><font color='green'>0.72</font></td>\n",
    "        <td>203</td>\n",
    "        <td><font color='green'>1618</font></td>\n",
    "    </tr>\n",
    "    <tr>\n",
    "        <td>CatBoost</td>\n",
    "        <td>14.6</td>\n",
    "        <td><font color='green'>130</font></td>\n",
    "        <td>1659</td>\n",
    "    </tr>\n",
    "    <tr>\n",
    "        <td>DecisionTree</td>\n",
    "        <td>15.54</td>\n",
    "        <td>134</td>\n",
    "        <td>1920</td>\n",
    "    </tr>\n",
    "</table>\n",
    "\n",
    "У модели LGBMRegressor - наименьшее время обучения (1 секунда при кодировании категориальных признаков OrdinalEncoder и 0.7 секунды, если она обрабатывает категориальные признаки сама) и лучшее RMSE. Время предсказания лучше у CatBoost и DecisionTree - 130 мс против в 2 раза большего у LightGBM.\n",
    "\n",
    "RMSE бустингов сопоставимы, поэтому в целом можно выбирать любой из двух, в зависимости от того, важнее нам скорость обучения или скорость предсказания.\n",
    "\n",
    "\n",
    "Проверили качество лучших моделей на тестовой выборке.\n",
    "\n",
    "Результат LightGBM - 1658.4. Результат CatBoost - 1662.2, LightGBM без использования OrdinalEncoder в пайплайне - 1613.8. Как и на валидационной выборке, RMSE моделей в целом сопоставимы и не превышают заданного порога. Лучший результат у LightGBM без использования внешнего ordinal encoder."
   ]
  },
  {
   "cell_type": "markdown",
   "metadata": {},
   "source": [
    "## Общий вывод"
   ]
  },
  {
   "cell_type": "markdown",
   "metadata": {},
   "source": [
    "Проанализировали данные о характеристиках и ценах автомобилей, обучили модели для предсказания стоимости автомобиля.\n",
    "\n",
    "Провели подготовку данных для обучения моделей.\n",
    "\n",
    "1. Провели предобработку данных.\n",
    "    + Заполнили пропуски в категориальных столбцах ```Repaired```, ```VehicleType```, ```FuelType```, ```Gearbox```, ```Model``` заглушкой \"unknown\".\n",
    "    + Привели даты к типу datetime.\n",
    "    + Удалили явные дубликаты.\n",
    "\n",
    "2. Провели исследовательский анализ данных.\n",
    "    + Проверили данные на наличие аномалий. Удалили аномальные значения из столбцов ```RegistrationYear```, ```Power```, ```Price```.\n",
    "    + Определили список релевантных входных признаков.\n",
    "    + Для обучения выбрали следующие входные признаки: \n",
    "        + ```VehicleType```\n",
    "        + ```RegistrationYear```\n",
    "        + ```Gearbox```\n",
    "        + ```Power```\n",
    "        + ```Kilometer```\n",
    "        + ```FuelType```\n",
    "        + ```Brand```\n",
    "        + ```Model```\n",
    "        + ```Repaired```\n",
    "3. Подготовили выборки для обучения моделей. Разделили данные на train/valid/test в соотношении 3:1:1.\n",
    "    Собрали пайплайны для подготовки данных. Для линейной регрессии добавили масштабирование количественных признаков ```RegistrationYear```, ```Power```, ```Kilometer```, для деревьев - one-hot кодирование категориальных признаков ```VehicleType```, ```Gearbox```, ```FuelType```, ```Brand```, ```Repaired```, ```Model```. \n",
    "\n",
    "    Используя GridSearch и RandomizedSearch подобрали лучшие параметры для моделей:\n",
    "    + LGBMRegressor: ```learning_rate```: 0.1, ```n_estimators```: 200. RMSE лучшей модели на кросс-валидации: 1669.60.\n",
    "    + CatBoost: ```iterations```: 200. RMSE лучшей модели на кросс-валидации: 1672.32.\n",
    "    + DecisionTreeRegressor: ```min_samples_split```: 8, ```max_depth```: None. RMSE лучшей модели на кросс-валидации: 1891.92.\n",
    "4. Проанализировали время обучения, время предсказания и качество моделей на валидационной выборке.\n",
    "    Сравнивали 4 модели: LightGBM, Catboost, LinearRegression, DecisionTree.\n",
    "    <table>\n",
    "        <tr>\n",
    "            <th>Модель</th>\n",
    "            <th>Обучение, с</th>\n",
    "            <th>Предсказание, мс</th> \n",
    "            <th>RMSE</th> \n",
    "        </tr>\n",
    "        <tr>\n",
    "            <td>LightGBM</td>\n",
    "            <td>1.05</td>\n",
    "            <td>282</td>\n",
    "            <td>1655</td>\n",
    "        </tr>\n",
    "        <tr>\n",
    "            <td>LightGBM без кодирования</td>\n",
    "            <td><font color='green'>0.72</font></td>\n",
    "            <td>203</td>\n",
    "            <td><font color='green'>1618</font></td>\n",
    "        </tr>\n",
    "        <tr>\n",
    "            <td>CatBoost</td>\n",
    "            <td>14.6</td>\n",
    "            <td>130</td>\n",
    "            <td>1659</td>\n",
    "        </tr>\n",
    "        <tr>\n",
    "            <td>LinearRegression</td>\n",
    "            <td>2.68</td>\n",
    "            <td><font color='green'>118</font></td>\n",
    "            <td><font color='red'>2656</font></td>\n",
    "        </tr>\n",
    "        <tr>\n",
    "            <td>DecisionTree</td>\n",
    "            <td>15.54</td>\n",
    "            <td>134</td>\n",
    "            <td>1920</td>\n",
    "        </tr>\n",
    "    </table>\n",
    "\n",
    "    Исключили из сравнения линейную регрессию, т.к. хотя время обучения и предсказания у нее наименьшие, метрика RMSE у нее превышает заданный порог 2500.\n",
    "\n",
    "    <table>\n",
    "        <tr>\n",
    "            <th>Модель</th>\n",
    "            <th>Обучение, с</th>\n",
    "            <th>Предсказание, мс</th> \n",
    "            <th>RMSE</th> \n",
    "        </tr>\n",
    "        <tr>\n",
    "            <td>LightGBM</td>\n",
    "            <td>1.05</td>\n",
    "            <td>282</td>\n",
    "            <td>1655</td>\n",
    "        </tr>\n",
    "        <tr>\n",
    "            <td>LightGBM без кодирования</td>\n",
    "            <td><font color='green'>0.72</font></td>\n",
    "            <td>203</td>\n",
    "            <td><font color='green'>1618</font></td>\n",
    "        </tr>\n",
    "        <tr>\n",
    "            <td>CatBoost</td>\n",
    "            <td>14.6</td>\n",
    "            <td><font color='green'>130</font></td>\n",
    "            <td>1659</td>\n",
    "        </tr>\n",
    "        <tr>\n",
    "            <td>DecisionTree</td>\n",
    "            <td>15.54</td>\n",
    "            <td>134</td>\n",
    "            <td>1920</td>\n",
    "        </tr>\n",
    "    </table>\n",
    "\n",
    "    У модели LGBMRegressor - наименьшее время обучения (1 секунда при кодировании категориальных признаков OrdinalEncoder и 0.7 секунды, если она обрабатывает категориальные признаки сама) и лучшее RMSE. Время предсказания лучше у CatBoost и DecisionTree - 130 мс против в 2 раза большего у LightGBM.\n",
    "\n",
    "    RMSE бустингов сопоставимы, поэтому в целом можно выбирать любой из двух, в зависимости от того, важнее нам скорость обучения или скорость предсказания.\n",
    "\n",
    "    Проверили качество лучших моделей на тестовой выборке.\n",
    "\n",
    "    Результат LightGBM - 1658.4. Результат CatBoost - 1662.2, LightGBM без использования OrdinalEncoder в пайплайне - 1613.8. Как и на валидационной выборке, RMSE моделей в целом сопоставимы и удовлетворяют требованию RMSE ≤ 2500. Лучший результат у LightGBM без использования внешнего ordinal encoder.\n",
    "    "
   ]
  },
  {
   "cell_type": "markdown",
   "metadata": {},
   "source": [
    "[В начало](#title)"
   ]
  }
 ],
 "metadata": {
  "ExecuteTimeLog": [
   {
    "duration": 51,
    "start_time": "2024-12-04T10:53:08.953Z"
   },
   {
    "duration": 12220,
    "start_time": "2024-12-04T10:53:26.781Z"
   },
   {
    "duration": 1650,
    "start_time": "2024-12-04T10:53:55.261Z"
   },
   {
    "duration": 55,
    "start_time": "2024-12-04T11:32:50.588Z"
   },
   {
    "duration": 78,
    "start_time": "2024-12-04T11:34:23.696Z"
   },
   {
    "duration": 1476,
    "start_time": "2024-12-04T11:34:43.331Z"
   },
   {
    "duration": 1695,
    "start_time": "2024-12-06T14:16:56.591Z"
   },
   {
    "duration": 10920,
    "start_time": "2024-12-06T14:17:06.488Z"
   },
   {
    "duration": 38,
    "start_time": "2024-12-06T14:17:20.791Z"
   },
   {
    "duration": 104,
    "start_time": "2024-12-06T14:17:31.391Z"
   },
   {
    "duration": 7,
    "start_time": "2024-12-06T14:19:17.079Z"
   },
   {
    "duration": 1127,
    "start_time": "2024-12-06T14:19:29.494Z"
   },
   {
    "duration": 27,
    "start_time": "2024-12-06T14:19:42.660Z"
   },
   {
    "duration": 117,
    "start_time": "2024-12-06T14:20:00.708Z"
   },
   {
    "duration": 264,
    "start_time": "2024-12-06T14:22:36.153Z"
   },
   {
    "duration": 150,
    "start_time": "2024-12-06T14:22:48.520Z"
   },
   {
    "duration": 165,
    "start_time": "2024-12-06T14:23:02.551Z"
   },
   {
    "duration": 132,
    "start_time": "2024-12-06T14:23:05.987Z"
   },
   {
    "duration": 110,
    "start_time": "2024-12-06T14:23:25.991Z"
   },
   {
    "duration": 176,
    "start_time": "2024-12-06T14:23:38.207Z"
   },
   {
    "duration": 17,
    "start_time": "2024-12-06T14:23:42.002Z"
   },
   {
    "duration": 86,
    "start_time": "2024-12-06T14:23:45.823Z"
   },
   {
    "duration": 289,
    "start_time": "2024-12-06T14:23:59.999Z"
   },
   {
    "duration": 413,
    "start_time": "2024-12-06T14:24:09.918Z"
   },
   {
    "duration": 323,
    "start_time": "2024-12-06T14:24:16.542Z"
   },
   {
    "duration": 4,
    "start_time": "2024-12-06T14:25:02.398Z"
   },
   {
    "duration": 3,
    "start_time": "2024-12-06T14:25:15.797Z"
   },
   {
    "duration": 32,
    "start_time": "2024-12-06T14:25:31.013Z"
   },
   {
    "duration": 32,
    "start_time": "2024-12-06T14:25:47.804Z"
   },
   {
    "duration": 38,
    "start_time": "2024-12-06T14:25:55.092Z"
   },
   {
    "duration": 18,
    "start_time": "2024-12-06T14:26:13.591Z"
   },
   {
    "duration": 230,
    "start_time": "2024-12-06T14:27:13.170Z"
   },
   {
    "duration": 420,
    "start_time": "2024-12-06T14:27:40.505Z"
   },
   {
    "duration": 5,
    "start_time": "2024-12-06T14:30:18.791Z"
   },
   {
    "duration": 362,
    "start_time": "2024-12-06T14:30:22.535Z"
   },
   {
    "duration": 5,
    "start_time": "2024-12-06T14:30:28.645Z"
   },
   {
    "duration": 443,
    "start_time": "2024-12-06T14:30:33.200Z"
   },
   {
    "duration": 4,
    "start_time": "2024-12-06T14:31:02.366Z"
   },
   {
    "duration": 364,
    "start_time": "2024-12-06T14:31:05.054Z"
   },
   {
    "duration": 5,
    "start_time": "2024-12-06T14:31:11.262Z"
   },
   {
    "duration": 365,
    "start_time": "2024-12-06T14:31:13.584Z"
   },
   {
    "duration": 4,
    "start_time": "2024-12-06T14:31:32.701Z"
   },
   {
    "duration": 4,
    "start_time": "2024-12-06T14:33:14.498Z"
   },
   {
    "duration": 4,
    "start_time": "2024-12-06T14:33:16.362Z"
   },
   {
    "duration": 438,
    "start_time": "2024-12-06T14:33:18.658Z"
   },
   {
    "duration": 393,
    "start_time": "2024-12-06T14:33:37.561Z"
   },
   {
    "duration": 5,
    "start_time": "2024-12-06T14:33:48.783Z"
   },
   {
    "duration": 423,
    "start_time": "2024-12-06T14:33:52.009Z"
   },
   {
    "duration": 5,
    "start_time": "2024-12-06T14:34:18.160Z"
   },
   {
    "duration": 36,
    "start_time": "2024-12-06T14:34:28.415Z"
   },
   {
    "duration": 352,
    "start_time": "2024-12-06T14:34:33.296Z"
   },
   {
    "duration": 179,
    "start_time": "2024-12-06T14:35:00.682Z"
   },
   {
    "duration": 406,
    "start_time": "2024-12-06T14:36:17.413Z"
   },
   {
    "duration": 36,
    "start_time": "2024-12-06T14:36:32.028Z"
   },
   {
    "duration": 345,
    "start_time": "2024-12-06T14:36:37.220Z"
   },
   {
    "duration": 33,
    "start_time": "2024-12-06T14:36:55.259Z"
   },
   {
    "duration": 41,
    "start_time": "2024-12-06T14:37:04.092Z"
   },
   {
    "duration": 397,
    "start_time": "2024-12-06T14:37:26.787Z"
   },
   {
    "duration": 7,
    "start_time": "2024-12-06T14:38:10.762Z"
   },
   {
    "duration": 211,
    "start_time": "2024-12-06T14:38:30.849Z"
   },
   {
    "duration": 22,
    "start_time": "2024-12-06T14:38:51.048Z"
   },
   {
    "duration": 44,
    "start_time": "2024-12-06T14:38:57.057Z"
   },
   {
    "duration": 156,
    "start_time": "2024-12-06T14:39:17.584Z"
   },
   {
    "duration": 22,
    "start_time": "2024-12-06T14:39:51.871Z"
   },
   {
    "duration": 19,
    "start_time": "2024-12-06T14:39:56.883Z"
   },
   {
    "duration": 7,
    "start_time": "2024-12-06T14:40:42.837Z"
   },
   {
    "duration": 129,
    "start_time": "2024-12-06T14:41:02.733Z"
   },
   {
    "duration": 9,
    "start_time": "2024-12-06T14:41:28.293Z"
   },
   {
    "duration": 24,
    "start_time": "2024-12-06T14:41:46.309Z"
   },
   {
    "duration": 15,
    "start_time": "2024-12-06T14:41:51.644Z"
   },
   {
    "duration": 403,
    "start_time": "2024-12-06T14:42:14.931Z"
   },
   {
    "duration": 22,
    "start_time": "2024-12-06T14:42:26.443Z"
   },
   {
    "duration": 28,
    "start_time": "2024-12-06T14:42:31.570Z"
   },
   {
    "duration": 3,
    "start_time": "2024-12-06T14:42:34.634Z"
   },
   {
    "duration": 168,
    "start_time": "2024-12-06T14:42:53.723Z"
   },
   {
    "duration": 2,
    "start_time": "2024-12-06T14:43:18.251Z"
   },
   {
    "duration": 2,
    "start_time": "2024-12-06T14:43:23.003Z"
   },
   {
    "duration": 13316,
    "start_time": "2024-12-06T14:43:27.075Z"
   },
   {
    "duration": 1179,
    "start_time": "2024-12-06T14:43:51.153Z"
   },
   {
    "duration": 8,
    "start_time": "2024-12-06T14:44:12.001Z"
   },
   {
    "duration": 3,
    "start_time": "2024-12-06T14:44:49.596Z"
   },
   {
    "duration": 4,
    "start_time": "2024-12-06T14:44:53.128Z"
   },
   {
    "duration": 5078,
    "start_time": "2024-12-06T14:45:01.343Z"
   },
   {
    "duration": 951,
    "start_time": "2024-12-06T14:45:17.039Z"
   },
   {
    "duration": 3,
    "start_time": "2024-12-06T14:46:00.766Z"
   },
   {
    "duration": 19,
    "start_time": "2024-12-06T14:46:04.487Z"
   },
   {
    "duration": 2,
    "start_time": "2024-12-06T14:46:07.510Z"
   },
   {
    "duration": 5,
    "start_time": "2024-12-06T14:46:19.206Z"
   },
   {
    "duration": 43,
    "start_time": "2024-12-06T14:46:40.870Z"
   },
   {
    "duration": 33,
    "start_time": "2024-12-06T14:46:44.790Z"
   },
   {
    "duration": 3,
    "start_time": "2024-12-06T14:46:57.645Z"
   },
   {
    "duration": 3,
    "start_time": "2024-12-06T14:47:01.156Z"
   },
   {
    "duration": 5,
    "start_time": "2024-12-06T14:47:04.095Z"
   },
   {
    "duration": 3,
    "start_time": "2024-12-06T14:47:08.285Z"
   },
   {
    "duration": 3,
    "start_time": "2024-12-06T15:07:18.159Z"
   },
   {
    "duration": 10,
    "start_time": "2024-12-06T15:07:26.302Z"
   },
   {
    "duration": 3,
    "start_time": "2024-12-06T15:07:33.696Z"
   },
   {
    "duration": 3,
    "start_time": "2024-12-06T15:07:46.454Z"
   },
   {
    "duration": 3,
    "start_time": "2024-12-06T15:07:56.598Z"
   },
   {
    "duration": 3,
    "start_time": "2024-12-06T15:08:16.342Z"
   },
   {
    "duration": 3,
    "start_time": "2024-12-06T15:08:21.517Z"
   },
   {
    "duration": 4,
    "start_time": "2024-12-06T15:08:28.501Z"
   },
   {
    "duration": 2962,
    "start_time": "2024-12-06T15:08:32.783Z"
   },
   {
    "duration": 3322,
    "start_time": "2024-12-06T15:09:51.748Z"
   },
   {
    "duration": 1610,
    "start_time": "2024-12-06T15:11:01.186Z"
   },
   {
    "duration": 5728,
    "start_time": "2024-12-06T15:11:06.458Z"
   },
   {
    "duration": 4,
    "start_time": "2024-12-06T15:11:14.705Z"
   },
   {
    "duration": 2921,
    "start_time": "2024-12-06T15:11:37.826Z"
   },
   {
    "duration": 9,
    "start_time": "2024-12-06T15:12:51.064Z"
   },
   {
    "duration": 1219,
    "start_time": "2024-12-06T15:13:10.391Z"
   },
   {
    "duration": 4,
    "start_time": "2024-12-06T15:13:23.464Z"
   },
   {
    "duration": 15,
    "start_time": "2024-12-06T15:13:23.470Z"
   },
   {
    "duration": 820,
    "start_time": "2024-12-06T15:13:23.486Z"
   },
   {
    "duration": 17,
    "start_time": "2024-12-06T15:13:24.308Z"
   },
   {
    "duration": 121,
    "start_time": "2024-12-06T15:13:24.326Z"
   },
   {
    "duration": 252,
    "start_time": "2024-12-06T15:13:24.448Z"
   },
   {
    "duration": 160,
    "start_time": "2024-12-06T15:13:24.702Z"
   },
   {
    "duration": 170,
    "start_time": "2024-12-06T15:13:24.863Z"
   },
   {
    "duration": 119,
    "start_time": "2024-12-06T15:13:25.035Z"
   },
   {
    "duration": 111,
    "start_time": "2024-12-06T15:13:25.156Z"
   },
   {
    "duration": 164,
    "start_time": "2024-12-06T15:13:25.275Z"
   },
   {
    "duration": 13,
    "start_time": "2024-12-06T15:13:25.440Z"
   },
   {
    "duration": 96,
    "start_time": "2024-12-06T15:13:25.454Z"
   },
   {
    "duration": 284,
    "start_time": "2024-12-06T15:13:25.551Z"
   },
   {
    "duration": 394,
    "start_time": "2024-12-06T15:13:25.836Z"
   },
   {
    "duration": 256,
    "start_time": "2024-12-06T15:13:26.232Z"
   },
   {
    "duration": 5,
    "start_time": "2024-12-06T15:13:26.490Z"
   },
   {
    "duration": 5,
    "start_time": "2024-12-06T15:13:26.497Z"
   },
   {
    "duration": 22,
    "start_time": "2024-12-06T15:13:26.503Z"
   },
   {
    "duration": 228,
    "start_time": "2024-12-06T15:13:26.526Z"
   },
   {
    "duration": 395,
    "start_time": "2024-12-06T15:13:26.756Z"
   },
   {
    "duration": 4,
    "start_time": "2024-12-06T15:13:27.152Z"
   },
   {
    "duration": 48,
    "start_time": "2024-12-06T15:13:27.157Z"
   },
   {
    "duration": 389,
    "start_time": "2024-12-06T15:13:27.209Z"
   },
   {
    "duration": 153,
    "start_time": "2024-12-06T15:13:27.599Z"
   },
   {
    "duration": 403,
    "start_time": "2024-12-06T15:13:27.753Z"
   },
   {
    "duration": 37,
    "start_time": "2024-12-06T15:13:28.158Z"
   },
   {
    "duration": 308,
    "start_time": "2024-12-06T15:13:28.197Z"
   },
   {
    "duration": 25,
    "start_time": "2024-12-06T15:13:28.507Z"
   },
   {
    "duration": 54,
    "start_time": "2024-12-06T15:13:28.533Z"
   },
   {
    "duration": 361,
    "start_time": "2024-12-06T15:13:28.588Z"
   },
   {
    "duration": 7,
    "start_time": "2024-12-06T15:13:28.951Z"
   },
   {
    "duration": 232,
    "start_time": "2024-12-06T15:13:28.960Z"
   },
   {
    "duration": 21,
    "start_time": "2024-12-06T15:13:29.194Z"
   },
   {
    "duration": 30,
    "start_time": "2024-12-06T15:13:29.217Z"
   },
   {
    "duration": 157,
    "start_time": "2024-12-06T15:13:29.249Z"
   },
   {
    "duration": 15,
    "start_time": "2024-12-06T15:13:29.407Z"
   },
   {
    "duration": 8,
    "start_time": "2024-12-06T15:13:29.424Z"
   },
   {
    "duration": 8,
    "start_time": "2024-12-06T15:13:29.433Z"
   },
   {
    "duration": 43,
    "start_time": "2024-12-06T15:13:29.442Z"
   },
   {
    "duration": 16,
    "start_time": "2024-12-06T15:13:29.487Z"
   },
   {
    "duration": 396,
    "start_time": "2024-12-06T15:13:29.505Z"
   },
   {
    "duration": 25,
    "start_time": "2024-12-06T15:13:29.902Z"
   },
   {
    "duration": 13,
    "start_time": "2024-12-06T15:13:29.928Z"
   },
   {
    "duration": 3,
    "start_time": "2024-12-06T15:13:29.943Z"
   },
   {
    "duration": 13,
    "start_time": "2024-12-06T15:13:29.981Z"
   },
   {
    "duration": 3,
    "start_time": "2024-12-06T15:13:29.996Z"
   },
   {
    "duration": 13391,
    "start_time": "2024-12-06T15:13:30.000Z"
   },
   {
    "duration": 1155,
    "start_time": "2024-12-06T15:13:43.393Z"
   },
   {
    "duration": 2,
    "start_time": "2024-12-06T15:13:44.549Z"
   },
   {
    "duration": 4763,
    "start_time": "2024-12-06T15:13:44.552Z"
   },
   {
    "duration": 987,
    "start_time": "2024-12-06T15:13:49.317Z"
   },
   {
    "duration": 2,
    "start_time": "2024-12-06T15:13:50.305Z"
   },
   {
    "duration": 17,
    "start_time": "2024-12-06T15:13:50.308Z"
   },
   {
    "duration": 2,
    "start_time": "2024-12-06T15:13:50.327Z"
   },
   {
    "duration": 6,
    "start_time": "2024-12-06T15:13:50.330Z"
   },
   {
    "duration": 58,
    "start_time": "2024-12-06T15:13:50.337Z"
   },
   {
    "duration": 19,
    "start_time": "2024-12-06T15:13:50.397Z"
   },
   {
    "duration": 7,
    "start_time": "2024-12-06T15:13:50.418Z"
   },
   {
    "duration": 18,
    "start_time": "2024-12-06T15:13:50.426Z"
   },
   {
    "duration": 3,
    "start_time": "2024-12-06T15:13:50.446Z"
   },
   {
    "duration": 4,
    "start_time": "2024-12-06T15:13:50.450Z"
   },
   {
    "duration": 3,
    "start_time": "2024-12-06T15:13:50.455Z"
   },
   {
    "duration": 23,
    "start_time": "2024-12-06T15:13:50.459Z"
   },
   {
    "duration": 3,
    "start_time": "2024-12-06T15:13:50.484Z"
   },
   {
    "duration": 3,
    "start_time": "2024-12-06T15:13:53.983Z"
   },
   {
    "duration": 3,
    "start_time": "2024-12-06T15:13:55.538Z"
   },
   {
    "duration": 5,
    "start_time": "2024-12-06T15:13:57.009Z"
   },
   {
    "duration": 2,
    "start_time": "2024-12-06T15:13:57.810Z"
   },
   {
    "duration": 1098439,
    "start_time": "2024-12-06T15:13:58.483Z"
   },
   {
    "duration": 7,
    "start_time": "2024-12-06T15:32:47.702Z"
   },
   {
    "duration": 716935,
    "start_time": "2024-12-06T15:32:55.966Z"
   },
   {
    "duration": 0,
    "start_time": "2024-12-06T15:44:52.906Z"
   },
   {
    "duration": 4,
    "start_time": "2024-12-06T15:45:00.437Z"
   },
   {
    "duration": 1115653,
    "start_time": "2024-12-06T15:45:04.550Z"
   },
   {
    "duration": 3,
    "start_time": "2024-12-06T16:03:54.461Z"
   },
   {
    "duration": 38890,
    "start_time": "2024-12-06T16:03:59.660Z"
   },
   {
    "duration": 4,
    "start_time": "2024-12-06T16:05:00.383Z"
   },
   {
    "duration": 54456,
    "start_time": "2024-12-06T16:05:06.946Z"
   },
   {
    "duration": 3,
    "start_time": "2024-12-06T16:06:03.817Z"
   },
   {
    "duration": 6458,
    "start_time": "2024-12-06T16:06:08.041Z"
   },
   {
    "duration": 3,
    "start_time": "2024-12-06T16:07:03.128Z"
   },
   {
    "duration": 10,
    "start_time": "2024-12-06T16:07:30.496Z"
   },
   {
    "duration": 4,
    "start_time": "2024-12-06T16:07:42.030Z"
   },
   {
    "duration": 96,
    "start_time": "2024-12-06T16:07:43.063Z"
   },
   {
    "duration": 34,
    "start_time": "2024-12-06T16:07:47.592Z"
   },
   {
    "duration": 19,
    "start_time": "2024-12-06T16:07:51.558Z"
   },
   {
    "duration": 9,
    "start_time": "2024-12-06T16:08:22.179Z"
   },
   {
    "duration": 85426,
    "start_time": "2024-12-06T16:08:34.480Z"
   },
   {
    "duration": 0,
    "start_time": "2024-12-06T16:09:59.910Z"
   },
   {
    "duration": 22,
    "start_time": "2024-12-06T16:10:02.974Z"
   },
   {
    "duration": 1641,
    "start_time": "2024-12-06T16:10:42.484Z"
   },
   {
    "duration": 1599,
    "start_time": "2024-12-06T16:10:48.059Z"
   },
   {
    "duration": 2986,
    "start_time": "2024-12-06T16:10:52.677Z"
   },
   {
    "duration": 1619,
    "start_time": "2024-12-06T16:11:04.129Z"
   },
   {
    "duration": 3763,
    "start_time": "2024-12-06T16:11:09.826Z"
   },
   {
    "duration": 5,
    "start_time": "2024-12-06T16:11:16.467Z"
   },
   {
    "duration": 1380,
    "start_time": "2024-12-06T16:11:34.351Z"
   },
   {
    "duration": 2,
    "start_time": "2024-12-06T16:11:35.733Z"
   },
   {
    "duration": 964,
    "start_time": "2024-12-06T16:11:35.736Z"
   },
   {
    "duration": 85,
    "start_time": "2024-12-06T16:11:36.701Z"
   },
   {
    "duration": 232,
    "start_time": "2024-12-06T16:11:36.788Z"
   },
   {
    "duration": 592,
    "start_time": "2024-12-06T16:11:37.021Z"
   },
   {
    "duration": 408,
    "start_time": "2024-12-06T16:11:37.615Z"
   },
   {
    "duration": 187,
    "start_time": "2024-12-06T16:11:38.024Z"
   },
   {
    "duration": 125,
    "start_time": "2024-12-06T16:11:38.213Z"
   },
   {
    "duration": 120,
    "start_time": "2024-12-06T16:11:38.340Z"
   },
   {
    "duration": 260,
    "start_time": "2024-12-06T16:11:38.461Z"
   },
   {
    "duration": 12,
    "start_time": "2024-12-06T16:11:38.723Z"
   },
   {
    "duration": 101,
    "start_time": "2024-12-06T16:11:38.737Z"
   },
   {
    "duration": 296,
    "start_time": "2024-12-06T16:11:38.840Z"
   },
   {
    "duration": 446,
    "start_time": "2024-12-06T16:11:39.137Z"
   },
   {
    "duration": 261,
    "start_time": "2024-12-06T16:11:39.589Z"
   },
   {
    "duration": 4,
    "start_time": "2024-12-06T16:11:39.852Z"
   },
   {
    "duration": 58,
    "start_time": "2024-12-06T16:11:39.857Z"
   },
   {
    "duration": 72,
    "start_time": "2024-12-06T16:11:39.917Z"
   },
   {
    "duration": 211,
    "start_time": "2024-12-06T16:11:39.992Z"
   },
   {
    "duration": 427,
    "start_time": "2024-12-06T16:11:40.205Z"
   },
   {
    "duration": 5,
    "start_time": "2024-12-06T16:11:40.633Z"
   },
   {
    "duration": 59,
    "start_time": "2024-12-06T16:11:40.639Z"
   },
   {
    "duration": 418,
    "start_time": "2024-12-06T16:11:40.699Z"
   },
   {
    "duration": 243,
    "start_time": "2024-12-06T16:11:41.118Z"
   },
   {
    "duration": 364,
    "start_time": "2024-12-06T16:11:41.362Z"
   },
   {
    "duration": 64,
    "start_time": "2024-12-06T16:11:41.728Z"
   },
   {
    "duration": 369,
    "start_time": "2024-12-06T16:11:41.797Z"
   },
   {
    "duration": 34,
    "start_time": "2024-12-06T16:11:42.168Z"
   },
   {
    "duration": 33,
    "start_time": "2024-12-06T16:11:42.204Z"
   },
   {
    "duration": 462,
    "start_time": "2024-12-06T16:11:42.239Z"
   },
   {
    "duration": 10,
    "start_time": "2024-12-06T16:11:42.702Z"
   },
   {
    "duration": 285,
    "start_time": "2024-12-06T16:11:42.714Z"
   },
   {
    "duration": 35,
    "start_time": "2024-12-06T16:11:43.001Z"
   },
   {
    "duration": 62,
    "start_time": "2024-12-06T16:11:43.039Z"
   },
   {
    "duration": 192,
    "start_time": "2024-12-06T16:11:43.102Z"
   },
   {
    "duration": 17,
    "start_time": "2024-12-06T16:11:43.300Z"
   },
   {
    "duration": 9,
    "start_time": "2024-12-06T16:11:43.319Z"
   },
   {
    "duration": 80,
    "start_time": "2024-12-06T16:11:43.329Z"
   },
   {
    "duration": 8,
    "start_time": "2024-12-06T16:11:43.411Z"
   },
   {
    "duration": 18,
    "start_time": "2024-12-06T16:11:43.420Z"
   },
   {
    "duration": 457,
    "start_time": "2024-12-06T16:11:43.439Z"
   },
   {
    "duration": 25,
    "start_time": "2024-12-06T16:11:43.900Z"
   },
   {
    "duration": 38,
    "start_time": "2024-12-06T16:11:43.927Z"
   },
   {
    "duration": 3,
    "start_time": "2024-12-06T16:11:43.967Z"
   },
   {
    "duration": 14,
    "start_time": "2024-12-06T16:11:43.984Z"
   },
   {
    "duration": 3,
    "start_time": "2024-12-06T16:11:44.000Z"
   },
   {
    "duration": 14931,
    "start_time": "2024-12-06T16:11:44.004Z"
   },
   {
    "duration": 1154,
    "start_time": "2024-12-06T16:11:58.937Z"
   },
   {
    "duration": 3,
    "start_time": "2024-12-06T16:12:00.093Z"
   },
   {
    "duration": 5264,
    "start_time": "2024-12-06T16:12:00.098Z"
   },
   {
    "duration": 928,
    "start_time": "2024-12-06T16:12:05.363Z"
   },
   {
    "duration": 2,
    "start_time": "2024-12-06T16:12:06.293Z"
   },
   {
    "duration": 35,
    "start_time": "2024-12-06T16:12:06.296Z"
   },
   {
    "duration": 16,
    "start_time": "2024-12-06T16:12:06.332Z"
   },
   {
    "duration": 18,
    "start_time": "2024-12-06T16:12:06.350Z"
   },
   {
    "duration": 68,
    "start_time": "2024-12-06T16:12:06.369Z"
   },
   {
    "duration": 20,
    "start_time": "2024-12-06T16:12:06.439Z"
   },
   {
    "duration": 4,
    "start_time": "2024-12-06T16:12:06.461Z"
   },
   {
    "duration": 21,
    "start_time": "2024-12-06T16:12:06.466Z"
   },
   {
    "duration": 24,
    "start_time": "2024-12-06T16:12:06.489Z"
   },
   {
    "duration": 24,
    "start_time": "2024-12-06T16:12:06.515Z"
   },
   {
    "duration": 8,
    "start_time": "2024-12-06T16:12:06.542Z"
   },
   {
    "duration": 4,
    "start_time": "2024-12-06T16:12:06.551Z"
   },
   {
    "duration": 38,
    "start_time": "2024-12-06T16:12:06.556Z"
   },
   {
    "duration": 6,
    "start_time": "2024-12-06T16:12:06.596Z"
   },
   {
    "duration": 3,
    "start_time": "2024-12-06T16:12:14.736Z"
   },
   {
    "duration": 14,
    "start_time": "2024-12-06T16:12:15.680Z"
   },
   {
    "duration": 3,
    "start_time": "2024-12-06T16:12:17.448Z"
   },
   {
    "duration": 47148,
    "start_time": "2024-12-06T16:12:18.864Z"
   },
   {
    "duration": 3,
    "start_time": "2024-12-06T16:13:35.046Z"
   },
   {
    "duration": 2,
    "start_time": "2024-12-06T16:13:35.446Z"
   },
   {
    "duration": 72700,
    "start_time": "2024-12-06T16:13:36.607Z"
   },
   {
    "duration": 16,
    "start_time": "2024-12-06T16:15:45.400Z"
   },
   {
    "duration": 3,
    "start_time": "2024-12-06T16:16:05.644Z"
   },
   {
    "duration": 3,
    "start_time": "2024-12-06T16:17:06.553Z"
   },
   {
    "duration": 9,
    "start_time": "2024-12-06T16:17:11.761Z"
   },
   {
    "duration": 3,
    "start_time": "2024-12-06T16:17:16.713Z"
   },
   {
    "duration": 224249,
    "start_time": "2024-12-06T16:17:22.841Z"
   },
   {
    "duration": 20,
    "start_time": "2024-12-06T16:21:39.564Z"
   },
   {
    "duration": 4,
    "start_time": "2024-12-06T16:21:48.555Z"
   },
   {
    "duration": 4,
    "start_time": "2024-12-06T16:23:22.484Z"
   },
   {
    "duration": 3,
    "start_time": "2024-12-06T16:23:25.825Z"
   },
   {
    "duration": 5,
    "start_time": "2024-12-06T16:23:31.691Z"
   },
   {
    "duration": 122457,
    "start_time": "2024-12-06T16:23:37.057Z"
   },
   {
    "duration": 25,
    "start_time": "2024-12-06T16:26:58.357Z"
   },
   {
    "duration": 22,
    "start_time": "2024-12-06T16:27:10.468Z"
   },
   {
    "duration": 3,
    "start_time": "2024-12-06T16:28:48.051Z"
   },
   {
    "duration": 7864,
    "start_time": "2024-12-06T16:31:59.166Z"
   },
   {
    "duration": 8427,
    "start_time": "2024-12-06T16:32:13.593Z"
   },
   {
    "duration": 5,
    "start_time": "2024-12-06T16:32:45.694Z"
   },
   {
    "duration": 3,
    "start_time": "2024-12-06T16:33:36.524Z"
   },
   {
    "duration": 19903,
    "start_time": "2024-12-06T16:33:41.283Z"
   },
   {
    "duration": 5693,
    "start_time": "2024-12-06T16:34:18.027Z"
   },
   {
    "duration": 731,
    "start_time": "2024-12-06T16:34:32.267Z"
   },
   {
    "duration": 3,
    "start_time": "2024-12-06T16:34:54.018Z"
   },
   {
    "duration": 283334,
    "start_time": "2024-12-06T16:34:58.114Z"
   },
   {
    "duration": 11002,
    "start_time": "2024-12-06T16:41:00.242Z"
   },
   {
    "duration": 153,
    "start_time": "2024-12-06T16:41:14.249Z"
   },
   {
    "duration": 3,
    "start_time": "2024-12-06T16:41:34.601Z"
   },
   {
    "duration": 45433,
    "start_time": "2024-12-06T16:41:38.482Z"
   },
   {
    "duration": 116,
    "start_time": "2024-12-06T16:44:29.101Z"
   },
   {
    "duration": 8568,
    "start_time": "2024-12-06T16:45:10.579Z"
   },
   {
    "duration": 119,
    "start_time": "2024-12-06T16:46:30.322Z"
   },
   {
    "duration": 3,
    "start_time": "2024-12-06T16:48:31.223Z"
   },
   {
    "duration": 95527,
    "start_time": "2024-12-06T16:48:35.671Z"
   },
   {
    "duration": 10026,
    "start_time": "2024-12-06T16:50:28.061Z"
   },
   {
    "duration": 147,
    "start_time": "2024-12-06T16:51:39.651Z"
   },
   {
    "duration": 3,
    "start_time": "2024-12-06T16:56:59.632Z"
   },
   {
    "duration": 4,
    "start_time": "2024-12-06T16:57:06.306Z"
   },
   {
    "duration": 61,
    "start_time": "2024-12-06T16:57:10.890Z"
   },
   {
    "duration": 14,
    "start_time": "2024-12-06T16:57:41.314Z"
   },
   {
    "duration": 7,
    "start_time": "2024-12-06T17:00:42.100Z"
   },
   {
    "duration": 24,
    "start_time": "2024-12-06T17:00:42.493Z"
   },
   {
    "duration": 22,
    "start_time": "2024-12-06T17:01:06.578Z"
   },
   {
    "duration": 723,
    "start_time": "2024-12-06T17:03:33.279Z"
   },
   {
    "duration": 172,
    "start_time": "2024-12-06T17:03:43.736Z"
   },
   {
    "duration": 14,
    "start_time": "2024-12-07T09:56:44.797Z"
   },
   {
    "duration": 5669,
    "start_time": "2024-12-07T09:56:44.813Z"
   },
   {
    "duration": 1254,
    "start_time": "2024-12-07T09:57:26.544Z"
   },
   {
    "duration": 13,
    "start_time": "2024-12-07T09:57:37.655Z"
   },
   {
    "duration": 1727,
    "start_time": "2024-12-07T09:57:37.680Z"
   },
   {
    "duration": 1851,
    "start_time": "2024-12-07T10:44:17.564Z"
   },
   {
    "duration": 7,
    "start_time": "2024-12-07T10:44:22.080Z"
   },
   {
    "duration": 14102,
    "start_time": "2024-12-07T10:44:29.294Z"
   },
   {
    "duration": 43,
    "start_time": "2024-12-07T10:44:45.888Z"
   },
   {
    "duration": 3,
    "start_time": "2024-12-07T10:45:50.726Z"
   },
   {
    "duration": 1290,
    "start_time": "2024-12-07T10:45:53.510Z"
   },
   {
    "duration": 1428,
    "start_time": "2024-12-07T12:27:11.443Z"
   },
   {
    "duration": 7685,
    "start_time": "2024-12-07T12:27:56.729Z"
   },
   {
    "duration": 5,
    "start_time": "2024-12-07T12:28:35.794Z"
   },
   {
    "duration": 3,
    "start_time": "2024-12-07T12:28:38.279Z"
   },
   {
    "duration": 931,
    "start_time": "2024-12-07T12:28:39.744Z"
   },
   {
    "duration": 20,
    "start_time": "2024-12-07T12:28:42.882Z"
   },
   {
    "duration": 149,
    "start_time": "2024-12-07T12:28:45.656Z"
   },
   {
    "duration": 320,
    "start_time": "2024-12-07T12:28:48.616Z"
   },
   {
    "duration": 194,
    "start_time": "2024-12-07T12:28:51.040Z"
   },
   {
    "duration": 192,
    "start_time": "2024-12-07T12:28:56.151Z"
   },
   {
    "duration": 139,
    "start_time": "2024-12-07T12:28:57.871Z"
   },
   {
    "duration": 155,
    "start_time": "2024-12-07T12:29:01.416Z"
   },
   {
    "duration": 190,
    "start_time": "2024-12-07T12:29:04.384Z"
   },
   {
    "duration": 15,
    "start_time": "2024-12-07T12:29:05.656Z"
   },
   {
    "duration": 109,
    "start_time": "2024-12-07T12:29:11.110Z"
   },
   {
    "duration": 343,
    "start_time": "2024-12-07T12:29:15.224Z"
   },
   {
    "duration": 460,
    "start_time": "2024-12-07T12:29:17.175Z"
   },
   {
    "duration": 298,
    "start_time": "2024-12-07T12:29:18.014Z"
   },
   {
    "duration": 5,
    "start_time": "2024-12-07T12:29:22.680Z"
   },
   {
    "duration": 3,
    "start_time": "2024-12-07T12:29:23.831Z"
   },
   {
    "duration": 22,
    "start_time": "2024-12-07T12:29:25.117Z"
   },
   {
    "duration": 233,
    "start_time": "2024-12-07T12:29:27.287Z"
   },
   {
    "duration": 478,
    "start_time": "2024-12-07T12:29:29.751Z"
   },
   {
    "duration": 5,
    "start_time": "2024-12-07T12:29:32.317Z"
   },
   {
    "duration": 35,
    "start_time": "2024-12-07T12:29:33.749Z"
   },
   {
    "duration": 478,
    "start_time": "2024-12-07T12:29:34.661Z"
   },
   {
    "duration": 264,
    "start_time": "2024-12-07T12:29:38.229Z"
   },
   {
    "duration": 405,
    "start_time": "2024-12-07T12:29:41.621Z"
   },
   {
    "duration": 33,
    "start_time": "2024-12-07T12:29:44.181Z"
   },
   {
    "duration": 353,
    "start_time": "2024-12-07T12:29:45.517Z"
   },
   {
    "duration": 23,
    "start_time": "2024-12-07T12:31:00.190Z"
   },
   {
    "duration": 37,
    "start_time": "2024-12-07T12:31:03.917Z"
   },
   {
    "duration": 457,
    "start_time": "2024-12-07T12:31:06.301Z"
   },
   {
    "duration": 7,
    "start_time": "2024-12-07T12:31:08.757Z"
   },
   {
    "duration": 231,
    "start_time": "2024-12-07T12:31:11.093Z"
   },
   {
    "duration": 22,
    "start_time": "2024-12-07T12:31:13.139Z"
   },
   {
    "duration": 37,
    "start_time": "2024-12-07T12:31:15.124Z"
   },
   {
    "duration": 179,
    "start_time": "2024-12-07T12:31:16.565Z"
   },
   {
    "duration": 22,
    "start_time": "2024-12-07T12:31:19.052Z"
   },
   {
    "duration": 9,
    "start_time": "2024-12-07T12:31:20.813Z"
   },
   {
    "duration": 87,
    "start_time": "2024-12-07T12:31:22.769Z"
   },
   {
    "duration": 9,
    "start_time": "2024-12-07T12:31:24.940Z"
   },
   {
    "duration": 11,
    "start_time": "2024-12-07T12:31:27.124Z"
   },
   {
    "duration": 17,
    "start_time": "2024-12-07T12:31:28.995Z"
   },
   {
    "duration": 464,
    "start_time": "2024-12-07T12:31:30.804Z"
   },
   {
    "duration": 32,
    "start_time": "2024-12-07T12:31:33.604Z"
   },
   {
    "duration": 16,
    "start_time": "2024-12-07T12:31:34.810Z"
   },
   {
    "duration": 4,
    "start_time": "2024-12-07T12:31:35.339Z"
   },
   {
    "duration": 3,
    "start_time": "2024-12-07T12:36:54.588Z"
   },
   {
    "duration": 133,
    "start_time": "2024-12-07T12:36:58.244Z"
   },
   {
    "duration": 4,
    "start_time": "2024-12-07T12:37:02.611Z"
   },
   {
    "duration": 212,
    "start_time": "2024-12-07T12:37:14.524Z"
   },
   {
    "duration": 123,
    "start_time": "2024-12-07T12:37:18.627Z"
   },
   {
    "duration": 4,
    "start_time": "2024-12-07T12:37:22.820Z"
   },
   {
    "duration": 3,
    "start_time": "2024-12-07T12:37:30.900Z"
   },
   {
    "duration": 4262,
    "start_time": "2024-12-07T12:37:42.210Z"
   },
   {
    "duration": 1393,
    "start_time": "2024-12-07T12:38:48.169Z"
   },
   {
    "duration": 71,
    "start_time": "2024-12-07T12:39:27.241Z"
   },
   {
    "duration": 3,
    "start_time": "2024-12-07T12:40:36.271Z"
   },
   {
    "duration": 11,
    "start_time": "2024-12-07T12:40:36.791Z"
   },
   {
    "duration": 3,
    "start_time": "2024-12-07T12:40:37.294Z"
   },
   {
    "duration": 5,
    "start_time": "2024-12-07T12:40:38.261Z"
   },
   {
    "duration": 44,
    "start_time": "2024-12-07T12:40:40.070Z"
   },
   {
    "duration": 18,
    "start_time": "2024-12-07T12:40:40.415Z"
   },
   {
    "duration": 4,
    "start_time": "2024-12-07T12:40:42.989Z"
   },
   {
    "duration": 4,
    "start_time": "2024-12-07T12:40:43.478Z"
   },
   {
    "duration": 4,
    "start_time": "2024-12-07T12:40:44.063Z"
   },
   {
    "duration": 4,
    "start_time": "2024-12-07T12:40:44.606Z"
   },
   {
    "duration": 3,
    "start_time": "2024-12-07T12:41:00.823Z"
   },
   {
    "duration": 3,
    "start_time": "2024-12-07T12:41:02.527Z"
   },
   {
    "duration": 3,
    "start_time": "2024-12-07T12:41:21.686Z"
   },
   {
    "duration": 3,
    "start_time": "2024-12-07T12:41:28.318Z"
   },
   {
    "duration": 3,
    "start_time": "2024-12-07T12:41:33.982Z"
   },
   {
    "duration": 3,
    "start_time": "2024-12-07T12:41:38.894Z"
   },
   {
    "duration": 3,
    "start_time": "2024-12-07T12:41:57.099Z"
   },
   {
    "duration": 2,
    "start_time": "2024-12-07T12:41:58.262Z"
   },
   {
    "duration": 5049,
    "start_time": "2024-12-07T12:42:00.724Z"
   },
   {
    "duration": 3,
    "start_time": "2024-12-07T12:42:33.790Z"
   },
   {
    "duration": 14,
    "start_time": "2024-12-07T12:42:34.404Z"
   },
   {
    "duration": 2,
    "start_time": "2024-12-07T12:42:34.691Z"
   },
   {
    "duration": 4,
    "start_time": "2024-12-07T12:42:35.668Z"
   },
   {
    "duration": 52,
    "start_time": "2024-12-07T12:42:39.306Z"
   },
   {
    "duration": 22,
    "start_time": "2024-12-07T12:42:39.659Z"
   },
   {
    "duration": 5,
    "start_time": "2024-12-07T12:42:42.122Z"
   },
   {
    "duration": 4,
    "start_time": "2024-12-07T12:42:42.491Z"
   },
   {
    "duration": 5,
    "start_time": "2024-12-07T12:42:42.844Z"
   },
   {
    "duration": 4,
    "start_time": "2024-12-07T12:42:43.291Z"
   },
   {
    "duration": 3,
    "start_time": "2024-12-07T12:42:45.537Z"
   },
   {
    "duration": 4,
    "start_time": "2024-12-07T12:42:46.594Z"
   },
   {
    "duration": 3,
    "start_time": "2024-12-07T12:42:48.411Z"
   },
   {
    "duration": 3,
    "start_time": "2024-12-07T12:42:50.586Z"
   },
   {
    "duration": 3,
    "start_time": "2024-12-07T12:42:51.146Z"
   },
   {
    "duration": 3,
    "start_time": "2024-12-07T12:42:53.106Z"
   },
   {
    "duration": 3,
    "start_time": "2024-12-07T12:42:55.443Z"
   },
   {
    "duration": 2,
    "start_time": "2024-12-07T12:42:56.987Z"
   },
   {
    "duration": 69464,
    "start_time": "2024-12-07T12:42:57.922Z"
   },
   {
    "duration": 18,
    "start_time": "2024-12-07T12:44:12.122Z"
   },
   {
    "duration": 3,
    "start_time": "2024-12-07T12:44:15.642Z"
   },
   {
    "duration": 3,
    "start_time": "2024-12-07T12:44:44.761Z"
   },
   {
    "duration": 4,
    "start_time": "2024-12-07T12:44:46.616Z"
   },
   {
    "duration": 3,
    "start_time": "2024-12-07T12:44:47.793Z"
   },
   {
    "duration": 214541,
    "start_time": "2024-12-07T12:44:49.641Z"
   },
   {
    "duration": 12,
    "start_time": "2024-12-07T12:49:07.690Z"
   },
   {
    "duration": 3,
    "start_time": "2024-12-07T12:49:10.691Z"
   },
   {
    "duration": 3,
    "start_time": "2024-12-07T12:49:16.248Z"
   },
   {
    "duration": 3,
    "start_time": "2024-12-07T12:49:16.649Z"
   },
   {
    "duration": 2,
    "start_time": "2024-12-07T12:49:17.106Z"
   },
   {
    "duration": 142440,
    "start_time": "2024-12-07T12:49:22.898Z"
   },
   {
    "duration": 17,
    "start_time": "2024-12-07T12:52:03.014Z"
   },
   {
    "duration": 4,
    "start_time": "2024-12-07T12:52:07.493Z"
   },
   {
    "duration": 3,
    "start_time": "2024-12-07T12:53:24.578Z"
   },
   {
    "duration": 19992,
    "start_time": "2024-12-07T12:53:32.363Z"
   },
   {
    "duration": 5289,
    "start_time": "2024-12-07T12:54:35.494Z"
   },
   {
    "duration": 665,
    "start_time": "2024-12-07T12:54:42.313Z"
   },
   {
    "duration": 3,
    "start_time": "2024-12-07T12:55:06.353Z"
   },
   {
    "duration": 112,
    "start_time": "2024-12-07T12:55:09.945Z"
   },
   {
    "duration": 14790,
    "start_time": "2024-12-07T12:55:14.954Z"
   },
   {
    "duration": 5573,
    "start_time": "2024-12-07T12:55:32.889Z"
   },
   {
    "duration": 714,
    "start_time": "2024-12-07T12:55:43.144Z"
   },
   {
    "duration": 203,
    "start_time": "2024-12-07T12:56:01.705Z"
   },
   {
    "duration": 3,
    "start_time": "2024-12-07T12:56:04.638Z"
   },
   {
    "duration": 272239,
    "start_time": "2024-12-07T12:56:06.288Z"
   },
   {
    "duration": 13119,
    "start_time": "2024-12-07T13:00:44.768Z"
   },
   {
    "duration": 164,
    "start_time": "2024-12-07T13:00:59.096Z"
   },
   {
    "duration": 3,
    "start_time": "2024-12-07T13:01:02.855Z"
   },
   {
    "duration": 202555,
    "start_time": "2024-12-07T13:01:03.712Z"
   },
   {
    "duration": 9788,
    "start_time": "2024-12-07T13:04:35.527Z"
   },
   {
    "duration": 130,
    "start_time": "2024-12-07T13:04:51.370Z"
   },
   {
    "duration": 3,
    "start_time": "2024-12-07T13:04:54.936Z"
   },
   {
    "duration": 115739,
    "start_time": "2024-12-07T13:04:55.466Z"
   },
   {
    "duration": 11294,
    "start_time": "2024-12-07T13:07:31.189Z"
   },
   {
    "duration": 148,
    "start_time": "2024-12-07T13:08:04.718Z"
   },
   {
    "duration": 3,
    "start_time": "2024-12-07T13:08:14.012Z"
   },
   {
    "duration": 3,
    "start_time": "2024-12-07T13:10:59.970Z"
   },
   {
    "duration": 5,
    "start_time": "2024-12-07T13:11:13.714Z"
   },
   {
    "duration": 140,
    "start_time": "2024-12-07T13:11:16.417Z"
   },
   {
    "duration": 15,
    "start_time": "2024-12-07T13:11:37.721Z"
   },
   {
    "duration": 655,
    "start_time": "2024-12-07T13:13:47.454Z"
   },
   {
    "duration": 167,
    "start_time": "2024-12-07T13:13:49.963Z"
   },
   {
    "duration": 36,
    "start_time": "2024-12-07T13:14:11.516Z"
   },
   {
    "duration": 715,
    "start_time": "2024-12-07T13:14:25.588Z"
   }
  ],
  "kernelspec": {
   "display_name": "Python 3 (ipykernel)",
   "language": "python",
   "name": "python3"
  },
  "language_info": {
   "codemirror_mode": {
    "name": "ipython",
    "version": 3
   },
   "file_extension": ".py",
   "mimetype": "text/x-python",
   "name": "python",
   "nbconvert_exporter": "python",
   "pygments_lexer": "ipython3",
   "version": "3.11.7"
  },
  "toc": {
   "base_numbering": 1,
   "nav_menu": {},
   "number_sections": true,
   "sideBar": true,
   "skip_h1_title": true,
   "title_cell": "Table of Contents",
   "title_sidebar": "Contents",
   "toc_cell": false,
   "toc_position": {
    "height": "calc(100% - 180px)",
    "left": "10px",
    "top": "150px",
    "width": "226px"
   },
   "toc_section_display": true,
   "toc_window_display": true
  }
 },
 "nbformat": 4,
 "nbformat_minor": 2
}
