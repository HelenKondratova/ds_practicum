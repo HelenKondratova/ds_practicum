{
 "cells": [
  {
   "cell_type": "markdown",
   "metadata": {},
   "source": [
    "# Выбор локации для скважины <a id=\"title\"></a>"
   ]
  },
  {
   "cell_type": "markdown",
   "metadata": {},
   "source": [
    "**Цель исследования**:\n",
    "\n",
    "1. Построить модель для предсказания объёма запасов в новых скважинах\n",
    "2. Рассчитать достаточный объём сырья для безубыточной разработки новой скважины\n",
    "3. Посчитать риски и прибыль для каждого региона\n",
    "4. Предложить регион для разработки скважин\n",
    "\n",
    "**Ход исследования**:\n",
    "\n",
    "Основные данные получаем из файлов: ```geo_data_0.csv```, ```geo_data_1.csv```, ```geo_data_2.csv```. Они содержит данные данные геологоразведки трёх регионов.\n",
    "Структура данных во всех трех файлах одинакова:\n",
    "+ ```id``` — уникальный идентификатор скважины;\n",
    "+ ```f0```, ```f1```, ```f2``` — три признака точек;\n",
    "+ ```product``` — объём запасов в скважине (тыс. баррелей), целевой признак.\n",
    "\n",
    "Мы проверим данные на наличие пропусков и дубликатов, проверим соответствие типов данных. \n",
    "\n",
    "Затем обучим модель линейной регрессии для предсказания объема запасов в скважинах для каждого региона.\n",
    "\n",
    "После чего подготовимся к расчёту прибыли: рассчитаем достаточный объём сырья для безубыточной разработки новой скважины. Сравним полученный объём сырья со средним запасом в каждом регионе. \n",
    "\n",
    "Затем напишем функцию для расчёта прибыли по выбранным скважинам и предсказаниям модели. Применим технику Bootstrap с 1000 выборок, чтобы найти распределение прибыли. Найдем среднюю прибыль, 95%-й доверительный интервал и риск убытков. Проанализируем результаты и предложим регион для разработки скважин.\n",
    "\n",
    "Таким образом, исследование пройдет в 7 этапов:\n",
    "1. Загрузка данных\n",
    "2. Предобработка данных:  \n",
    "    + проверка имен столбцов\n",
    "    + проверка наличия пропусков\n",
    "    + проверка типов данных\n",
    "    + проверка наличия дубликатов\n",
    "3. Анализ данных:\n",
    "    + проверка наличия выбросов и аномалий\n",
    "    + проверка мультиколлинеарности\n",
    "4. Обучение моделей линейной регрессии:\n",
    "    + подготовка датасетов\n",
    "    + обучение моделей\n",
    "    + сравнение моделей\n",
    "5. Подготовка к расчету прибыли:\n",
    "    + сохранение ключевых значений для расчетов в отдельные константы\n",
    "    + расчет достаточного объема сырья для безубыточной разработки\n",
    "6. Расчет прибыли и рисков:\n",
    "    + написание функции для расчета прибыли по выбранным скважинам и предсказаниям модели\n",
    "    + применение техники bootstrap для нахождения распределения прибыли\n",
    "    + вычисление средней прибыли, 95%-го доверительного интервала и риска убытков.\n",
    "    + выбор лучшего региона для разработки\n",
    "7. Общий вывод"
   ]
  },
  {
   "cell_type": "markdown",
   "metadata": {},
   "source": [
    "## Загрузка и подготовка данных"
   ]
  },
  {
   "cell_type": "markdown",
   "metadata": {},
   "source": [
    "### Импорт библиотек и объявление констант"
   ]
  },
  {
   "cell_type": "code",
   "execution_count": 1,
   "metadata": {},
   "outputs": [],
   "source": [
    "import pandas as pd\n",
    "import numpy as np\n",
    "import matplotlib.pyplot as plt\n",
    "\n",
    "from sklearn.model_selection import train_test_split\n",
    "from sklearn.linear_model import LinearRegression\n",
    "from sklearn.metrics import mean_squared_error \n",
    "from sklearn.preprocessing import StandardScaler\n",
    "\n",
    "from phik import phik_matrix\n",
    "from phik.report import plot_correlation_matrix"
   ]
  },
  {
   "cell_type": "code",
   "execution_count": 2,
   "metadata": {},
   "outputs": [],
   "source": [
    "RANDOM_STATE = 42\n",
    "TEST_SIZE = 0.25"
   ]
  },
  {
   "cell_type": "markdown",
   "metadata": {},
   "source": [
    "### Вспомогательные функции"
   ]
  },
  {
   "cell_type": "code",
   "execution_count": 3,
   "metadata": {},
   "outputs": [],
   "source": [
    "def describe_df(df, n=5):\n",
    "    \"\"\"Описывает датафрейм df.\n",
    "    Выводит первые n строк датафрейма,\n",
    "    общую информацию о датафрейме,\n",
    "    количество пропусков и полных дубликатов.\n",
    "    \"\"\"\n",
    "    print(f'Первые {n} строк датафрейма:')\n",
    "    display(df.head(n))\n",
    "    print('_' * 40, '\\n')\n",
    "    print('Общая информация о датайрейме:')\n",
    "    df.info()\n",
    "    print('_' * 40, '\\n')\n",
    "    print('Количество пропусков:')\n",
    "    frame = ({'Количество пропусков' : df.isna().sum().sort_values(ascending=False), \n",
    "          'Доля пропусков, %' : round((df.isna().mean()*100), 2).sort_values(ascending=False)})\n",
    "    display(pd.DataFrame(frame).sort_values(by='Доля пропусков, %', ascending=False))\n",
    "    print('_' * 40, '\\n')\n",
    "    print(f'Количество явных дубликатов: {df.duplicated().sum()}')"
   ]
  },
  {
   "cell_type": "code",
   "execution_count": 4,
   "metadata": {},
   "outputs": [],
   "source": [
    "def describe_df_advanced(df):\n",
    "    \"\"\"Описывает датафрейм df.\n",
    "    Выводит описательные статистики, строит гистограммы и матрицу корреляций.\n",
    "    \"\"\"\n",
    "    display(df.describe())\n",
    "    interval_cols = df.select_dtypes(include='number').columns.tolist()\n",
    "    \n",
    "    fig, axes = plt.subplots(nrows=1, ncols=len(interval_cols), figsize=(6*len(interval_cols),6))\n",
    "    for idx,col in enumerate(interval_cols):\n",
    "        df[col].hist(ax=axes[idx], bins='sturges')\n",
    "        axes[idx].set_title('Распределение ' + col)\n",
    "        \n",
    "    phik_overview = phik_matrix(df, interval_cols=interval_cols)\n",
    "    plot_correlation_matrix(\n",
    "        phik_overview.values,\n",
    "        x_labels=phik_overview.columns,\n",
    "        y_labels=phik_overview.index,\n",
    "        vmin=0, vmax=1, color_map='Greens',\n",
    "        title=r'correlation $\\phi_K$',\n",
    "        figsize=(7, 5)\n",
    "    )"
   ]
  },
  {
   "cell_type": "markdown",
   "metadata": {},
   "source": [
    "### Загрузка данных"
   ]
  },
  {
   "cell_type": "code",
   "execution_count": 6,
   "metadata": {},
   "outputs": [],
   "source": [
    "data0 = pd.read_csv('./datasets/geo_data_0.csv')\n",
    "data1 = pd.read_csv('./datasets/geo_data_1.csv')\n",
    "data2 = pd.read_csv('./datasets/geo_data_2.csv')"
   ]
  },
  {
   "cell_type": "markdown",
   "metadata": {},
   "source": [
    "Посмотрим на датафрейм с данными о регионе 0."
   ]
  },
  {
   "cell_type": "code",
   "execution_count": 7,
   "metadata": {},
   "outputs": [
    {
     "name": "stdout",
     "output_type": "stream",
     "text": [
      "Первые 5 строк датафрейма:\n"
     ]
    },
    {
     "data": {
      "text/html": [
       "<div>\n",
       "<style scoped>\n",
       "    .dataframe tbody tr th:only-of-type {\n",
       "        vertical-align: middle;\n",
       "    }\n",
       "\n",
       "    .dataframe tbody tr th {\n",
       "        vertical-align: top;\n",
       "    }\n",
       "\n",
       "    .dataframe thead th {\n",
       "        text-align: right;\n",
       "    }\n",
       "</style>\n",
       "<table border=\"1\" class=\"dataframe\">\n",
       "  <thead>\n",
       "    <tr style=\"text-align: right;\">\n",
       "      <th></th>\n",
       "      <th>id</th>\n",
       "      <th>f0</th>\n",
       "      <th>f1</th>\n",
       "      <th>f2</th>\n",
       "      <th>product</th>\n",
       "    </tr>\n",
       "  </thead>\n",
       "  <tbody>\n",
       "    <tr>\n",
       "      <th>0</th>\n",
       "      <td>txEyH</td>\n",
       "      <td>0.705745</td>\n",
       "      <td>-0.497823</td>\n",
       "      <td>1.221170</td>\n",
       "      <td>105.280062</td>\n",
       "    </tr>\n",
       "    <tr>\n",
       "      <th>1</th>\n",
       "      <td>2acmU</td>\n",
       "      <td>1.334711</td>\n",
       "      <td>-0.340164</td>\n",
       "      <td>4.365080</td>\n",
       "      <td>73.037750</td>\n",
       "    </tr>\n",
       "    <tr>\n",
       "      <th>2</th>\n",
       "      <td>409Wp</td>\n",
       "      <td>1.022732</td>\n",
       "      <td>0.151990</td>\n",
       "      <td>1.419926</td>\n",
       "      <td>85.265647</td>\n",
       "    </tr>\n",
       "    <tr>\n",
       "      <th>3</th>\n",
       "      <td>iJLyR</td>\n",
       "      <td>-0.032172</td>\n",
       "      <td>0.139033</td>\n",
       "      <td>2.978566</td>\n",
       "      <td>168.620776</td>\n",
       "    </tr>\n",
       "    <tr>\n",
       "      <th>4</th>\n",
       "      <td>Xdl7t</td>\n",
       "      <td>1.988431</td>\n",
       "      <td>0.155413</td>\n",
       "      <td>4.751769</td>\n",
       "      <td>154.036647</td>\n",
       "    </tr>\n",
       "  </tbody>\n",
       "</table>\n",
       "</div>"
      ],
      "text/plain": [
       "      id        f0        f1        f2     product\n",
       "0  txEyH  0.705745 -0.497823  1.221170  105.280062\n",
       "1  2acmU  1.334711 -0.340164  4.365080   73.037750\n",
       "2  409Wp  1.022732  0.151990  1.419926   85.265647\n",
       "3  iJLyR -0.032172  0.139033  2.978566  168.620776\n",
       "4  Xdl7t  1.988431  0.155413  4.751769  154.036647"
      ]
     },
     "metadata": {},
     "output_type": "display_data"
    },
    {
     "name": "stdout",
     "output_type": "stream",
     "text": [
      "________________________________________ \n",
      "\n",
      "Общая информация о датайрейме:\n",
      "<class 'pandas.core.frame.DataFrame'>\n",
      "RangeIndex: 100000 entries, 0 to 99999\n",
      "Data columns (total 5 columns):\n",
      " #   Column   Non-Null Count   Dtype  \n",
      "---  ------   --------------   -----  \n",
      " 0   id       100000 non-null  object \n",
      " 1   f0       100000 non-null  float64\n",
      " 2   f1       100000 non-null  float64\n",
      " 3   f2       100000 non-null  float64\n",
      " 4   product  100000 non-null  float64\n",
      "dtypes: float64(4), object(1)\n",
      "memory usage: 3.8+ MB\n",
      "________________________________________ \n",
      "\n",
      "Количество пропусков:\n"
     ]
    },
    {
     "data": {
      "text/html": [
       "<div>\n",
       "<style scoped>\n",
       "    .dataframe tbody tr th:only-of-type {\n",
       "        vertical-align: middle;\n",
       "    }\n",
       "\n",
       "    .dataframe tbody tr th {\n",
       "        vertical-align: top;\n",
       "    }\n",
       "\n",
       "    .dataframe thead th {\n",
       "        text-align: right;\n",
       "    }\n",
       "</style>\n",
       "<table border=\"1\" class=\"dataframe\">\n",
       "  <thead>\n",
       "    <tr style=\"text-align: right;\">\n",
       "      <th></th>\n",
       "      <th>Количество пропусков</th>\n",
       "      <th>Доля пропусков, %</th>\n",
       "    </tr>\n",
       "  </thead>\n",
       "  <tbody>\n",
       "    <tr>\n",
       "      <th>id</th>\n",
       "      <td>0</td>\n",
       "      <td>0.0</td>\n",
       "    </tr>\n",
       "    <tr>\n",
       "      <th>f0</th>\n",
       "      <td>0</td>\n",
       "      <td>0.0</td>\n",
       "    </tr>\n",
       "    <tr>\n",
       "      <th>f1</th>\n",
       "      <td>0</td>\n",
       "      <td>0.0</td>\n",
       "    </tr>\n",
       "    <tr>\n",
       "      <th>f2</th>\n",
       "      <td>0</td>\n",
       "      <td>0.0</td>\n",
       "    </tr>\n",
       "    <tr>\n",
       "      <th>product</th>\n",
       "      <td>0</td>\n",
       "      <td>0.0</td>\n",
       "    </tr>\n",
       "  </tbody>\n",
       "</table>\n",
       "</div>"
      ],
      "text/plain": [
       "         Количество пропусков  Доля пропусков, %\n",
       "id                          0                0.0\n",
       "f0                          0                0.0\n",
       "f1                          0                0.0\n",
       "f2                          0                0.0\n",
       "product                     0                0.0"
      ]
     },
     "metadata": {},
     "output_type": "display_data"
    },
    {
     "name": "stdout",
     "output_type": "stream",
     "text": [
      "________________________________________ \n",
      "\n",
      "Количество явных дубликатов: 0\n"
     ]
    }
   ],
   "source": [
    "describe_df(data0)"
   ]
  },
  {
   "cell_type": "markdown",
   "metadata": {},
   "source": [
    "В датафрейме 5 столбцов и 100000 строк. 4 столбца содержат вещественные значения: ```f0```, ```f1```, ```f2```, ```product``` и один - строковые ```id```. Дубликатов и пропусков нет."
   ]
  },
  {
   "cell_type": "markdown",
   "metadata": {},
   "source": [
    "Посмотрим на датафрейм с информацией о регионе 1."
   ]
  },
  {
   "cell_type": "code",
   "execution_count": 8,
   "metadata": {},
   "outputs": [
    {
     "name": "stdout",
     "output_type": "stream",
     "text": [
      "Первые 5 строк датафрейма:\n"
     ]
    },
    {
     "data": {
      "text/html": [
       "<div>\n",
       "<style scoped>\n",
       "    .dataframe tbody tr th:only-of-type {\n",
       "        vertical-align: middle;\n",
       "    }\n",
       "\n",
       "    .dataframe tbody tr th {\n",
       "        vertical-align: top;\n",
       "    }\n",
       "\n",
       "    .dataframe thead th {\n",
       "        text-align: right;\n",
       "    }\n",
       "</style>\n",
       "<table border=\"1\" class=\"dataframe\">\n",
       "  <thead>\n",
       "    <tr style=\"text-align: right;\">\n",
       "      <th></th>\n",
       "      <th>id</th>\n",
       "      <th>f0</th>\n",
       "      <th>f1</th>\n",
       "      <th>f2</th>\n",
       "      <th>product</th>\n",
       "    </tr>\n",
       "  </thead>\n",
       "  <tbody>\n",
       "    <tr>\n",
       "      <th>0</th>\n",
       "      <td>kBEdx</td>\n",
       "      <td>-15.001348</td>\n",
       "      <td>-8.276000</td>\n",
       "      <td>-0.005876</td>\n",
       "      <td>3.179103</td>\n",
       "    </tr>\n",
       "    <tr>\n",
       "      <th>1</th>\n",
       "      <td>62mP7</td>\n",
       "      <td>14.272088</td>\n",
       "      <td>-3.475083</td>\n",
       "      <td>0.999183</td>\n",
       "      <td>26.953261</td>\n",
       "    </tr>\n",
       "    <tr>\n",
       "      <th>2</th>\n",
       "      <td>vyE1P</td>\n",
       "      <td>6.263187</td>\n",
       "      <td>-5.948386</td>\n",
       "      <td>5.001160</td>\n",
       "      <td>134.766305</td>\n",
       "    </tr>\n",
       "    <tr>\n",
       "      <th>3</th>\n",
       "      <td>KcrkZ</td>\n",
       "      <td>-13.081196</td>\n",
       "      <td>-11.506057</td>\n",
       "      <td>4.999415</td>\n",
       "      <td>137.945408</td>\n",
       "    </tr>\n",
       "    <tr>\n",
       "      <th>4</th>\n",
       "      <td>AHL4O</td>\n",
       "      <td>12.702195</td>\n",
       "      <td>-8.147433</td>\n",
       "      <td>5.004363</td>\n",
       "      <td>134.766305</td>\n",
       "    </tr>\n",
       "  </tbody>\n",
       "</table>\n",
       "</div>"
      ],
      "text/plain": [
       "      id         f0         f1        f2     product\n",
       "0  kBEdx -15.001348  -8.276000 -0.005876    3.179103\n",
       "1  62mP7  14.272088  -3.475083  0.999183   26.953261\n",
       "2  vyE1P   6.263187  -5.948386  5.001160  134.766305\n",
       "3  KcrkZ -13.081196 -11.506057  4.999415  137.945408\n",
       "4  AHL4O  12.702195  -8.147433  5.004363  134.766305"
      ]
     },
     "metadata": {},
     "output_type": "display_data"
    },
    {
     "name": "stdout",
     "output_type": "stream",
     "text": [
      "________________________________________ \n",
      "\n",
      "Общая информация о датайрейме:\n",
      "<class 'pandas.core.frame.DataFrame'>\n",
      "RangeIndex: 100000 entries, 0 to 99999\n",
      "Data columns (total 5 columns):\n",
      " #   Column   Non-Null Count   Dtype  \n",
      "---  ------   --------------   -----  \n",
      " 0   id       100000 non-null  object \n",
      " 1   f0       100000 non-null  float64\n",
      " 2   f1       100000 non-null  float64\n",
      " 3   f2       100000 non-null  float64\n",
      " 4   product  100000 non-null  float64\n",
      "dtypes: float64(4), object(1)\n",
      "memory usage: 3.8+ MB\n",
      "________________________________________ \n",
      "\n",
      "Количество пропусков:\n"
     ]
    },
    {
     "data": {
      "text/html": [
       "<div>\n",
       "<style scoped>\n",
       "    .dataframe tbody tr th:only-of-type {\n",
       "        vertical-align: middle;\n",
       "    }\n",
       "\n",
       "    .dataframe tbody tr th {\n",
       "        vertical-align: top;\n",
       "    }\n",
       "\n",
       "    .dataframe thead th {\n",
       "        text-align: right;\n",
       "    }\n",
       "</style>\n",
       "<table border=\"1\" class=\"dataframe\">\n",
       "  <thead>\n",
       "    <tr style=\"text-align: right;\">\n",
       "      <th></th>\n",
       "      <th>Количество пропусков</th>\n",
       "      <th>Доля пропусков, %</th>\n",
       "    </tr>\n",
       "  </thead>\n",
       "  <tbody>\n",
       "    <tr>\n",
       "      <th>id</th>\n",
       "      <td>0</td>\n",
       "      <td>0.0</td>\n",
       "    </tr>\n",
       "    <tr>\n",
       "      <th>f0</th>\n",
       "      <td>0</td>\n",
       "      <td>0.0</td>\n",
       "    </tr>\n",
       "    <tr>\n",
       "      <th>f1</th>\n",
       "      <td>0</td>\n",
       "      <td>0.0</td>\n",
       "    </tr>\n",
       "    <tr>\n",
       "      <th>f2</th>\n",
       "      <td>0</td>\n",
       "      <td>0.0</td>\n",
       "    </tr>\n",
       "    <tr>\n",
       "      <th>product</th>\n",
       "      <td>0</td>\n",
       "      <td>0.0</td>\n",
       "    </tr>\n",
       "  </tbody>\n",
       "</table>\n",
       "</div>"
      ],
      "text/plain": [
       "         Количество пропусков  Доля пропусков, %\n",
       "id                          0                0.0\n",
       "f0                          0                0.0\n",
       "f1                          0                0.0\n",
       "f2                          0                0.0\n",
       "product                     0                0.0"
      ]
     },
     "metadata": {},
     "output_type": "display_data"
    },
    {
     "name": "stdout",
     "output_type": "stream",
     "text": [
      "________________________________________ \n",
      "\n",
      "Количество явных дубликатов: 0\n"
     ]
    }
   ],
   "source": [
    "describe_df(data1)"
   ]
  },
  {
   "cell_type": "markdown",
   "metadata": {},
   "source": [
    "В датафрейме 5 столбцов и 100000 строк. 4 столбца содержат вещественные значения: ```f0```, ```f1```, ```f2```, ```product``` и один - строковые ```id```. Дубликатов и пропусков нет."
   ]
  },
  {
   "cell_type": "markdown",
   "metadata": {},
   "source": [
    "Посмотрим на датафрейм с информацией о регионе 2."
   ]
  },
  {
   "cell_type": "code",
   "execution_count": 9,
   "metadata": {},
   "outputs": [
    {
     "name": "stdout",
     "output_type": "stream",
     "text": [
      "Первые 5 строк датафрейма:\n"
     ]
    },
    {
     "data": {
      "text/html": [
       "<div>\n",
       "<style scoped>\n",
       "    .dataframe tbody tr th:only-of-type {\n",
       "        vertical-align: middle;\n",
       "    }\n",
       "\n",
       "    .dataframe tbody tr th {\n",
       "        vertical-align: top;\n",
       "    }\n",
       "\n",
       "    .dataframe thead th {\n",
       "        text-align: right;\n",
       "    }\n",
       "</style>\n",
       "<table border=\"1\" class=\"dataframe\">\n",
       "  <thead>\n",
       "    <tr style=\"text-align: right;\">\n",
       "      <th></th>\n",
       "      <th>id</th>\n",
       "      <th>f0</th>\n",
       "      <th>f1</th>\n",
       "      <th>f2</th>\n",
       "      <th>product</th>\n",
       "    </tr>\n",
       "  </thead>\n",
       "  <tbody>\n",
       "    <tr>\n",
       "      <th>0</th>\n",
       "      <td>fwXo0</td>\n",
       "      <td>-1.146987</td>\n",
       "      <td>0.963328</td>\n",
       "      <td>-0.828965</td>\n",
       "      <td>27.758673</td>\n",
       "    </tr>\n",
       "    <tr>\n",
       "      <th>1</th>\n",
       "      <td>WJtFt</td>\n",
       "      <td>0.262778</td>\n",
       "      <td>0.269839</td>\n",
       "      <td>-2.530187</td>\n",
       "      <td>56.069697</td>\n",
       "    </tr>\n",
       "    <tr>\n",
       "      <th>2</th>\n",
       "      <td>ovLUW</td>\n",
       "      <td>0.194587</td>\n",
       "      <td>0.289035</td>\n",
       "      <td>-5.586433</td>\n",
       "      <td>62.871910</td>\n",
       "    </tr>\n",
       "    <tr>\n",
       "      <th>3</th>\n",
       "      <td>q6cA6</td>\n",
       "      <td>2.236060</td>\n",
       "      <td>-0.553760</td>\n",
       "      <td>0.930038</td>\n",
       "      <td>114.572842</td>\n",
       "    </tr>\n",
       "    <tr>\n",
       "      <th>4</th>\n",
       "      <td>WPMUX</td>\n",
       "      <td>-0.515993</td>\n",
       "      <td>1.716266</td>\n",
       "      <td>5.899011</td>\n",
       "      <td>149.600746</td>\n",
       "    </tr>\n",
       "  </tbody>\n",
       "</table>\n",
       "</div>"
      ],
      "text/plain": [
       "      id        f0        f1        f2     product\n",
       "0  fwXo0 -1.146987  0.963328 -0.828965   27.758673\n",
       "1  WJtFt  0.262778  0.269839 -2.530187   56.069697\n",
       "2  ovLUW  0.194587  0.289035 -5.586433   62.871910\n",
       "3  q6cA6  2.236060 -0.553760  0.930038  114.572842\n",
       "4  WPMUX -0.515993  1.716266  5.899011  149.600746"
      ]
     },
     "metadata": {},
     "output_type": "display_data"
    },
    {
     "name": "stdout",
     "output_type": "stream",
     "text": [
      "________________________________________ \n",
      "\n",
      "Общая информация о датайрейме:\n",
      "<class 'pandas.core.frame.DataFrame'>\n",
      "RangeIndex: 100000 entries, 0 to 99999\n",
      "Data columns (total 5 columns):\n",
      " #   Column   Non-Null Count   Dtype  \n",
      "---  ------   --------------   -----  \n",
      " 0   id       100000 non-null  object \n",
      " 1   f0       100000 non-null  float64\n",
      " 2   f1       100000 non-null  float64\n",
      " 3   f2       100000 non-null  float64\n",
      " 4   product  100000 non-null  float64\n",
      "dtypes: float64(4), object(1)\n",
      "memory usage: 3.8+ MB\n",
      "________________________________________ \n",
      "\n",
      "Количество пропусков:\n"
     ]
    },
    {
     "data": {
      "text/html": [
       "<div>\n",
       "<style scoped>\n",
       "    .dataframe tbody tr th:only-of-type {\n",
       "        vertical-align: middle;\n",
       "    }\n",
       "\n",
       "    .dataframe tbody tr th {\n",
       "        vertical-align: top;\n",
       "    }\n",
       "\n",
       "    .dataframe thead th {\n",
       "        text-align: right;\n",
       "    }\n",
       "</style>\n",
       "<table border=\"1\" class=\"dataframe\">\n",
       "  <thead>\n",
       "    <tr style=\"text-align: right;\">\n",
       "      <th></th>\n",
       "      <th>Количество пропусков</th>\n",
       "      <th>Доля пропусков, %</th>\n",
       "    </tr>\n",
       "  </thead>\n",
       "  <tbody>\n",
       "    <tr>\n",
       "      <th>id</th>\n",
       "      <td>0</td>\n",
       "      <td>0.0</td>\n",
       "    </tr>\n",
       "    <tr>\n",
       "      <th>f0</th>\n",
       "      <td>0</td>\n",
       "      <td>0.0</td>\n",
       "    </tr>\n",
       "    <tr>\n",
       "      <th>f1</th>\n",
       "      <td>0</td>\n",
       "      <td>0.0</td>\n",
       "    </tr>\n",
       "    <tr>\n",
       "      <th>f2</th>\n",
       "      <td>0</td>\n",
       "      <td>0.0</td>\n",
       "    </tr>\n",
       "    <tr>\n",
       "      <th>product</th>\n",
       "      <td>0</td>\n",
       "      <td>0.0</td>\n",
       "    </tr>\n",
       "  </tbody>\n",
       "</table>\n",
       "</div>"
      ],
      "text/plain": [
       "         Количество пропусков  Доля пропусков, %\n",
       "id                          0                0.0\n",
       "f0                          0                0.0\n",
       "f1                          0                0.0\n",
       "f2                          0                0.0\n",
       "product                     0                0.0"
      ]
     },
     "metadata": {},
     "output_type": "display_data"
    },
    {
     "name": "stdout",
     "output_type": "stream",
     "text": [
      "________________________________________ \n",
      "\n",
      "Количество явных дубликатов: 0\n"
     ]
    }
   ],
   "source": [
    "describe_df(data2)"
   ]
  },
  {
   "cell_type": "markdown",
   "metadata": {},
   "source": [
    "В датафрейме 5 столбцов и 100000 строк. 4 столбца содержат вещественные значения: ```f0```, ```f1```, ```f2```, ```product``` и один - строковые ```id```.\n",
    "Дубликатов и пропусков нет."
   ]
  },
  {
   "cell_type": "markdown",
   "metadata": {},
   "source": [
    "Все три датафрейма содержат 100000 строк, без дубликатов и пропусков. Типы данных в датафреймах соответствуют заявленным."
   ]
  },
  {
   "cell_type": "markdown",
   "metadata": {},
   "source": [
    "### Анализ данных"
   ]
  },
  {
   "cell_type": "markdown",
   "metadata": {},
   "source": [
    "Удалим из датафреймов столбец с id, т.к. для обучения он нам не понадобится."
   ]
  },
  {
   "cell_type": "code",
   "execution_count": 10,
   "metadata": {},
   "outputs": [],
   "source": [
    "for df in [data0, data1, data2]:\n",
    "    df.drop('id', axis=1, inplace=True)"
   ]
  },
  {
   "cell_type": "markdown",
   "metadata": {},
   "source": [
    "Посмотрим подробнее на значения данных в столбцах."
   ]
  },
  {
   "cell_type": "code",
   "execution_count": 11,
   "metadata": {},
   "outputs": [
    {
     "data": {
      "text/html": [
       "<div>\n",
       "<style scoped>\n",
       "    .dataframe tbody tr th:only-of-type {\n",
       "        vertical-align: middle;\n",
       "    }\n",
       "\n",
       "    .dataframe tbody tr th {\n",
       "        vertical-align: top;\n",
       "    }\n",
       "\n",
       "    .dataframe thead th {\n",
       "        text-align: right;\n",
       "    }\n",
       "</style>\n",
       "<table border=\"1\" class=\"dataframe\">\n",
       "  <thead>\n",
       "    <tr style=\"text-align: right;\">\n",
       "      <th></th>\n",
       "      <th>f0</th>\n",
       "      <th>f1</th>\n",
       "      <th>f2</th>\n",
       "      <th>product</th>\n",
       "    </tr>\n",
       "  </thead>\n",
       "  <tbody>\n",
       "    <tr>\n",
       "      <th>count</th>\n",
       "      <td>100000.000000</td>\n",
       "      <td>100000.000000</td>\n",
       "      <td>100000.000000</td>\n",
       "      <td>100000.000000</td>\n",
       "    </tr>\n",
       "    <tr>\n",
       "      <th>mean</th>\n",
       "      <td>0.500419</td>\n",
       "      <td>0.250143</td>\n",
       "      <td>2.502647</td>\n",
       "      <td>92.500000</td>\n",
       "    </tr>\n",
       "    <tr>\n",
       "      <th>std</th>\n",
       "      <td>0.871832</td>\n",
       "      <td>0.504433</td>\n",
       "      <td>3.248248</td>\n",
       "      <td>44.288691</td>\n",
       "    </tr>\n",
       "    <tr>\n",
       "      <th>min</th>\n",
       "      <td>-1.408605</td>\n",
       "      <td>-0.848218</td>\n",
       "      <td>-12.088328</td>\n",
       "      <td>0.000000</td>\n",
       "    </tr>\n",
       "    <tr>\n",
       "      <th>25%</th>\n",
       "      <td>-0.072580</td>\n",
       "      <td>-0.200881</td>\n",
       "      <td>0.287748</td>\n",
       "      <td>56.497507</td>\n",
       "    </tr>\n",
       "    <tr>\n",
       "      <th>50%</th>\n",
       "      <td>0.502360</td>\n",
       "      <td>0.250252</td>\n",
       "      <td>2.515969</td>\n",
       "      <td>91.849972</td>\n",
       "    </tr>\n",
       "    <tr>\n",
       "      <th>75%</th>\n",
       "      <td>1.073581</td>\n",
       "      <td>0.700646</td>\n",
       "      <td>4.715088</td>\n",
       "      <td>128.564089</td>\n",
       "    </tr>\n",
       "    <tr>\n",
       "      <th>max</th>\n",
       "      <td>2.362331</td>\n",
       "      <td>1.343769</td>\n",
       "      <td>16.003790</td>\n",
       "      <td>185.364347</td>\n",
       "    </tr>\n",
       "  </tbody>\n",
       "</table>\n",
       "</div>"
      ],
      "text/plain": [
       "                  f0             f1             f2        product\n",
       "count  100000.000000  100000.000000  100000.000000  100000.000000\n",
       "mean        0.500419       0.250143       2.502647      92.500000\n",
       "std         0.871832       0.504433       3.248248      44.288691\n",
       "min        -1.408605      -0.848218     -12.088328       0.000000\n",
       "25%        -0.072580      -0.200881       0.287748      56.497507\n",
       "50%         0.502360       0.250252       2.515969      91.849972\n",
       "75%         1.073581       0.700646       4.715088     128.564089\n",
       "max         2.362331       1.343769      16.003790     185.364347"
      ]
     },
     "metadata": {},
     "output_type": "display_data"
    },
    {
     "data": {
      "image/png": "[encoded data removed]",
      "text/plain": [
       "<Figure size 2400x600 with 4 Axes>"
      ]
     },
     "metadata": {},
     "output_type": "display_data"
    },
    {
     "data": {
      "image/png": "[encoded data removed]",
      "text/plain": [
       "<Figure size 700x500 with 2 Axes>"
      ]
     },
     "metadata": {},
     "output_type": "display_data"
    }
   ],
   "source": [
    "describe_df_advanced(data0)"
   ]
  },
  {
   "cell_type": "markdown",
   "metadata": {},
   "source": [
    "Входные признаки вещественные, выбросов не обнаружено. Диапазон значений признака ```f2``` заметно отличается от двух других, поэтому перед обучением отмасштабируем признаки.\n",
    "\n",
    "Мультиколлинеарность входных признаков не наблюдается."
   ]
  },
  {
   "cell_type": "code",
   "execution_count": 12,
   "metadata": {},
   "outputs": [
    {
     "data": {
      "text/html": [
       "<div>\n",
       "<style scoped>\n",
       "    .dataframe tbody tr th:only-of-type {\n",
       "        vertical-align: middle;\n",
       "    }\n",
       "\n",
       "    .dataframe tbody tr th {\n",
       "        vertical-align: top;\n",
       "    }\n",
       "\n",
       "    .dataframe thead th {\n",
       "        text-align: right;\n",
       "    }\n",
       "</style>\n",
       "<table border=\"1\" class=\"dataframe\">\n",
       "  <thead>\n",
       "    <tr style=\"text-align: right;\">\n",
       "      <th></th>\n",
       "      <th>f0</th>\n",
       "      <th>f1</th>\n",
       "      <th>f2</th>\n",
       "      <th>product</th>\n",
       "    </tr>\n",
       "  </thead>\n",
       "  <tbody>\n",
       "    <tr>\n",
       "      <th>count</th>\n",
       "      <td>100000.000000</td>\n",
       "      <td>100000.000000</td>\n",
       "      <td>100000.000000</td>\n",
       "      <td>100000.000000</td>\n",
       "    </tr>\n",
       "    <tr>\n",
       "      <th>mean</th>\n",
       "      <td>1.141296</td>\n",
       "      <td>-4.796579</td>\n",
       "      <td>2.494541</td>\n",
       "      <td>68.825000</td>\n",
       "    </tr>\n",
       "    <tr>\n",
       "      <th>std</th>\n",
       "      <td>8.965932</td>\n",
       "      <td>5.119872</td>\n",
       "      <td>1.703572</td>\n",
       "      <td>45.944423</td>\n",
       "    </tr>\n",
       "    <tr>\n",
       "      <th>min</th>\n",
       "      <td>-31.609576</td>\n",
       "      <td>-26.358598</td>\n",
       "      <td>-0.018144</td>\n",
       "      <td>0.000000</td>\n",
       "    </tr>\n",
       "    <tr>\n",
       "      <th>25%</th>\n",
       "      <td>-6.298551</td>\n",
       "      <td>-8.267985</td>\n",
       "      <td>1.000021</td>\n",
       "      <td>26.953261</td>\n",
       "    </tr>\n",
       "    <tr>\n",
       "      <th>50%</th>\n",
       "      <td>1.153055</td>\n",
       "      <td>-4.813172</td>\n",
       "      <td>2.011479</td>\n",
       "      <td>57.085625</td>\n",
       "    </tr>\n",
       "    <tr>\n",
       "      <th>75%</th>\n",
       "      <td>8.621015</td>\n",
       "      <td>-1.332816</td>\n",
       "      <td>3.999904</td>\n",
       "      <td>107.813044</td>\n",
       "    </tr>\n",
       "    <tr>\n",
       "      <th>max</th>\n",
       "      <td>29.421755</td>\n",
       "      <td>18.734063</td>\n",
       "      <td>5.019721</td>\n",
       "      <td>137.945408</td>\n",
       "    </tr>\n",
       "  </tbody>\n",
       "</table>\n",
       "</div>"
      ],
      "text/plain": [
       "                  f0             f1             f2        product\n",
       "count  100000.000000  100000.000000  100000.000000  100000.000000\n",
       "mean        1.141296      -4.796579       2.494541      68.825000\n",
       "std         8.965932       5.119872       1.703572      45.944423\n",
       "min       -31.609576     -26.358598      -0.018144       0.000000\n",
       "25%        -6.298551      -8.267985       1.000021      26.953261\n",
       "50%         1.153055      -4.813172       2.011479      57.085625\n",
       "75%         8.621015      -1.332816       3.999904     107.813044\n",
       "max        29.421755      18.734063       5.019721     137.945408"
      ]
     },
     "metadata": {},
     "output_type": "display_data"
    },
    {
     "data": {
      "image/png": "[encoded data removed]",
      "text/plain": [
       "<Figure size 2400x600 with 4 Axes>"
      ]
     },
     "metadata": {},
     "output_type": "display_data"
    },
    {
     "data": {
      "image/png": "[encoded data removed]",
      "text/plain": [
       "<Figure size 700x500 with 2 Axes>"
      ]
     },
     "metadata": {},
     "output_type": "display_data"
    }
   ],
   "source": [
    "describe_df_advanced(data1)"
   ]
  },
  {
   "cell_type": "markdown",
   "metadata": {},
   "source": [
    "Входные признаки вещественные, диапазон значений признака ```f2``` заметно отличается от двух других, поэтому перед обучением отмасштабируем признаки.\n",
    "\n",
    "Мультиколлинеарность входных признаков не наблюдается. Наблюдается очень сильная связь целевого признака с признаком ```f2``` (коэффициент 0.98)."
   ]
  },
  {
   "cell_type": "code",
   "execution_count": 13,
   "metadata": {},
   "outputs": [
    {
     "data": {
      "text/plain": [
       "f2\n",
       "-0.005876    1\n",
       " 4.007133    1\n",
       " 3.002704    1\n",
       " 1.995378    1\n",
       " 1.004327    1\n",
       "            ..\n",
       " 3.009891    1\n",
       " 2.000013    1\n",
       " 0.017600    1\n",
       " 4.007500    1\n",
       "-0.003299    1\n",
       "Name: count, Length: 100000, dtype: int64"
      ]
     },
     "execution_count": 13,
     "metadata": {},
     "output_type": "execute_result"
    }
   ],
   "source": [
    "data1['f2'].value_counts()"
   ]
  },
  {
   "cell_type": "markdown",
   "metadata": {},
   "source": [
    "По гистограмме признак ```f2``` похож на дискретный, но на самом деле все значения уникальны, просто они скапливаются вокруг 6 целочисленных значений."
   ]
  },
  {
   "cell_type": "code",
   "execution_count": 14,
   "metadata": {},
   "outputs": [
    {
     "data": {
      "text/plain": [
       "product\n",
       "53.906522     8472\n",
       "26.953261     8468\n",
       "84.038886     8431\n",
       "57.085625     8390\n",
       "3.179103      8337\n",
       "80.859783     8320\n",
       "30.132364     8306\n",
       "134.766305    8304\n",
       "110.992147    8303\n",
       "0.000000      8235\n",
       "137.945408    8233\n",
       "107.813044    8201\n",
       "Name: count, dtype: int64"
      ]
     },
     "execution_count": 14,
     "metadata": {},
     "output_type": "execute_result"
    }
   ],
   "source": [
    "data1['product'].value_counts()"
   ]
  },
  {
   "cell_type": "markdown",
   "metadata": {},
   "source": [
    "А вот целевой признак принимает всего несколько значений, каждого из которых в таблице примерно одинаковое количество."
   ]
  },
  {
   "cell_type": "code",
   "execution_count": 15,
   "metadata": {},
   "outputs": [
    {
     "data": {
      "text/html": [
       "<div>\n",
       "<style scoped>\n",
       "    .dataframe tbody tr th:only-of-type {\n",
       "        vertical-align: middle;\n",
       "    }\n",
       "\n",
       "    .dataframe tbody tr th {\n",
       "        vertical-align: top;\n",
       "    }\n",
       "\n",
       "    .dataframe thead th {\n",
       "        text-align: right;\n",
       "    }\n",
       "</style>\n",
       "<table border=\"1\" class=\"dataframe\">\n",
       "  <thead>\n",
       "    <tr style=\"text-align: right;\">\n",
       "      <th></th>\n",
       "      <th>f0</th>\n",
       "      <th>f1</th>\n",
       "      <th>f2</th>\n",
       "      <th>product</th>\n",
       "    </tr>\n",
       "  </thead>\n",
       "  <tbody>\n",
       "    <tr>\n",
       "      <th>count</th>\n",
       "      <td>100000.000000</td>\n",
       "      <td>100000.000000</td>\n",
       "      <td>100000.000000</td>\n",
       "      <td>100000.000000</td>\n",
       "    </tr>\n",
       "    <tr>\n",
       "      <th>mean</th>\n",
       "      <td>0.002023</td>\n",
       "      <td>-0.002081</td>\n",
       "      <td>2.495128</td>\n",
       "      <td>95.000000</td>\n",
       "    </tr>\n",
       "    <tr>\n",
       "      <th>std</th>\n",
       "      <td>1.732045</td>\n",
       "      <td>1.730417</td>\n",
       "      <td>3.473445</td>\n",
       "      <td>44.749921</td>\n",
       "    </tr>\n",
       "    <tr>\n",
       "      <th>min</th>\n",
       "      <td>-8.760004</td>\n",
       "      <td>-7.084020</td>\n",
       "      <td>-11.970335</td>\n",
       "      <td>0.000000</td>\n",
       "    </tr>\n",
       "    <tr>\n",
       "      <th>25%</th>\n",
       "      <td>-1.162288</td>\n",
       "      <td>-1.174820</td>\n",
       "      <td>0.130359</td>\n",
       "      <td>59.450441</td>\n",
       "    </tr>\n",
       "    <tr>\n",
       "      <th>50%</th>\n",
       "      <td>0.009424</td>\n",
       "      <td>-0.009482</td>\n",
       "      <td>2.484236</td>\n",
       "      <td>94.925613</td>\n",
       "    </tr>\n",
       "    <tr>\n",
       "      <th>75%</th>\n",
       "      <td>1.158535</td>\n",
       "      <td>1.163678</td>\n",
       "      <td>4.858794</td>\n",
       "      <td>130.595027</td>\n",
       "    </tr>\n",
       "    <tr>\n",
       "      <th>max</th>\n",
       "      <td>7.238262</td>\n",
       "      <td>7.844801</td>\n",
       "      <td>16.739402</td>\n",
       "      <td>190.029838</td>\n",
       "    </tr>\n",
       "  </tbody>\n",
       "</table>\n",
       "</div>"
      ],
      "text/plain": [
       "                  f0             f1             f2        product\n",
       "count  100000.000000  100000.000000  100000.000000  100000.000000\n",
       "mean        0.002023      -0.002081       2.495128      95.000000\n",
       "std         1.732045       1.730417       3.473445      44.749921\n",
       "min        -8.760004      -7.084020     -11.970335       0.000000\n",
       "25%        -1.162288      -1.174820       0.130359      59.450441\n",
       "50%         0.009424      -0.009482       2.484236      94.925613\n",
       "75%         1.158535       1.163678       4.858794     130.595027\n",
       "max         7.238262       7.844801      16.739402     190.029838"
      ]
     },
     "metadata": {},
     "output_type": "display_data"
    },
    {
     "data": {
      "image/png": "[encoded data removed]",
      "text/plain": [
       "<Figure size 2400x600 with 4 Axes>"
      ]
     },
     "metadata": {},
     "output_type": "display_data"
    },
    {
     "data": {
      "image/png": "[encoded data removed]",
      "text/plain": [
       "<Figure size 700x500 with 2 Axes>"
      ]
     },
     "metadata": {},
     "output_type": "display_data"
    }
   ],
   "source": [
    "describe_df_advanced(data2)"
   ]
  },
  {
   "cell_type": "markdown",
   "metadata": {},
   "source": [
    "Входные признаки вещественные, выбросов не обнаружено. диапазон значений признака ```f2``` заметно отличается от двух других, поэтому перед обучением отмасштабируем признаки.\n",
    "\n",
    "Мультиколлинеарность входных признаков не наблюдается."
   ]
  },
  {
   "cell_type": "markdown",
   "metadata": {},
   "source": [
    "### Загрузка и подготовка данных - итог"
   ]
  },
  {
   "cell_type": "markdown",
   "metadata": {},
   "source": [
    "1. Загрузили данные о скважинах в трех регионах.\n",
    "2. Каждый датафрейм содержит 5 столбцов и 100000 строк. 4 столбца содержат вещественные значения: ```f0```, ```f1```, ```f2```, ```product``` и один - строковые ```id```. Проверили данные на соответствие требованиям - все заявленные столбцы присутствуют, типы соответствуют описанным в требованиях. Пропусков и дубликатов не обнаружено.\n",
    "3. Столбец ```id``` удалили, т.к. для обучения он не требуется.\n",
    "4. Вещественные входные признаки будем масштабировать.\n",
    "5. Проверили данные на мультиколлинеарность - мультиколлинеарность входных признаков не наблюдается."
   ]
  },
  {
   "cell_type": "markdown",
   "metadata": {},
   "source": [
    "## Обучение и проверка модели"
   ]
  },
  {
   "cell_type": "markdown",
   "metadata": {},
   "source": [
    "### Вспомогательные функции"
   ]
  },
  {
   "cell_type": "code",
   "execution_count": 16,
   "metadata": {},
   "outputs": [],
   "source": [
    "def prepare_dataset(df, target, test_size=0.25):\n",
    "    \"\"\" Подготавливает выборки из датафрейма df.\n",
    "    Выделяет целевой признак target.\n",
    "    Разбивает данные на train/valid с test_size=test_size.\n",
    "    Масштабирует количественные признаки.\n",
    "    Возвращает X_train, X_valid, y_train, y_valid.\n",
    "    \"\"\"\n",
    "    y = df[target]\n",
    "    X = df.drop(target, axis=1)\n",
    "    X_train, X_valid, y_train, y_valid = train_test_split(\n",
    "        X, \n",
    "        y, \n",
    "        random_state=RANDOM_STATE, \n",
    "        test_size=test_size\n",
    "    )\n",
    "    \n",
    "    num_col_names = X_train.select_dtypes(include='number').columns.tolist()\n",
    "    scaler = StandardScaler()\n",
    "    X_train[num_col_names] = scaler.fit_transform(X_train[num_col_names])\n",
    "    X_valid[num_col_names] = scaler.transform(X_valid[num_col_names])\n",
    "    \n",
    "    return X_train, X_valid, y_train, y_valid"
   ]
  },
  {
   "cell_type": "code",
   "execution_count": 17,
   "metadata": {},
   "outputs": [],
   "source": [
    "def check_shape(data, X_train, X_valid, y_train, y_valid):\n",
    "    \"\"\" Проверяет размерности выборок, полученных разбиением\n",
    "    данных из датафрейма data на train и valid.\n",
    "    Возвращает True, если с размерностями всё ОК, и False, если не ОК.\n",
    "    \"\"\"\n",
    "    print(f'Исходные данные: {data.shape},\\n\\tX_train: {X_train.shape}, X_valid: {X_valid.shape}\\\n",
    "    \\n\\ty_train: {y_train.shape}, y_valid: {y_valid.shape}')\n",
    "    print(f'Всего строк: {data.shape[0]}, Строк Train + Valid: {X_train.shape[0] + X_valid.shape[0]}')\n",
    "    if data.shape[0] == X_train.shape[0] + X_valid.shape[0]:\n",
    "        print('Общее количество строк совпадает')\n",
    "    else:\n",
    "        print('Количество строк в Train + valid не совпадает с исходным')\n",
    "        return False\n",
    "    print(f'Строк Train: {X_train.shape[0]} (X), {y_train.shape[0]} (y)')\n",
    "    if X_train.shape[0] == y_train.shape[0]:\n",
    "        print('Количество строк во входных признаках и целевом в Train совпадает')\n",
    "    else:\n",
    "        print('Количество строк во входных признаках и целевом в Train не совпадает')\n",
    "        return False\n",
    "    print(f'Строк Valid: {X_valid.shape[0]} (X), {y_valid.shape[0]} (y)')\n",
    "    if X_valid.shape[0] == y_valid.shape[0]:\n",
    "        print('Количество строк во входных признаках и целевом в Valid совпадает')\n",
    "    else:\n",
    "        print('Количество строк во входных признаках и целевом в Valid не совпадает')\n",
    "        return False\n",
    "    return True"
   ]
  },
  {
   "cell_type": "markdown",
   "metadata": {},
   "source": [
    "### Разбиение данных"
   ]
  },
  {
   "cell_type": "markdown",
   "metadata": {},
   "source": [
    "Произведем разбиение данных на обучающую и валидационную выборки (в соотношении 75:25), используя написанную нами вспомогательную функцию. Функция также произведет масштабирование признаков.\n"
   ]
  },
  {
   "cell_type": "code",
   "execution_count": 18,
   "metadata": {},
   "outputs": [],
   "source": [
    "X_train_0, X_valid_0, y_train_0, y_valid_0 = prepare_dataset(data0, 'product', TEST_SIZE)"
   ]
  },
  {
   "cell_type": "code",
   "execution_count": 19,
   "metadata": {},
   "outputs": [],
   "source": [
    "X_train_1, X_valid_1, y_train_1, y_valid_1 = prepare_dataset(data1, 'product', TEST_SIZE)"
   ]
  },
  {
   "cell_type": "code",
   "execution_count": 20,
   "metadata": {},
   "outputs": [],
   "source": [
    "X_train_2, X_valid_2, y_train_2, y_valid_2 = prepare_dataset(data2, 'product', TEST_SIZE)"
   ]
  },
  {
   "cell_type": "markdown",
   "metadata": {},
   "source": [
    "Проверим размерности получившихся выборок.\n"
   ]
  },
  {
   "cell_type": "code",
   "execution_count": 21,
   "metadata": {},
   "outputs": [
    {
     "name": "stdout",
     "output_type": "stream",
     "text": [
      "Исходные данные: (100000, 4),\n",
      "\tX_train: (75000, 3), X_valid: (25000, 3)    \n",
      "\ty_train: (75000,), y_valid: (25000,)\n",
      "Всего строк: 100000, Строк Train + Valid: 100000\n",
      "Общее количество строк совпадает\n",
      "Строк Train: 75000 (X), 75000 (y)\n",
      "Количество строк во входных признаках и целевом в Train совпадает\n",
      "Строк Valid: 25000 (X), 25000 (y)\n",
      "Количество строк во входных признаках и целевом в Valid совпадает\n"
     ]
    },
    {
     "data": {
      "text/plain": [
       "True"
      ]
     },
     "execution_count": 21,
     "metadata": {},
     "output_type": "execute_result"
    }
   ],
   "source": [
    "check_shape(data0, X_train_0, X_valid_0, y_train_0, y_valid_0)"
   ]
  },
  {
   "cell_type": "code",
   "execution_count": 22,
   "metadata": {},
   "outputs": [
    {
     "name": "stdout",
     "output_type": "stream",
     "text": [
      "Исходные данные: (100000, 4),\n",
      "\tX_train: (75000, 3), X_valid: (25000, 3)    \n",
      "\ty_train: (75000,), y_valid: (25000,)\n",
      "Всего строк: 100000, Строк Train + Valid: 100000\n",
      "Общее количество строк совпадает\n",
      "Строк Train: 75000 (X), 75000 (y)\n",
      "Количество строк во входных признаках и целевом в Train совпадает\n",
      "Строк Valid: 25000 (X), 25000 (y)\n",
      "Количество строк во входных признаках и целевом в Valid совпадает\n"
     ]
    },
    {
     "data": {
      "text/plain": [
       "True"
      ]
     },
     "execution_count": 22,
     "metadata": {},
     "output_type": "execute_result"
    }
   ],
   "source": [
    "check_shape(data1, X_train_1, X_valid_1, y_train_1, y_valid_1)"
   ]
  },
  {
   "cell_type": "code",
   "execution_count": 23,
   "metadata": {},
   "outputs": [
    {
     "name": "stdout",
     "output_type": "stream",
     "text": [
      "Исходные данные: (100000, 4),\n",
      "\tX_train: (75000, 3), X_valid: (25000, 3)    \n",
      "\ty_train: (75000,), y_valid: (25000,)\n",
      "Всего строк: 100000, Строк Train + Valid: 100000\n",
      "Общее количество строк совпадает\n",
      "Строк Train: 75000 (X), 75000 (y)\n",
      "Количество строк во входных признаках и целевом в Train совпадает\n",
      "Строк Valid: 25000 (X), 25000 (y)\n",
      "Количество строк во входных признаках и целевом в Valid совпадает\n"
     ]
    },
    {
     "data": {
      "text/plain": [
       "True"
      ]
     },
     "execution_count": 23,
     "metadata": {},
     "output_type": "execute_result"
    }
   ],
   "source": [
    "check_shape(data2, X_train_2, X_valid_2, y_train_2, y_valid_2)"
   ]
  },
  {
   "cell_type": "markdown",
   "metadata": {},
   "source": [
    "С размерностями всё ОК."
   ]
  },
  {
   "cell_type": "markdown",
   "metadata": {},
   "source": [
    "### Обучение моделей"
   ]
  },
  {
   "cell_type": "markdown",
   "metadata": {},
   "source": [
    "Обучим модели линейной регрессии на данных по каждому региону."
   ]
  },
  {
   "cell_type": "markdown",
   "metadata": {},
   "source": [
    "Обучим модель для нулевого региона."
   ]
  },
  {
   "cell_type": "code",
   "execution_count": 24,
   "metadata": {},
   "outputs": [
    {
     "data": {
      "text/html": [
       "<style>#sk-container-id-1 {color: black;background-color: white;}#sk-container-id-1 pre{padding: 0;}#sk-container-id-1 div.sk-toggleable {background-color: white;}#sk-container-id-1 label.sk-toggleable__label {cursor: pointer;display: block;width: 100%;margin-bottom: 0;padding: 0.3em;box-sizing: border-box;text-align: center;}#sk-container-id-1 label.sk-toggleable__label-arrow:before {content: \"▸\";float: left;margin-right: 0.25em;color: #696969;}#sk-container-id-1 label.sk-toggleable__label-arrow:hover:before {color: black;}#sk-container-id-1 div.sk-estimator:hover label.sk-toggleable__label-arrow:before {color: black;}#sk-container-id-1 div.sk-toggleable__content {max-height: 0;max-width: 0;overflow: hidden;text-align: left;background-color: #f0f8ff;}#sk-container-id-1 div.sk-toggleable__content pre {margin: 0.2em;color: black;border-radius: 0.25em;background-color: #f0f8ff;}#sk-container-id-1 input.sk-toggleable__control:checked~div.sk-toggleable__content {max-height: 200px;max-width: 100%;overflow: auto;}#sk-container-id-1 input.sk-toggleable__control:checked~label.sk-toggleable__label-arrow:before {content: \"▾\";}#sk-container-id-1 div.sk-estimator input.sk-toggleable__control:checked~label.sk-toggleable__label {background-color: #d4ebff;}#sk-container-id-1 div.sk-label input.sk-toggleable__control:checked~label.sk-toggleable__label {background-color: #d4ebff;}#sk-container-id-1 input.sk-hidden--visually {border: 0;clip: rect(1px 1px 1px 1px);clip: rect(1px, 1px, 1px, 1px);height: 1px;margin: -1px;overflow: hidden;padding: 0;position: absolute;width: 1px;}#sk-container-id-1 div.sk-estimator {font-family: monospace;background-color: #f0f8ff;border: 1px dotted black;border-radius: 0.25em;box-sizing: border-box;margin-bottom: 0.5em;}#sk-container-id-1 div.sk-estimator:hover {background-color: #d4ebff;}#sk-container-id-1 div.sk-parallel-item::after {content: \"\";width: 100%;border-bottom: 1px solid gray;flex-grow: 1;}#sk-container-id-1 div.sk-label:hover label.sk-toggleable__label {background-color: #d4ebff;}#sk-container-id-1 div.sk-serial::before {content: \"\";position: absolute;border-left: 1px solid gray;box-sizing: border-box;top: 0;bottom: 0;left: 50%;z-index: 0;}#sk-container-id-1 div.sk-serial {display: flex;flex-direction: column;align-items: center;background-color: white;padding-right: 0.2em;padding-left: 0.2em;position: relative;}#sk-container-id-1 div.sk-item {position: relative;z-index: 1;}#sk-container-id-1 div.sk-parallel {display: flex;align-items: stretch;justify-content: center;background-color: white;position: relative;}#sk-container-id-1 div.sk-item::before, #sk-container-id-1 div.sk-parallel-item::before {content: \"\";position: absolute;border-left: 1px solid gray;box-sizing: border-box;top: 0;bottom: 0;left: 50%;z-index: -1;}#sk-container-id-1 div.sk-parallel-item {display: flex;flex-direction: column;z-index: 1;position: relative;background-color: white;}#sk-container-id-1 div.sk-parallel-item:first-child::after {align-self: flex-end;width: 50%;}#sk-container-id-1 div.sk-parallel-item:last-child::after {align-self: flex-start;width: 50%;}#sk-container-id-1 div.sk-parallel-item:only-child::after {width: 0;}#sk-container-id-1 div.sk-dashed-wrapped {border: 1px dashed gray;margin: 0 0.4em 0.5em 0.4em;box-sizing: border-box;padding-bottom: 0.4em;background-color: white;}#sk-container-id-1 div.sk-label label {font-family: monospace;font-weight: bold;display: inline-block;line-height: 1.2em;}#sk-container-id-1 div.sk-label-container {text-align: center;}#sk-container-id-1 div.sk-container {/* jupyter's `normalize.less` sets `[hidden] { display: none; }` but bootstrap.min.css set `[hidden] { display: none !important; }` so we also need the `!important` here to be able to override the default hidden behavior on the sphinx rendered scikit-learn.org. See: https://github.com/scikit-learn/scikit-learn/issues/21755 */display: inline-block !important;position: relative;}#sk-container-id-1 div.sk-text-repr-fallback {display: none;}</style><div id=\"sk-container-id-1\" class=\"sk-top-container\"><div class=\"sk-text-repr-fallback\"><pre>LinearRegression()</pre><b>In a Jupyter environment, please rerun this cell to show the HTML representation or trust the notebook. <br />On GitHub, the HTML representation is unable to render, please try loading this page with nbviewer.org.</b></div><div class=\"sk-container\" hidden><div class=\"sk-item\"><div class=\"sk-estimator sk-toggleable\"><input class=\"sk-toggleable__control sk-hidden--visually\" id=\"sk-estimator-id-1\" type=\"checkbox\" checked><label for=\"sk-estimator-id-1\" class=\"sk-toggleable__label sk-toggleable__label-arrow\">LinearRegression</label><div class=\"sk-toggleable__content\"><pre>LinearRegression()</pre></div></div></div></div></div>"
      ],
      "text/plain": [
       "LinearRegression()"
      ]
     },
     "execution_count": 24,
     "metadata": {},
     "output_type": "execute_result"
    }
   ],
   "source": [
    "lr0 = LinearRegression()\n",
    "lr0.fit(X_train_0, y_train_0)"
   ]
  },
  {
   "cell_type": "markdown",
   "metadata": {},
   "source": [
    "Сохраним предсказанные объемы запасов сырья, средний объем запасов сырья и RMSE на валидационной выборке.\n"
   ]
  },
  {
   "cell_type": "code",
   "execution_count": 25,
   "metadata": {},
   "outputs": [],
   "source": [
    "y_pred_0 = lr0.predict(X_valid_0)\n",
    "rmse0 = mean_squared_error(y_valid_0, y_pred_0, squared=False)\n",
    "mean0 = y_pred_0.mean()"
   ]
  },
  {
   "cell_type": "markdown",
   "metadata": {},
   "source": [
    "Обучим модель для первого региона."
   ]
  },
  {
   "cell_type": "code",
   "execution_count": 26,
   "metadata": {},
   "outputs": [
    {
     "data": {
      "text/html": [
       "<style>#sk-container-id-2 {color: black;background-color: white;}#sk-container-id-2 pre{padding: 0;}#sk-container-id-2 div.sk-toggleable {background-color: white;}#sk-container-id-2 label.sk-toggleable__label {cursor: pointer;display: block;width: 100%;margin-bottom: 0;padding: 0.3em;box-sizing: border-box;text-align: center;}#sk-container-id-2 label.sk-toggleable__label-arrow:before {content: \"▸\";float: left;margin-right: 0.25em;color: #696969;}#sk-container-id-2 label.sk-toggleable__label-arrow:hover:before {color: black;}#sk-container-id-2 div.sk-estimator:hover label.sk-toggleable__label-arrow:before {color: black;}#sk-container-id-2 div.sk-toggleable__content {max-height: 0;max-width: 0;overflow: hidden;text-align: left;background-color: #f0f8ff;}#sk-container-id-2 div.sk-toggleable__content pre {margin: 0.2em;color: black;border-radius: 0.25em;background-color: #f0f8ff;}#sk-container-id-2 input.sk-toggleable__control:checked~div.sk-toggleable__content {max-height: 200px;max-width: 100%;overflow: auto;}#sk-container-id-2 input.sk-toggleable__control:checked~label.sk-toggleable__label-arrow:before {content: \"▾\";}#sk-container-id-2 div.sk-estimator input.sk-toggleable__control:checked~label.sk-toggleable__label {background-color: #d4ebff;}#sk-container-id-2 div.sk-label input.sk-toggleable__control:checked~label.sk-toggleable__label {background-color: #d4ebff;}#sk-container-id-2 input.sk-hidden--visually {border: 0;clip: rect(1px 1px 1px 1px);clip: rect(1px, 1px, 1px, 1px);height: 1px;margin: -1px;overflow: hidden;padding: 0;position: absolute;width: 1px;}#sk-container-id-2 div.sk-estimator {font-family: monospace;background-color: #f0f8ff;border: 1px dotted black;border-radius: 0.25em;box-sizing: border-box;margin-bottom: 0.5em;}#sk-container-id-2 div.sk-estimator:hover {background-color: #d4ebff;}#sk-container-id-2 div.sk-parallel-item::after {content: \"\";width: 100%;border-bottom: 1px solid gray;flex-grow: 1;}#sk-container-id-2 div.sk-label:hover label.sk-toggleable__label {background-color: #d4ebff;}#sk-container-id-2 div.sk-serial::before {content: \"\";position: absolute;border-left: 1px solid gray;box-sizing: border-box;top: 0;bottom: 0;left: 50%;z-index: 0;}#sk-container-id-2 div.sk-serial {display: flex;flex-direction: column;align-items: center;background-color: white;padding-right: 0.2em;padding-left: 0.2em;position: relative;}#sk-container-id-2 div.sk-item {position: relative;z-index: 1;}#sk-container-id-2 div.sk-parallel {display: flex;align-items: stretch;justify-content: center;background-color: white;position: relative;}#sk-container-id-2 div.sk-item::before, #sk-container-id-2 div.sk-parallel-item::before {content: \"\";position: absolute;border-left: 1px solid gray;box-sizing: border-box;top: 0;bottom: 0;left: 50%;z-index: -1;}#sk-container-id-2 div.sk-parallel-item {display: flex;flex-direction: column;z-index: 1;position: relative;background-color: white;}#sk-container-id-2 div.sk-parallel-item:first-child::after {align-self: flex-end;width: 50%;}#sk-container-id-2 div.sk-parallel-item:last-child::after {align-self: flex-start;width: 50%;}#sk-container-id-2 div.sk-parallel-item:only-child::after {width: 0;}#sk-container-id-2 div.sk-dashed-wrapped {border: 1px dashed gray;margin: 0 0.4em 0.5em 0.4em;box-sizing: border-box;padding-bottom: 0.4em;background-color: white;}#sk-container-id-2 div.sk-label label {font-family: monospace;font-weight: bold;display: inline-block;line-height: 1.2em;}#sk-container-id-2 div.sk-label-container {text-align: center;}#sk-container-id-2 div.sk-container {/* jupyter's `normalize.less` sets `[hidden] { display: none; }` but bootstrap.min.css set `[hidden] { display: none !important; }` so we also need the `!important` here to be able to override the default hidden behavior on the sphinx rendered scikit-learn.org. See: https://github.com/scikit-learn/scikit-learn/issues/21755 */display: inline-block !important;position: relative;}#sk-container-id-2 div.sk-text-repr-fallback {display: none;}</style><div id=\"sk-container-id-2\" class=\"sk-top-container\"><div class=\"sk-text-repr-fallback\"><pre>LinearRegression()</pre><b>In a Jupyter environment, please rerun this cell to show the HTML representation or trust the notebook. <br />On GitHub, the HTML representation is unable to render, please try loading this page with nbviewer.org.</b></div><div class=\"sk-container\" hidden><div class=\"sk-item\"><div class=\"sk-estimator sk-toggleable\"><input class=\"sk-toggleable__control sk-hidden--visually\" id=\"sk-estimator-id-2\" type=\"checkbox\" checked><label for=\"sk-estimator-id-2\" class=\"sk-toggleable__label sk-toggleable__label-arrow\">LinearRegression</label><div class=\"sk-toggleable__content\"><pre>LinearRegression()</pre></div></div></div></div></div>"
      ],
      "text/plain": [
       "LinearRegression()"
      ]
     },
     "execution_count": 26,
     "metadata": {},
     "output_type": "execute_result"
    }
   ],
   "source": [
    "lr1 = LinearRegression()\n",
    "lr1.fit(X_train_1, y_train_1)"
   ]
  },
  {
   "cell_type": "markdown",
   "metadata": {},
   "source": [
    "Сохраним предсказания и RMSE для первого региона."
   ]
  },
  {
   "cell_type": "code",
   "execution_count": 27,
   "metadata": {},
   "outputs": [],
   "source": [
    "y_pred_1 = lr1.predict(X_valid_1)\n",
    "rmse1 = mean_squared_error(y_valid_1, y_pred_1, squared=False)\n",
    "mean1 = y_pred_1.mean()"
   ]
  },
  {
   "cell_type": "markdown",
   "metadata": {},
   "source": [
    "Обучим модель для второго региона."
   ]
  },
  {
   "cell_type": "code",
   "execution_count": 28,
   "metadata": {},
   "outputs": [
    {
     "data": {
      "text/html": [
       "<style>#sk-container-id-3 {color: black;background-color: white;}#sk-container-id-3 pre{padding: 0;}#sk-container-id-3 div.sk-toggleable {background-color: white;}#sk-container-id-3 label.sk-toggleable__label {cursor: pointer;display: block;width: 100%;margin-bottom: 0;padding: 0.3em;box-sizing: border-box;text-align: center;}#sk-container-id-3 label.sk-toggleable__label-arrow:before {content: \"▸\";float: left;margin-right: 0.25em;color: #696969;}#sk-container-id-3 label.sk-toggleable__label-arrow:hover:before {color: black;}#sk-container-id-3 div.sk-estimator:hover label.sk-toggleable__label-arrow:before {color: black;}#sk-container-id-3 div.sk-toggleable__content {max-height: 0;max-width: 0;overflow: hidden;text-align: left;background-color: #f0f8ff;}#sk-container-id-3 div.sk-toggleable__content pre {margin: 0.2em;color: black;border-radius: 0.25em;background-color: #f0f8ff;}#sk-container-id-3 input.sk-toggleable__control:checked~div.sk-toggleable__content {max-height: 200px;max-width: 100%;overflow: auto;}#sk-container-id-3 input.sk-toggleable__control:checked~label.sk-toggleable__label-arrow:before {content: \"▾\";}#sk-container-id-3 div.sk-estimator input.sk-toggleable__control:checked~label.sk-toggleable__label {background-color: #d4ebff;}#sk-container-id-3 div.sk-label input.sk-toggleable__control:checked~label.sk-toggleable__label {background-color: #d4ebff;}#sk-container-id-3 input.sk-hidden--visually {border: 0;clip: rect(1px 1px 1px 1px);clip: rect(1px, 1px, 1px, 1px);height: 1px;margin: -1px;overflow: hidden;padding: 0;position: absolute;width: 1px;}#sk-container-id-3 div.sk-estimator {font-family: monospace;background-color: #f0f8ff;border: 1px dotted black;border-radius: 0.25em;box-sizing: border-box;margin-bottom: 0.5em;}#sk-container-id-3 div.sk-estimator:hover {background-color: #d4ebff;}#sk-container-id-3 div.sk-parallel-item::after {content: \"\";width: 100%;border-bottom: 1px solid gray;flex-grow: 1;}#sk-container-id-3 div.sk-label:hover label.sk-toggleable__label {background-color: #d4ebff;}#sk-container-id-3 div.sk-serial::before {content: \"\";position: absolute;border-left: 1px solid gray;box-sizing: border-box;top: 0;bottom: 0;left: 50%;z-index: 0;}#sk-container-id-3 div.sk-serial {display: flex;flex-direction: column;align-items: center;background-color: white;padding-right: 0.2em;padding-left: 0.2em;position: relative;}#sk-container-id-3 div.sk-item {position: relative;z-index: 1;}#sk-container-id-3 div.sk-parallel {display: flex;align-items: stretch;justify-content: center;background-color: white;position: relative;}#sk-container-id-3 div.sk-item::before, #sk-container-id-3 div.sk-parallel-item::before {content: \"\";position: absolute;border-left: 1px solid gray;box-sizing: border-box;top: 0;bottom: 0;left: 50%;z-index: -1;}#sk-container-id-3 div.sk-parallel-item {display: flex;flex-direction: column;z-index: 1;position: relative;background-color: white;}#sk-container-id-3 div.sk-parallel-item:first-child::after {align-self: flex-end;width: 50%;}#sk-container-id-3 div.sk-parallel-item:last-child::after {align-self: flex-start;width: 50%;}#sk-container-id-3 div.sk-parallel-item:only-child::after {width: 0;}#sk-container-id-3 div.sk-dashed-wrapped {border: 1px dashed gray;margin: 0 0.4em 0.5em 0.4em;box-sizing: border-box;padding-bottom: 0.4em;background-color: white;}#sk-container-id-3 div.sk-label label {font-family: monospace;font-weight: bold;display: inline-block;line-height: 1.2em;}#sk-container-id-3 div.sk-label-container {text-align: center;}#sk-container-id-3 div.sk-container {/* jupyter's `normalize.less` sets `[hidden] { display: none; }` but bootstrap.min.css set `[hidden] { display: none !important; }` so we also need the `!important` here to be able to override the default hidden behavior on the sphinx rendered scikit-learn.org. See: https://github.com/scikit-learn/scikit-learn/issues/21755 */display: inline-block !important;position: relative;}#sk-container-id-3 div.sk-text-repr-fallback {display: none;}</style><div id=\"sk-container-id-3\" class=\"sk-top-container\"><div class=\"sk-text-repr-fallback\"><pre>LinearRegression()</pre><b>In a Jupyter environment, please rerun this cell to show the HTML representation or trust the notebook. <br />On GitHub, the HTML representation is unable to render, please try loading this page with nbviewer.org.</b></div><div class=\"sk-container\" hidden><div class=\"sk-item\"><div class=\"sk-estimator sk-toggleable\"><input class=\"sk-toggleable__control sk-hidden--visually\" id=\"sk-estimator-id-3\" type=\"checkbox\" checked><label for=\"sk-estimator-id-3\" class=\"sk-toggleable__label sk-toggleable__label-arrow\">LinearRegression</label><div class=\"sk-toggleable__content\"><pre>LinearRegression()</pre></div></div></div></div></div>"
      ],
      "text/plain": [
       "LinearRegression()"
      ]
     },
     "execution_count": 28,
     "metadata": {},
     "output_type": "execute_result"
    }
   ],
   "source": [
    "lr2 = LinearRegression()\n",
    "lr2.fit(X_train_2, y_train_2)"
   ]
  },
  {
   "cell_type": "markdown",
   "metadata": {},
   "source": [
    "Сохраним предсказания и RMSE для второго региона."
   ]
  },
  {
   "cell_type": "code",
   "execution_count": 29,
   "metadata": {},
   "outputs": [],
   "source": [
    "y_pred_2 = lr2.predict(X_valid_2)\n",
    "rmse2 = mean_squared_error(y_valid_2, y_pred_2, squared=False)\n",
    "mean2 = y_pred_2.mean()"
   ]
  },
  {
   "cell_type": "markdown",
   "metadata": {},
   "source": [
    "Сравним модели."
   ]
  },
  {
   "cell_type": "code",
   "execution_count": 30,
   "metadata": {},
   "outputs": [],
   "source": [
    "mean_col = [mean0, mean1, mean2]\n",
    "rmse_col = [rmse0, rmse1, rmse2]"
   ]
  },
  {
   "cell_type": "code",
   "execution_count": 31,
   "metadata": {},
   "outputs": [],
   "source": [
    "lr_metrics = {'mean': mean_col, 'RMSE': rmse_col}\n",
    "lr_metrics_table = pd.DataFrame(lr_metrics, index=[0, 1, 2])\n",
    "lr_metrics_table.index.name = 'Регион'"
   ]
  },
  {
   "cell_type": "code",
   "execution_count": 32,
   "metadata": {},
   "outputs": [
    {
     "data": {
      "text/html": [
       "<style type=\"text/css\">\n",
       "#T_a00a6_row1_col1, #T_a00a6_row2_col0 {\n",
       "  background-color: lightgreen;\n",
       "}\n",
       "</style>\n",
       "<table id=\"T_a00a6\">\n",
       "  <thead>\n",
       "    <tr>\n",
       "      <th class=\"blank level0\" >&nbsp;</th>\n",
       "      <th id=\"T_a00a6_level0_col0\" class=\"col_heading level0 col0\" >Средний запас,</br>тыс. баррелей</th>\n",
       "      <th id=\"T_a00a6_level0_col1\" class=\"col_heading level0 col1\" >RMSE</th>\n",
       "    </tr>\n",
       "    <tr>\n",
       "      <th class=\"index_name level0\" >Регион</th>\n",
       "      <th class=\"blank col0\" >&nbsp;</th>\n",
       "      <th class=\"blank col1\" >&nbsp;</th>\n",
       "    </tr>\n",
       "  </thead>\n",
       "  <tbody>\n",
       "    <tr>\n",
       "      <th id=\"T_a00a6_level0_row0\" class=\"row_heading level0 row0\" >0</th>\n",
       "      <td id=\"T_a00a6_row0_col0\" class=\"data row0 col0\" >92.40</td>\n",
       "      <td id=\"T_a00a6_row0_col1\" class=\"data row0 col1\" >37.76</td>\n",
       "    </tr>\n",
       "    <tr>\n",
       "      <th id=\"T_a00a6_level0_row1\" class=\"row_heading level0 row1\" >1</th>\n",
       "      <td id=\"T_a00a6_row1_col0\" class=\"data row1 col0\" >68.71</td>\n",
       "      <td id=\"T_a00a6_row1_col1\" class=\"data row1 col1\" >0.89</td>\n",
       "    </tr>\n",
       "    <tr>\n",
       "      <th id=\"T_a00a6_level0_row2\" class=\"row_heading level0 row2\" >2</th>\n",
       "      <td id=\"T_a00a6_row2_col0\" class=\"data row2 col0\" >94.77</td>\n",
       "      <td id=\"T_a00a6_row2_col1\" class=\"data row2 col1\" >40.15</td>\n",
       "    </tr>\n",
       "  </tbody>\n",
       "</table>\n"
      ],
      "text/plain": [
       "<pandas.io.formats.style.Styler at 0x18ffbae4f10>"
      ]
     },
     "execution_count": 32,
     "metadata": {},
     "output_type": "execute_result"
    }
   ],
   "source": [
    "(lr_metrics_table\n",
    " .style\n",
    " .format({'mean': '{:.2f}', 'RMSE': '{:.2f}'})\n",
    " .highlight_max(subset='mean', color='lightgreen')\n",
    " .highlight_min(subset='RMSE', color='lightgreen')\n",
    " .relabel_index(['Средний запас,</br>тыс. баррелей', 'RMSE'], axis=1)\n",
    ")"
   ]
  },
  {
   "cell_type": "markdown",
   "metadata": {},
   "source": [
    "Наибольший средний предсказанный запас сырья во втором регионе. Но модель для второго региона показывает худшие результаты: у нее самый большой RMSE - 40.15, близкий к нему RMSE и у модели для нулевого региона - 37.76.\n",
    "\n",
    "Наименьший RMSE у модели для первого региона - 0.89, что значительно меньше, чем у двух других моделей. Вероятно, хорошее качество модели для первого региона связано с тем, что у целевого признака в первом регионе очень большая корреляция с одним из входных признаков."
   ]
  },
  {
   "cell_type": "markdown",
   "metadata": {},
   "source": [
    "### Обучение и проверка моделей - итог"
   ]
  },
  {
   "cell_type": "markdown",
   "metadata": {},
   "source": [
    "Обучили и проверили модели линейной регрессии для каждого региона.\n",
    "\n",
    "1. Разбили данные на обучающую и валидационную выборки в соотношении 75:25.\n",
    "2. Обучили модель и сделали предсказания на валидационной выборке.\n",
    "3. Сохранили предсказания и правильные ответы на валидационной выборке.\n",
    "4. Сравнили средний запас предсказанного сырья и RMSE моделей:\n",
    "<table>\n",
    "<tr>\n",
    "    <th>Регион</th>\n",
    "    <th>Средний запас,<br>тыс. баррелей</th> \n",
    "    <th>RMSE</th> \n",
    "</tr>\n",
    "<tr>\n",
    "    <th>0</th>\n",
    "    <th>92.40</th> \n",
    "    <th>37.76</th> \n",
    "</tr>\n",
    "<tr>\n",
    "    <th>1</th>\n",
    "    <th>68.71</th> \n",
    "    <th>0.89</th> \n",
    "</tr>\n",
    "<tr>\n",
    "    <th>2</th>\n",
    "    <th>94.77</th> \n",
    "    <th>40.15</th> \n",
    "</tr>\n",
    "</table>\n",
    "Таким образом, лучшее качество показывает модель для региона 1. В этом же регионе наблюдалась крайне высокая (0.98) корреляция целевого признака со входным."
   ]
  },
  {
   "cell_type": "markdown",
   "metadata": {},
   "source": [
    "## Подготовка к расчёту прибыли"
   ]
  },
  {
   "cell_type": "markdown",
   "metadata": {},
   "source": [
    "### Объявление констант"
   ]
  },
  {
   "cell_type": "markdown",
   "metadata": {},
   "source": [
    "Все ключевые значения для расчётов сохраним в отдельных константах.\n",
    "+ Бюджет на разработку скважин в регионе — 10 млрд рублей.\n",
    "+ Доход с каждой единицы продукта составляет 450 тыс. рублей, поскольку объём указан в тысячах баррелей.\n",
    "+ При разведке региона исследуют 500 точек\n",
    "+ Из которых с помощью машинного обучения выбирают 200 лучших для разработки."
   ]
  },
  {
   "cell_type": "code",
   "execution_count": 34,
   "metadata": {},
   "outputs": [],
   "source": [
    "REGION_BUDGET = 10 ** 10\n",
    "PROFIT_PER_ITEM = 450_000\n",
    "N_SELECTED = 500\n",
    "N_BEST = 200"
   ]
  },
  {
   "cell_type": "markdown",
   "metadata": {},
   "source": [
    "### Расчет достаточного объёма сырья для безубыточной разработки"
   ]
  },
  {
   "cell_type": "markdown",
   "metadata": {},
   "source": [
    "Рассчитаем достаточный объем сырья для безубыточной разработки. Для безубыточной разработки суммарная выручка с разрабатываемых скважин должна быть не меньше бюджета, затраченного на их разработку. Значит, для получения значения достаточного объема сырья нам нужно разделить бюджет (```REGION_BUDGET```) на количество скважин (```N_BEST```), помноженное на доход с единицы продукта (```PROFIT_PER_ITEM```)."
   ]
  },
  {
   "cell_type": "code",
   "execution_count": 35,
   "metadata": {},
   "outputs": [],
   "source": [
    "profitable_volume = REGION_BUDGET / (N_BEST * PROFIT_PER_ITEM)"
   ]
  },
  {
   "cell_type": "code",
   "execution_count": 36,
   "metadata": {},
   "outputs": [
    {
     "data": {
      "text/plain": [
       "111.11111111111111"
      ]
     },
     "execution_count": 36,
     "metadata": {},
     "output_type": "execute_result"
    }
   ],
   "source": [
    "profitable_volume"
   ]
  },
  {
   "cell_type": "markdown",
   "metadata": {},
   "source": [
    "Таким образом, минимальный объем сырья, получаемый каждой скважиной, должен быть 111.1 тыс. баррелей, чтобы разработка была безубыточной."
   ]
  },
  {
   "cell_type": "markdown",
   "metadata": {},
   "source": [
    "Сравним полученное значение со средними значениями предсказанного объема сырья для каждого региона."
   ]
  },
  {
   "cell_type": "code",
   "execution_count": 37,
   "metadata": {},
   "outputs": [
    {
     "name": "stdout",
     "output_type": "stream",
     "text": [
      "Средний предсказанный объем сырья в регионе 0 - 92.40 баррелей.\n",
      "Предсказанный объем сырья меньше достаточного объема (111.11) для безубыточной разработки\n",
      "_________________________\n",
      "Средний предсказанный объем сырья в регионе 1 - 68.71 баррелей.\n",
      "Предсказанный объем сырья меньше достаточного объема (111.11) для безубыточной разработки\n",
      "_________________________\n",
      "Средний предсказанный объем сырья в регионе 2 - 94.77 баррелей.\n",
      "Предсказанный объем сырья меньше достаточного объема (111.11) для безубыточной разработки\n",
      "_________________________\n"
     ]
    }
   ],
   "source": [
    "for idx, mean_vol in enumerate(mean_col):\n",
    "    print(f'Средний предсказанный объем сырья в регионе {idx} - {mean_vol:.2f} баррелей.')\n",
    "    if mean_vol < profitable_volume:\n",
    "        print(f'Предсказанный объем сырья меньше достаточного \\\n",
    "объема ({profitable_volume:.2f}) для безубыточной разработки')\n",
    "    else:\n",
    "        print(f'Предсказанный объем сырья достаточен для безубыточной разработки')\n",
    "    print('_'*25)"
   ]
  },
  {
   "cell_type": "markdown",
   "metadata": {},
   "source": [
    "Таким образом, ни в одном регионе предсказанный средний объем сырья не достаточен для безубыточной разработки."
   ]
  },
  {
   "cell_type": "markdown",
   "metadata": {},
   "source": [
    "### Подготовка к расчету прибыли - итог"
   ]
  },
  {
   "cell_type": "markdown",
   "metadata": {},
   "source": [
    "Произвели подготовку к расчету прибыли.\n",
    "1. Все ключевые значения для расчётов сохранили в отдельных константах.\n",
    "2. Рассчитали достаточный объём сырья для безубыточной разработки новой скважины. Достаточный объем сырья в одной скважине для безубыточной разработки - 111.1 тыс. баррелей.\n",
    "3. Сравнили полученный объём сырья со средним запасом в каждом регионе. Ни в одном регионе предсказанный средний объем сырья не достаточен для безубыточной разработки."
   ]
  },
  {
   "cell_type": "markdown",
   "metadata": {},
   "source": [
    "## Расчёт прибыли и рисков "
   ]
  },
  {
   "cell_type": "markdown",
   "metadata": {},
   "source": [
    "Напишем функцию для расчета прибыли."
   ]
  },
  {
   "cell_type": "code",
   "execution_count": 38,
   "metadata": {},
   "outputs": [],
   "source": [
    "def profit(target, pred, count):\n",
    "    \"\"\" Подсчитывает прибыль с count скважин,\n",
    "    используя предсказания объемов сырья probabilities\n",
    "    и целевое значение target.\n",
    "    Возвращает сумму прибыли.\n",
    "    \"\"\"\n",
    "    pred_sorted = pred.sort_values(ascending=False)\n",
    "    selected = target[pred_sorted.index][:count]\n",
    "    return PROFIT_PER_ITEM * selected.sum() - REGION_BUDGET"
   ]
  },
  {
   "cell_type": "markdown",
   "metadata": {},
   "source": [
    "Напишем функцию, находящую распределение прибыли, используя bootstrap."
   ]
  },
  {
   "cell_type": "code",
   "execution_count": 39,
   "metadata": {},
   "outputs": [],
   "source": [
    "def profit_bootstrap(target, pred, n):\n",
    "    \"\"\" Проводит процедуру bootstrap с n выборок.\n",
    "    Возвращает среднюю прибыль, 95%-й доверительный интервал и риск убытков.\n",
    "    \"\"\"\n",
    "    target.reset_index(drop=True, inplace=True)\n",
    "    pred.reset_index(drop=True, inplace=True)\n",
    "    state = np.random.RandomState(RANDOM_STATE)\n",
    "    values = []\n",
    "    for i in range(n):\n",
    "        target_subsample = target.sample(n=N_SELECTED, random_state=state, replace=True)\n",
    "        pred_subsample = pred[target_subsample.index] \n",
    "        values.append(profit(target_subsample, pred_subsample, N_BEST))\n",
    "    values = pd.Series(values)\n",
    "    mean = values.mean()\n",
    "    lower = values.quantile(0.025)\n",
    "    upper = values.quantile(0.975)\n",
    "    risk = (values < 0).mean()\n",
    "    return mean, (lower,  upper), risk"
   ]
  },
  {
   "cell_type": "markdown",
   "metadata": {},
   "source": [
    "Рассчитаем прибыль и риски для трех регионов. Используем bootstrap с 1000 выборок."
   ]
  },
  {
   "cell_type": "code",
   "execution_count": 40,
   "metadata": {},
   "outputs": [],
   "source": [
    "mean0, interval0, risk0 = profit_bootstrap(pd.Series(y_valid_0), pd.Series(y_pred_0), 1000)"
   ]
  },
  {
   "cell_type": "code",
   "execution_count": 41,
   "metadata": {},
   "outputs": [],
   "source": [
    "mean1, interval1, risk1 = profit_bootstrap(pd.Series(y_valid_1), pd.Series(y_pred_1), 1000)"
   ]
  },
  {
   "cell_type": "code",
   "execution_count": 42,
   "metadata": {},
   "outputs": [],
   "source": [
    "mean2, interval2, risk2 = profit_bootstrap(pd.Series(y_valid_2), pd.Series(y_pred_2), 1000)"
   ]
  },
  {
   "cell_type": "markdown",
   "metadata": {},
   "source": [
    "Выведем таблицу со сравнением расчетов по регионам."
   ]
  },
  {
   "cell_type": "code",
   "execution_count": 43,
   "metadata": {},
   "outputs": [],
   "source": [
    "mean_col = [mean0, mean1, mean2]\n",
    "lower_col = [interval0[0], interval1[0], interval2[0]]\n",
    "upper_col = [interval0[1], interval1[1], interval2[1]]\n",
    "risk_col = [risk0, risk1, risk2]"
   ]
  },
  {
   "cell_type": "code",
   "execution_count": 44,
   "metadata": {},
   "outputs": [],
   "source": [
    "bootstrap_result = {'mean': mean_col, 'lower': lower_col, 'upper': upper_col, 'risk': risk_col}\n",
    "bootstrap_result_table = pd.DataFrame(bootstrap_result, index=[0, 1, 2])\n",
    "bootstrap_result_table.index.name = 'Регион'"
   ]
  },
  {
   "cell_type": "code",
   "execution_count": 45,
   "metadata": {},
   "outputs": [],
   "source": [
    "bootstrap_result_table['mean_mil'] = bootstrap_result_table['mean'] / 1000000\n",
    "bootstrap_result_table['interval_mil'] = \\\n",
    "    round(bootstrap_result_table['lower'] / 1000000, 2).astype('string') + ' - ' \\\n",
    "    + round(bootstrap_result_table['upper'] / 1000000, 2).astype('string')\n",
    "bootstrap_result_table = bootstrap_result_table[['mean_mil', 'interval_mil', 'risk']]"
   ]
  },
  {
   "cell_type": "code",
   "execution_count": 46,
   "metadata": {},
   "outputs": [
    {
     "data": {
      "text/html": [
       "<style type=\"text/css\">\n",
       "#T_5df83_row1_col0 {\n",
       "  background-color: lightgreen;\n",
       "}\n",
       "#T_5df83_row1_col2 {\n",
       "  background: lightgreen;\n",
       "}\n",
       "</style>\n",
       "<table id=\"T_5df83\">\n",
       "  <thead>\n",
       "    <tr>\n",
       "      <th class=\"blank level0\" >&nbsp;</th>\n",
       "      <th id=\"T_5df83_level0_col0\" class=\"col_heading level0 col0\" >Средняя прибыль,</br>млн руб.</th>\n",
       "      <th id=\"T_5df83_level0_col1\" class=\"col_heading level0 col1\" >95% доверительный интервал,</br>млн руб.</th>\n",
       "      <th id=\"T_5df83_level0_col2\" class=\"col_heading level0 col2\" >Риск убытков</th>\n",
       "    </tr>\n",
       "    <tr>\n",
       "      <th class=\"index_name level0\" >Регион</th>\n",
       "      <th class=\"blank col0\" >&nbsp;</th>\n",
       "      <th class=\"blank col1\" >&nbsp;</th>\n",
       "      <th class=\"blank col2\" >&nbsp;</th>\n",
       "    </tr>\n",
       "  </thead>\n",
       "  <tbody>\n",
       "    <tr>\n",
       "      <th id=\"T_5df83_level0_row0\" class=\"row_heading level0 row0\" >0</th>\n",
       "      <td id=\"T_5df83_row0_col0\" class=\"data row0 col0\" >427.85</td>\n",
       "      <td id=\"T_5df83_row0_col1\" class=\"data row0 col1\" >-97.25 - 954.22</td>\n",
       "      <td id=\"T_5df83_row0_col2\" class=\"data row0 col2\" >5.50%</td>\n",
       "    </tr>\n",
       "    <tr>\n",
       "      <th id=\"T_5df83_level0_row1\" class=\"row_heading level0 row1\" >1</th>\n",
       "      <td id=\"T_5df83_row1_col0\" class=\"data row1 col0\" >511.36</td>\n",
       "      <td id=\"T_5df83_row1_col1\" class=\"data row1 col1\" >98.87 - 940.72</td>\n",
       "      <td id=\"T_5df83_row1_col2\" class=\"data row1 col2\" >0.90%</td>\n",
       "    </tr>\n",
       "    <tr>\n",
       "      <th id=\"T_5df83_level0_row2\" class=\"row_heading level0 row2\" >2</th>\n",
       "      <td id=\"T_5df83_row2_col0\" class=\"data row2 col0\" >402.58</td>\n",
       "      <td id=\"T_5df83_row2_col1\" class=\"data row2 col1\" >-137.16 - 929.89</td>\n",
       "      <td id=\"T_5df83_row2_col2\" class=\"data row2 col2\" >7.40%</td>\n",
       "    </tr>\n",
       "  </tbody>\n",
       "</table>\n"
      ],
      "text/plain": [
       "<pandas.io.formats.style.Styler at 0x18ffc09c410>"
      ]
     },
     "execution_count": 46,
     "metadata": {},
     "output_type": "execute_result"
    }
   ],
   "source": [
    "(bootstrap_result_table\n",
    " .style\n",
    " .format({'mean_mil': '{:.2f}', 'risk': '{:.2%}'})\n",
    " .highlight_max(subset='mean_mil', color='lightgreen')\n",
    " .apply(lambda row: ['background: lightgreen'] if (row['risk'] < 0.025) else [''], axis=1, subset=['risk'])\n",
    " .relabel_index(['Средняя прибыль,</br>млн руб.', '95% доверительный интервал,</br>млн руб.', 'Риск убытков'], axis=1)\n",
    ")"
   ]
  },
  {
   "cell_type": "markdown",
   "metadata": {},
   "source": [
    "Единственный регион с выполняемым условием \"вероятность убытков меньше 2.5%\" - регион 1. Вероятность убытков в этом регионе - меньше процента (0.9%), в то время как в двух других она значительно превышает 2.5%. Регион 1 также имеет наибольшую среднюю прибыль в регионе - 511 млн. рублей.\n",
    "\n",
    "Таким образом, для разработки скважин предлагается брать **регион №1**."
   ]
  },
  {
   "cell_type": "markdown",
   "metadata": {},
   "source": [
    "## Общий вывод"
   ]
  },
  {
   "cell_type": "markdown",
   "metadata": {},
   "source": [
    "Проанализировали данные о нефтяных скважинах в трех регионах, спрогнозировали объёмы запасов в новых скважинах и составили рекомендации по выбору региона для разработки.\n",
    "\n",
    "1. Провели предобработку данных: проверили данные на наличие пропущенных значений и дубликатов, проверили типы данных и имена столбцов.\n",
    "2. Провели анализ данных: каждый датафрейм содержит 5 столбцов и 100000 строк. 4 столбца содержат вещественные значения: f0, f1, f2, product и один - строковые id. Столбец id удалили, т.к. для обучения он не требуется. Вещественные входные признаки будем масштабировать. Также проверили данные на мультиколлинеарность - мультиколлинеарность входных признаков не наблюдается.\n",
    "3. Обучили и проверили модели линейной регрессии для каждого региона.\n",
    "    + Разбили данные на обучающую и валидационную выборки в соотношении 75:25.\n",
    "    + Обучили модель и сделали предсказания на валидационной выборке.\n",
    "    + Сохранили предсказания и правильные ответы на валидационной выборке.\n",
    "    + Сравнили средний запас предсказанного сырья и RMSE моделей:\n",
    "<table>\n",
    "<tr>\n",
    "    <th>Регион</th>\n",
    "    <th>Средний запас,<br>тыс. баррелей</th> \n",
    "    <th>RMSE</th> \n",
    "</tr>\n",
    "<tr>\n",
    "    <th>0</th>\n",
    "    <th>92.40</th> \n",
    "    <th>37.76</th> \n",
    "</tr>\n",
    "<tr>\n",
    "    <th>1</th>\n",
    "    <th>68.71</th> \n",
    "    <th>0.89</th> \n",
    "</tr>\n",
    "<tr>\n",
    "    <th>2</th>\n",
    "    <th>94.77</th> \n",
    "    <th>40.15</th> \n",
    "</tr>\n",
    "</table>\n",
    "Таким образом, лучшее качество показывает модель для региона 1. В этом же регионе наблюдалась крайне высокая (0.98) корреляция целевого признака со входным.\n",
    "4. Подготовились к расчету прибыли.\n",
    "    + Все ключевые значения для расчётов сохранили в отдельных константах.\n",
    "    + Рассчитали достаточный объём сырья для безубыточной разработки новой скважины. Достаточный объем сырья в одной скважине для безубыточной разработки - 111.1 тыс. баррелей.\n",
    "    + Сравнили полученный объём сырья со средним запасом в каждом регионе. Ни в одном регионе предсказанный средний объем сырья не достаточен для безубыточной разработки.\n",
    "5. Используя технику bootstrap на 1000 выборок нашли распределение прибыли в каждом регионе. Подсчитали среднюю прибыль, 95%-й доверительный интервал и риск убытков:\n",
    "<table>\n",
    "<tr>\n",
    "    <th>Регион</th>\n",
    "    <th>Средняя прибыль,<br>млн. руб.</th> \n",
    "    <th>95% доверительный интервал,<br>млн руб.</th>\n",
    "    <th>Риск убытков</th>\n",
    "</tr>\n",
    "<tr>\n",
    "    <th>0</th>\t\t\n",
    "    <th>427.85</th> \n",
    "    <th>-97.25 - 954.22</th> \n",
    "    <th>5.50%</th> \n",
    "</tr>\n",
    "<tr>\n",
    "    <th>1</th>\n",
    "    <th>511.36</th> \n",
    "    <th>98.87 - 940.72</th> \n",
    "    <th>0.90%</th> \n",
    "</tr>\n",
    "<tr>\n",
    "    <th>2</th>\n",
    "    <th>402.58</th> \n",
    "    <th>-137.16 - 929.89</th> \n",
    "    <th>7.40%</th> \n",
    "</tr>\n",
    "</table>\n",
    "\n",
    "Единственный регион с выполняемым условием \"вероятность убытков меньше 2.5%\" - регион 1. Вероятность убытков в этом регионе - меньше процента (0.9%), в то время как в двух других она значительно превышает 2.5%. Регион 1 также имеет наибольшую среднюю прибыль в регионе - 511 млн. рублей.\n",
    "\n",
    "Таким образом, для разработки скважин предлагается брать **регион №1** - он единственный из трех имеет вероятность убытков менее 2.5%. Кроме того, в нем наибольшая средняя прибыль - 511 млн. рублей. Также модель регрессии для первого региона показала наилучшее качество (наименьшую среднеквадратичную ошибку)."
   ]
  },
  {
   "cell_type": "markdown",
   "metadata": {},
   "source": [
    "[В начало](#title)"
   ]
  }
 ],
 "metadata": {
  "ExecuteTimeLog": [
   {
    "duration": 1684,
    "start_time": "2024-11-05T10:50:04.264Z"
   },
   {
    "duration": 3579,
    "start_time": "2024-11-05T10:50:58.791Z"
   },
   {
    "duration": 45,
    "start_time": "2024-11-05T10:51:05.406Z"
   },
   {
    "duration": 2,
    "start_time": "2024-11-05T10:51:21.814Z"
   },
   {
    "duration": 6,
    "start_time": "2024-11-05T10:51:42.334Z"
   },
   {
    "duration": 5,
    "start_time": "2024-11-05T10:52:08.661Z"
   },
   {
    "duration": 453,
    "start_time": "2024-11-05T10:52:19.636Z"
   },
   {
    "duration": 394,
    "start_time": "2024-11-05T10:52:23.484Z"
   },
   {
    "duration": 459,
    "start_time": "2024-11-05T10:52:26.773Z"
   },
   {
    "duration": 94,
    "start_time": "2024-11-05T10:52:39.036Z"
   },
   {
    "duration": 5,
    "start_time": "2024-11-05T10:53:14.052Z"
   },
   {
    "duration": 82,
    "start_time": "2024-11-05T10:53:16.780Z"
   },
   {
    "duration": 6,
    "start_time": "2024-11-05T10:53:35.370Z"
   },
   {
    "duration": 84,
    "start_time": "2024-11-05T10:53:37.731Z"
   },
   {
    "duration": 78,
    "start_time": "2024-11-05T10:54:43.041Z"
   },
   {
    "duration": 82,
    "start_time": "2024-11-05T10:55:01.928Z"
   },
   {
    "duration": 12,
    "start_time": "2024-11-05T10:55:39.904Z"
   },
   {
    "duration": 1432,
    "start_time": "2024-11-05T10:56:30.225Z"
   },
   {
    "duration": 1349,
    "start_time": "2024-11-05T10:59:15.563Z"
   },
   {
    "duration": 15,
    "start_time": "2024-11-05T10:59:34.322Z"
   },
   {
    "duration": 7,
    "start_time": "2024-11-05T10:59:56.570Z"
   },
   {
    "duration": 1309,
    "start_time": "2024-11-05T11:00:08.130Z"
   },
   {
    "duration": 4,
    "start_time": "2024-11-05T11:00:45.505Z"
   },
   {
    "duration": 5,
    "start_time": "2024-11-05T11:00:49.393Z"
   },
   {
    "duration": 27,
    "start_time": "2024-11-05T11:01:15.784Z"
   },
   {
    "duration": 39,
    "start_time": "2024-11-05T11:04:48.459Z"
   },
   {
    "duration": 27,
    "start_time": "2024-11-05T11:04:52.923Z"
   },
   {
    "duration": 6,
    "start_time": "2024-11-05T11:05:13.833Z"
   },
   {
    "duration": 5,
    "start_time": "2024-11-05T11:05:21.674Z"
   },
   {
    "duration": 5,
    "start_time": "2024-11-05T11:05:27.642Z"
   },
   {
    "duration": 5,
    "start_time": "2024-11-05T11:06:51.095Z"
   },
   {
    "duration": 54,
    "start_time": "2024-11-05T11:06:53.377Z"
   },
   {
    "duration": 5,
    "start_time": "2024-11-05T11:07:28.961Z"
   },
   {
    "duration": 31,
    "start_time": "2024-11-05T11:07:31.415Z"
   },
   {
    "duration": 4,
    "start_time": "2024-11-05T11:07:47.023Z"
   },
   {
    "duration": 26,
    "start_time": "2024-11-05T11:07:49.014Z"
   },
   {
    "duration": 16,
    "start_time": "2024-11-05T11:08:28.021Z"
   },
   {
    "duration": 6,
    "start_time": "2024-11-05T11:08:40.374Z"
   },
   {
    "duration": 11,
    "start_time": "2024-11-05T11:08:50.333Z"
   },
   {
    "duration": 6,
    "start_time": "2024-11-05T11:09:00.165Z"
   },
   {
    "duration": 11,
    "start_time": "2024-11-05T11:09:07.949Z"
   },
   {
    "duration": 7,
    "start_time": "2024-11-05T11:09:18.739Z"
   },
   {
    "duration": 3,
    "start_time": "2024-11-05T11:09:41.700Z"
   },
   {
    "duration": 3,
    "start_time": "2024-11-05T11:09:45.396Z"
   },
   {
    "duration": 52,
    "start_time": "2024-11-05T11:09:49.091Z"
   },
   {
    "duration": 3,
    "start_time": "2024-11-05T11:10:13.716Z"
   },
   {
    "duration": 1706,
    "start_time": "2024-11-05T11:12:04.825Z"
   },
   {
    "duration": 1628,
    "start_time": "2024-11-05T11:12:20.368Z"
   },
   {
    "duration": 16316,
    "start_time": "2024-11-05T11:12:46.656Z"
   },
   {
    "duration": 5,
    "start_time": "2024-11-05T11:13:31.607Z"
   },
   {
    "duration": 3698,
    "start_time": "2024-11-05T11:14:19.221Z"
   },
   {
    "duration": 3549,
    "start_time": "2024-11-05T11:14:28.804Z"
   },
   {
    "duration": 4,
    "start_time": "2024-11-05T11:14:34.181Z"
   },
   {
    "duration": 4,
    "start_time": "2024-11-05T11:14:38.971Z"
   },
   {
    "duration": 4,
    "start_time": "2024-11-05T11:14:42.493Z"
   },
   {
    "duration": 4,
    "start_time": "2024-11-05T11:14:50.205Z"
   },
   {
    "duration": 3447,
    "start_time": "2024-11-05T11:14:52.115Z"
   },
   {
    "duration": 3478,
    "start_time": "2024-11-05T11:14:58.284Z"
   },
   {
    "duration": 5,
    "start_time": "2024-11-05T11:15:03.228Z"
   },
   {
    "duration": 17,
    "start_time": "2024-11-05T11:15:06.076Z"
   },
   {
    "duration": 1012,
    "start_time": "2024-11-05T11:15:21.884Z"
   },
   {
    "duration": 85947,
    "start_time": "2024-11-05T11:16:03.506Z"
   },
   {
    "duration": 1920,
    "start_time": "2024-11-05T11:19:14.295Z"
   },
   {
    "duration": 364359,
    "start_time": "2024-11-05T11:19:35.702Z"
   },
   {
    "duration": 4,
    "start_time": "2024-11-05T11:25:46.838Z"
   },
   {
    "duration": 2532,
    "start_time": "2024-11-05T11:25:53.685Z"
   },
   {
    "duration": 9189,
    "start_time": "2024-11-05T11:26:21.788Z"
   },
   {
    "duration": 4,
    "start_time": "2024-11-05T11:26:33.643Z"
   },
   {
    "duration": 1637,
    "start_time": "2024-11-05T11:26:42.987Z"
   },
   {
    "duration": 7310,
    "start_time": "2024-11-05T11:27:03.411Z"
   },
   {
    "duration": 1639,
    "start_time": "2024-11-05T11:27:20.204Z"
   },
   {
    "duration": 3767,
    "start_time": "2024-11-05T11:27:47.627Z"
   },
   {
    "duration": 3490,
    "start_time": "2024-11-05T11:28:04.955Z"
   },
   {
    "duration": 1663,
    "start_time": "2024-11-05T11:28:24.312Z"
   },
   {
    "duration": 66,
    "start_time": "2024-11-05T11:30:38.142Z"
   },
   {
    "duration": 31,
    "start_time": "2024-11-05T11:30:50.237Z"
   },
   {
    "duration": 6,
    "start_time": "2024-11-05T11:31:34.285Z"
   },
   {
    "duration": 31702,
    "start_time": "2024-11-05T11:32:15.108Z"
   },
   {
    "duration": 1510,
    "start_time": "2024-11-05T11:32:53.953Z"
   },
   {
    "duration": 2814,
    "start_time": "2024-11-05T11:33:17.066Z"
   },
   {
    "duration": 219120,
    "start_time": "2024-11-05T11:33:31.769Z"
   },
   {
    "duration": 42,
    "start_time": "2024-11-05T11:37:15.309Z"
   },
   {
    "duration": 1496,
    "start_time": "2024-11-05T11:37:28.595Z"
   },
   {
    "duration": 3463,
    "start_time": "2024-11-05T11:38:05.307Z"
   },
   {
    "duration": 10444,
    "start_time": "2024-11-05T11:38:14.658Z"
   },
   {
    "duration": 247,
    "start_time": "2024-11-05T11:38:28.058Z"
   },
   {
    "duration": 8498,
    "start_time": "2024-11-05T11:38:59.153Z"
   },
   {
    "duration": 4477,
    "start_time": "2024-11-05T11:39:15.786Z"
   },
   {
    "duration": 3417,
    "start_time": "2024-11-05T11:39:38.970Z"
   },
   {
    "duration": 3947,
    "start_time": "2024-11-05T11:39:50.553Z"
   },
   {
    "duration": 2845,
    "start_time": "2024-11-05T11:39:58.617Z"
   },
   {
    "duration": 1279,
    "start_time": "2024-11-05T11:40:15.696Z"
   },
   {
    "duration": 6949,
    "start_time": "2024-11-05T11:40:22.120Z"
   },
   {
    "duration": 1344,
    "start_time": "2024-11-05T11:40:42.256Z"
   },
   {
    "duration": 6864,
    "start_time": "2024-11-05T11:40:53.951Z"
   },
   {
    "duration": 1970,
    "start_time": "2024-11-05T11:41:07.823Z"
   },
   {
    "duration": 4,
    "start_time": "2024-11-05T11:41:13.061Z"
   },
   {
    "duration": 6,
    "start_time": "2024-11-05T11:41:14.350Z"
   },
   {
    "duration": 4,
    "start_time": "2024-11-05T11:41:19.684Z"
   },
   {
    "duration": 23,
    "start_time": "2024-11-05T11:41:19.691Z"
   },
   {
    "duration": 7,
    "start_time": "2024-11-05T11:41:19.716Z"
   },
   {
    "duration": 11,
    "start_time": "2024-11-05T11:41:19.726Z"
   },
   {
    "duration": 419,
    "start_time": "2024-11-05T11:41:19.739Z"
   },
   {
    "duration": 433,
    "start_time": "2024-11-05T11:41:20.160Z"
   },
   {
    "duration": 461,
    "start_time": "2024-11-05T11:41:20.596Z"
   },
   {
    "duration": 105,
    "start_time": "2024-11-05T11:41:21.059Z"
   },
   {
    "duration": 76,
    "start_time": "2024-11-05T11:41:21.166Z"
   },
   {
    "duration": 99,
    "start_time": "2024-11-05T11:41:21.247Z"
   },
   {
    "duration": 15,
    "start_time": "2024-11-05T11:41:21.349Z"
   },
   {
    "duration": 1674,
    "start_time": "2024-11-05T11:41:21.367Z"
   },
   {
    "duration": 1991,
    "start_time": "2024-11-05T11:41:23.044Z"
   },
   {
    "duration": 77,
    "start_time": "2024-11-05T11:41:25.037Z"
   },
   {
    "duration": 22,
    "start_time": "2024-11-05T11:41:25.116Z"
   },
   {
    "duration": 1758,
    "start_time": "2024-11-05T11:41:25.140Z"
   },
   {
    "duration": 5,
    "start_time": "2024-11-05T11:41:26.901Z"
   },
   {
    "duration": 21,
    "start_time": "2024-11-05T11:41:26.908Z"
   },
   {
    "duration": 28,
    "start_time": "2024-11-05T11:41:26.931Z"
   },
   {
    "duration": 23,
    "start_time": "2024-11-05T11:41:26.961Z"
   },
   {
    "duration": 26,
    "start_time": "2024-11-05T11:41:26.985Z"
   },
   {
    "duration": 5,
    "start_time": "2024-11-05T11:41:27.013Z"
   },
   {
    "duration": 8,
    "start_time": "2024-11-05T11:41:27.020Z"
   },
   {
    "duration": 8,
    "start_time": "2024-11-05T11:41:27.030Z"
   },
   {
    "duration": 12,
    "start_time": "2024-11-05T11:41:27.039Z"
   },
   {
    "duration": 48,
    "start_time": "2024-11-05T11:41:27.053Z"
   },
   {
    "duration": 98,
    "start_time": "2024-11-05T11:41:27.106Z"
   },
   {
    "duration": 90,
    "start_time": "2024-11-05T11:41:27.209Z"
   },
   {
    "duration": 101,
    "start_time": "2024-11-05T11:41:27.302Z"
   },
   {
    "duration": 6,
    "start_time": "2024-11-05T11:41:27.405Z"
   },
   {
    "duration": 92,
    "start_time": "2024-11-05T11:41:27.414Z"
   },
   {
    "duration": 88,
    "start_time": "2024-11-05T11:41:27.512Z"
   },
   {
    "duration": 82,
    "start_time": "2024-11-05T11:41:27.602Z"
   },
   {
    "duration": 3,
    "start_time": "2024-11-05T11:42:45.876Z"
   },
   {
    "duration": 3,
    "start_time": "2024-11-05T11:43:04.276Z"
   },
   {
    "duration": 5,
    "start_time": "2024-11-05T11:43:07.499Z"
   },
   {
    "duration": 6,
    "start_time": "2024-11-05T11:43:25.611Z"
   },
   {
    "duration": 5,
    "start_time": "2024-11-05T12:22:40.211Z"
   },
   {
    "duration": 4,
    "start_time": "2024-11-05T12:22:56.425Z"
   },
   {
    "duration": 5,
    "start_time": "2024-11-05T12:23:05.601Z"
   },
   {
    "duration": 1394,
    "start_time": "2024-11-05T12:23:13.896Z"
   },
   {
    "duration": 1460,
    "start_time": "2024-11-05T12:23:26.072Z"
   },
   {
    "duration": 1386,
    "start_time": "2024-11-05T12:23:29.496Z"
   },
   {
    "duration": 3,
    "start_time": "2024-11-05T12:23:43.928Z"
   },
   {
    "duration": 4,
    "start_time": "2024-11-05T12:23:48.016Z"
   },
   {
    "duration": 8,
    "start_time": "2024-11-05T12:23:51.944Z"
   },
   {
    "duration": 12,
    "start_time": "2024-11-05T12:23:56.256Z"
   },
   {
    "duration": 1824,
    "start_time": "2024-11-05T12:28:35.046Z"
   },
   {
    "duration": 3,
    "start_time": "2024-11-05T12:28:36.872Z"
   },
   {
    "duration": 48,
    "start_time": "2024-11-05T12:28:36.877Z"
   },
   {
    "duration": 29,
    "start_time": "2024-11-05T12:28:36.928Z"
   },
   {
    "duration": 469,
    "start_time": "2024-11-05T12:28:36.959Z"
   },
   {
    "duration": 390,
    "start_time": "2024-11-05T12:28:37.430Z"
   },
   {
    "duration": 431,
    "start_time": "2024-11-05T12:28:37.822Z"
   },
   {
    "duration": 88,
    "start_time": "2024-11-05T12:28:38.255Z"
   },
   {
    "duration": 89,
    "start_time": "2024-11-05T12:28:38.345Z"
   },
   {
    "duration": 111,
    "start_time": "2024-11-05T12:28:38.438Z"
   },
   {
    "duration": 12,
    "start_time": "2024-11-05T12:28:38.552Z"
   },
   {
    "duration": 1666,
    "start_time": "2024-11-05T12:28:38.566Z"
   },
   {
    "duration": 1664,
    "start_time": "2024-11-05T12:28:40.234Z"
   },
   {
    "duration": 19,
    "start_time": "2024-11-05T12:28:41.900Z"
   },
   {
    "duration": 17,
    "start_time": "2024-11-05T12:28:41.921Z"
   },
   {
    "duration": 1643,
    "start_time": "2024-11-05T12:28:41.941Z"
   },
   {
    "duration": 6,
    "start_time": "2024-11-05T12:28:43.586Z"
   },
   {
    "duration": 32,
    "start_time": "2024-11-05T12:28:43.593Z"
   },
   {
    "duration": 22,
    "start_time": "2024-11-05T12:28:43.628Z"
   },
   {
    "duration": 22,
    "start_time": "2024-11-05T12:28:43.653Z"
   },
   {
    "duration": 28,
    "start_time": "2024-11-05T12:28:43.677Z"
   },
   {
    "duration": 6,
    "start_time": "2024-11-05T12:28:43.707Z"
   },
   {
    "duration": 13,
    "start_time": "2024-11-05T12:28:43.715Z"
   },
   {
    "duration": 17,
    "start_time": "2024-11-05T12:28:43.731Z"
   },
   {
    "duration": 13,
    "start_time": "2024-11-05T12:28:43.751Z"
   },
   {
    "duration": 35,
    "start_time": "2024-11-05T12:28:43.767Z"
   },
   {
    "duration": 105,
    "start_time": "2024-11-05T12:28:43.805Z"
   },
   {
    "duration": 83,
    "start_time": "2024-11-05T12:28:43.915Z"
   },
   {
    "duration": 109,
    "start_time": "2024-11-05T12:28:44.002Z"
   },
   {
    "duration": 11,
    "start_time": "2024-11-05T12:28:44.113Z"
   },
   {
    "duration": 4,
    "start_time": "2024-11-05T12:28:44.199Z"
   },
   {
    "duration": 96,
    "start_time": "2024-11-05T12:28:44.206Z"
   },
   {
    "duration": 70,
    "start_time": "2024-11-05T12:28:44.304Z"
   },
   {
    "duration": 4,
    "start_time": "2024-11-05T12:28:44.377Z"
   },
   {
    "duration": 16,
    "start_time": "2024-11-05T12:28:44.383Z"
   },
   {
    "duration": 6,
    "start_time": "2024-11-05T12:28:44.400Z"
   },
   {
    "duration": 5,
    "start_time": "2024-11-05T12:28:44.408Z"
   },
   {
    "duration": 7,
    "start_time": "2024-11-05T12:28:44.414Z"
   },
   {
    "duration": 8,
    "start_time": "2024-11-05T12:28:44.423Z"
   },
   {
    "duration": 1464,
    "start_time": "2024-11-05T12:28:44.433Z"
   },
   {
    "duration": 1568,
    "start_time": "2024-11-05T12:28:45.900Z"
   },
   {
    "duration": 1480,
    "start_time": "2024-11-05T12:28:47.471Z"
   },
   {
    "duration": 4,
    "start_time": "2024-11-05T12:28:48.953Z"
   },
   {
    "duration": 6,
    "start_time": "2024-11-05T12:28:48.959Z"
   },
   {
    "duration": 15,
    "start_time": "2024-11-05T12:28:48.967Z"
   },
   {
    "duration": 30,
    "start_time": "2024-11-05T12:28:48.984Z"
   },
   {
    "duration": 5,
    "start_time": "2024-11-05T12:30:19.432Z"
   }
  ],
  "kernelspec": {
   "display_name": "Python 3 (ipykernel)",
   "language": "python",
   "name": "python3"
  },
  "language_info": {
   "codemirror_mode": {
    "name": "ipython",
    "version": 3
   },
   "file_extension": ".py",
   "mimetype": "text/x-python",
   "name": "python",
   "nbconvert_exporter": "python",
   "pygments_lexer": "ipython3",
   "version": "3.11.7"
  },
  "toc": {
   "base_numbering": 1,
   "nav_menu": {},
   "number_sections": true,
   "sideBar": true,
   "skip_h1_title": true,
   "title_cell": "Table of Contents",
   "title_sidebar": "Contents",
   "toc_cell": false,
   "toc_position": {
    "height": "calc(100% - 180px)",
    "left": "10px",
    "top": "150px",
    "width": "384px"
   },
   "toc_section_display": true,
   "toc_window_display": true
  }
 },
 "nbformat": 4,
 "nbformat_minor": 2
}
